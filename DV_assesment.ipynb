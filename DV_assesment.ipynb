{
 "cells": [
  {
   "cell_type": "markdown",
   "metadata": {},
   "source": [
    "First, we will list and import all the libraries that will be used for this data analyzisis report."
   ]
  },
  {
   "cell_type": "code",
   "execution_count": 149,
   "metadata": {},
   "outputs": [],
   "source": [
    "import pandas as pd\n",
    "import os\n"
   ]
  },
  {
   "cell_type": "markdown",
   "metadata": {},
   "source": [
    "To make sure the implementation of OS (crucial library in our path referencing internally). We will run the following command which will provide the existing datasets in the 'Dataset' folder."
   ]
  },
  {
   "cell_type": "code",
   "execution_count": 150,
   "metadata": {},
   "outputs": [
    {
     "name": "stdout",
     "output_type": "stream",
     "text": [
      "['coffee.csv', 'gamers.csv', 'smokingEU.csv', 'studentEnrol.csv', 'studentPF.csv', 'studentsEnrolment.csv']\n"
     ]
    }
   ],
   "source": [
    "print(os.listdir('Datasets'))"
   ]
  },
  {
   "cell_type": "markdown",
   "metadata": {},
   "source": []
  },
  {
   "cell_type": "code",
   "execution_count": 151,
   "metadata": {},
   "outputs": [],
   "source": [
    "# Importing the CSV files\n",
    "coffee_df = pd.read_csv('Datasets/coffee.csv')\n",
    "smokingEU_df = pd.read_csv('Datasets/smokingEU.csv')\n",
    "studentsEnrol_df = pd.read_csv('Datasets/studentEnrol.csv')\n",
    "studentsPF_df = pd.read_csv('Datasets/studentPF.csv')"
   ]
  },
  {
   "cell_type": "markdown",
   "metadata": {},
   "source": [
    "Display all the datasets head (first 5 columns)"
   ]
  },
  {
   "cell_type": "code",
   "execution_count": 152,
   "metadata": {},
   "outputs": [
    {
     "name": "stdout",
     "output_type": "stream",
     "text": [
      "Coffee DataFrame:\n",
      "               country  coffeeConsumptionByCountry_perCapitaCons2020  \\\n",
      "0              Albania                                          4.51   \n",
      "1              Algeria                                          0.97   \n",
      "2               Angola                                          0.33   \n",
      "3  Antigua and Barbuda                                          6.07   \n",
      "4            Argentina                                          2.32   \n",
      "\n",
      "   coffeeConsumptionByCountry_perCapitaCons2016  \n",
      "0                                           NaN  \n",
      "1                                           NaN  \n",
      "2                                           NaN  \n",
      "3                                           NaN  \n",
      "4                                           NaN   \n",
      "\n"
     ]
    }
   ],
   "source": [
    "print(\"Coffee DataFrame:\")\n",
    "print(coffee_df.head(), \"\\n\")"
   ]
  },
  {
   "cell_type": "code",
   "execution_count": 153,
   "metadata": {},
   "outputs": [
    {
     "name": "stdout",
     "output_type": "stream",
     "text": [
      "Smoking EU DataFrame:\n",
      "                            SMOKING (Labels) Total  Unnamed: 2  \\\n",
      "0                               GEO (Labels)   NaN         NaN   \n",
      "1  European Union - 27 countries (from 2020)  18.4         NaN   \n",
      "2  European Union - 28 countries (2013-2020)     :         NaN   \n",
      "3                                    Belgium  14.6         NaN   \n",
      "4                                   Bulgaria  28.7         NaN   \n",
      "\n",
      "  Less than 20 cigarettes per day Unnamed: 4 20 or more cigarettes per day  \\\n",
      "0                             NaN        NaN                           NaN   \n",
      "1                            12.6        NaN                           5.9   \n",
      "2                               :        NaN                             :   \n",
      "3                             9.7          u                           4.9   \n",
      "4                            15.8        NaN                          12.9   \n",
      "\n",
      "  Unnamed: 6  \n",
      "0        NaN  \n",
      "1        NaN  \n",
      "2        NaN  \n",
      "3          u  \n",
      "4        NaN   \n",
      "\n"
     ]
    }
   ],
   "source": [
    "\n",
    "print(\"Smoking EU DataFrame:\")\n",
    "print(smokingEU_df.head(), \"\\n\")"
   ]
  },
  {
   "cell_type": "code",
   "execution_count": 154,
   "metadata": {},
   "outputs": [
    {
     "name": "stdout",
     "output_type": "stream",
     "text": [
      "Students Enrolment DataFrame:\n",
      "  CAH level marker          CAH level subject Level of study Academic Year  \\\n",
      "0      CAH level 1  01 Medicine and dentistry   First degree       2022/23   \n",
      "1      CAH level 1  01 Medicine and dentistry   First degree       2022/23   \n",
      "2      CAH level 1  01 Medicine and dentistry   First degree       2022/23   \n",
      "3      CAH level 1  01 Medicine and dentistry   First degree       2022/23   \n",
      "4      CAH level 1  01 Medicine and dentistry            All       2022/23   \n",
      "\n",
      "       Sex  Number  \n",
      "0   Female    1200  \n",
      "1     Male     500  \n",
      "2  Unknown       0  \n",
      "3    Total    1705  \n",
      "4   Female    1200   \n",
      "\n"
     ]
    }
   ],
   "source": [
    "print(\"Students Enrolment DataFrame:\")\n",
    "print(studentsEnrol_df.head(), \"\\n\")"
   ]
  },
  {
   "cell_type": "code",
   "execution_count": 155,
   "metadata": {},
   "outputs": [
    {
     "name": "stdout",
     "output_type": "stream",
     "text": [
      "Students PF DataFrame:\n",
      "   Hours_Studied  Attendance Parental_Involvement Access_to_Resources  \\\n",
      "0             23          84                  Low                High   \n",
      "1             19          64                  Low              Medium   \n",
      "2             24          98               Medium              Medium   \n",
      "3             29          89                  Low              Medium   \n",
      "4             19          92               Medium              Medium   \n",
      "\n",
      "  Extracurricular_Activities  Sleep_Hours  Previous_Scores Motivation_Level  \\\n",
      "0                         No            7               73              Low   \n",
      "1                         No            8               59              Low   \n",
      "2                        Yes            7               91           Medium   \n",
      "3                        Yes            8               98           Medium   \n",
      "4                        Yes            6               65           Medium   \n",
      "\n",
      "  Internet_Access  Tutoring_Sessions Family_Income Teacher_Quality  \\\n",
      "0             Yes                  0           Low          Medium   \n",
      "1             Yes                  2        Medium          Medium   \n",
      "2             Yes                  2        Medium          Medium   \n",
      "3             Yes                  1        Medium          Medium   \n",
      "4             Yes                  3        Medium            High   \n",
      "\n",
      "  School_Type Peer_Influence  Physical_Activity Learning_Disabilities  \\\n",
      "0      Public       Positive                  3                    No   \n",
      "1      Public       Negative                  4                    No   \n",
      "2      Public        Neutral                  4                    No   \n",
      "3      Public       Negative                  4                    No   \n",
      "4      Public        Neutral                  4                    No   \n",
      "\n",
      "  Parental_Education_Level Distance_from_Home  Gender  Exam_Score  \n",
      "0              High School               Near    Male          67  \n",
      "1                  College           Moderate  Female          61  \n",
      "2             Postgraduate               Near    Male          74  \n",
      "3              High School           Moderate    Male          71  \n",
      "4                  College               Near  Female          70   \n",
      "\n"
     ]
    }
   ],
   "source": [
    "print(\"Students PF DataFrame:\")\n",
    "print(studentsPF_df.head(), \"\\n\")"
   ]
  },
  {
   "cell_type": "markdown",
   "metadata": {},
   "source": [
    "Print collumn headers or features"
   ]
  },
  {
   "cell_type": "code",
   "execution_count": 156,
   "metadata": {},
   "outputs": [
    {
     "name": "stdout",
     "output_type": "stream",
     "text": [
      "smokingEU columns: ['SMOKING (Labels)', 'Total', 'Unnamed: 2', 'Less than 20 cigarettes per day', 'Unnamed: 4', '20 or more cigarettes per day', 'Unnamed: 6'] \n",
      "\n",
      "studentPF columns: ['Hours_Studied', 'Attendance', 'Parental_Involvement', 'Access_to_Resources', 'Extracurricular_Activities', 'Sleep_Hours', 'Previous_Scores', 'Motivation_Level', 'Internet_Access', 'Tutoring_Sessions', 'Family_Income', 'Teacher_Quality', 'School_Type', 'Peer_Influence', 'Physical_Activity', 'Learning_Disabilities', 'Parental_Education_Level', 'Distance_from_Home', 'Gender', 'Exam_Score'] \n",
      "\n",
      "coffee columns: ['country', 'coffeeConsumptionByCountry_perCapitaCons2020', 'coffeeConsumptionByCountry_perCapitaCons2016'] \n",
      "\n",
      "studentEnrol columns: ['CAH level marker', 'CAH level subject', 'Level of study', 'Academic Year', 'Sex', 'Number'] \n",
      "\n"
     ]
    }
   ],
   "source": [
    "# Print the column headers for each dataset\n",
    "print(\"smokingEU columns:\", smokingEU_df.columns.tolist(), \"\\n\")\n",
    "print(\"studentPF columns:\", studentsPF_df.columns.tolist(), \"\\n\")\n",
    "print(\"coffee columns:\", coffee_df.columns.tolist(), \"\\n\")\n",
    "print(\"studentEnrol columns:\", studentsEnrol_df.columns.tolist(), \"\\n\")\n"
   ]
  },
  {
   "cell_type": "markdown",
   "metadata": {},
   "source": [
    "*Cleaning data:*\n",
    "\n",
    "Smoking_df:\n",
    "First we will trim the first 3 rows of Smoking_df since they don't contain countries information and then we will remove unnecesary columns and rename usable ones"
   ]
  },
  {
   "cell_type": "code",
   "execution_count": 157,
   "metadata": {},
   "outputs": [
    {
     "name": "stdout",
     "output_type": "stream",
     "text": [
      "                            SMOKING (Labels) Total  Unnamed: 2  \\\n",
      "0                               GEO (Labels)   NaN         NaN   \n",
      "1  European Union - 27 countries (from 2020)  18.4         NaN   \n",
      "2  European Union - 28 countries (2013-2020)     :         NaN   \n",
      "\n",
      "  Less than 20 cigarettes per day Unnamed: 4 20 or more cigarettes per day  \\\n",
      "0                             NaN        NaN                           NaN   \n",
      "1                            12.6        NaN                           5.9   \n",
      "2                               :        NaN                             :   \n",
      "\n",
      "  Unnamed: 6  \n",
      "0        NaN  \n",
      "1        NaN  \n",
      "2        NaN   \n",
      "\n",
      "New Smoking EU DataFrame:\n",
      "  SMOKING (Labels) Total  Unnamed: 2 Less than 20 cigarettes per day  \\\n",
      "0          Belgium  14.6         NaN                             9.7   \n",
      "1         Bulgaria  28.7         NaN                            15.8   \n",
      "2          Czechia  19.3         NaN                            13.9   \n",
      "3          Denmark  11.7         NaN                             8.6   \n",
      "4          Germany  21.9         NaN                            14.1   \n",
      "\n",
      "  Unnamed: 4 20 or more cigarettes per day Unnamed: 6  \n",
      "0          u                           4.9          u  \n",
      "1        NaN                          12.9        NaN  \n",
      "2        NaN                           5.4        NaN  \n",
      "3        NaN                           3.1        NaN  \n",
      "4        NaN                           7.8        NaN   \n",
      "\n"
     ]
    }
   ],
   "source": [
    "#Columns we will remove:\n",
    "print(smokingEU_df.head(3), \"\\n\")\n",
    "\n",
    "# Remove rows 1, 2 and 3 from 'smokingEU' dataset\n",
    "smokingEU_df_cleaned = smokingEU_df.drop([0, 1, 2]).reset_index(drop=True)\n",
    "\n",
    "print(\"New Smoking EU DataFrame:\")\n",
    "print(smokingEU_df_cleaned.head(), \"\\n\")"
   ]
  },
  {
   "cell_type": "code",
   "execution_count": 158,
   "metadata": {},
   "outputs": [
    {
     "name": "stdout",
     "output_type": "stream",
     "text": [
      "         Total Light Smokers Heavy Smokers\n",
      "country                                   \n",
      "Belgium   14.6           9.7           4.9\n",
      "Bulgaria  28.7          15.8          12.9\n",
      "Czechia   19.3          13.9           5.4\n",
      "Denmark   11.7           8.6           3.1\n",
      "Germany   21.9          14.1           7.8\n"
     ]
    }
   ],
   "source": [
    "# Rename the specified columns\n",
    "smokingEU_df_cleaned = smokingEU_df_cleaned.rename(columns={\n",
    "    'SMOKING (Labels)': 'country',\n",
    "    'Less than 20 cigarettes per day': 'Light Smokers',\n",
    "    '20 or more cigarettes per day': 'Heavy Smokers'\n",
    "})\n",
    "\n",
    "# Select only the required columns\n",
    "smokingEU_df_cleaned = smokingEU_df_cleaned[['country', 'Total', 'Light Smokers', 'Heavy Smokers']]\n",
    "\n",
    "# Set 'country' as the index\n",
    "smokingEU_df_cleaned = smokingEU_df_cleaned.set_index('country')\n",
    "\n",
    "# Optionally, print the modified DataFrame to verify changes\n",
    "print(smokingEU_df_cleaned.head())"
   ]
  },
  {
   "cell_type": "markdown",
   "metadata": {},
   "source": [
    "Coffee_df:\n",
    "Now to clear this dataset we will. Set 'countries' as the dataset index,rename the second column to a simpler name and remove the 2016 irrlevant data"
   ]
  },
  {
   "cell_type": "code",
   "execution_count": 159,
   "metadata": {},
   "outputs": [
    {
     "name": "stdout",
     "output_type": "stream",
     "text": [
      "                     Coffee per capita (KG)\n",
      "country                                    \n",
      "Albania                                4.51\n",
      "Algeria                                0.97\n",
      "Angola                                 0.33\n",
      "Antigua and Barbuda                    6.07\n",
      "Argentina                              2.32\n"
     ]
    }
   ],
   "source": [
    "# Set 'country' as the index\n",
    "coffee_df_cleaned = coffee_df.set_index('country')\n",
    "\n",
    "# Rename the specified columns\n",
    "coffee_df_cleaned = coffee_df_cleaned.rename(columns={\n",
    "    'coffeeConsumptionByCountry_perCapitaCons2020': 'Coffee per capita (KG)'\n",
    "})\n",
    "\n",
    "# Select only the required columns\n",
    "coffee_df_cleaned = coffee_df_cleaned[['Coffee per capita (KG)']]\n",
    "print(coffee_df_cleaned.head())\n"
   ]
  }
 ],
 "metadata": {
  "kernelspec": {
   "display_name": "Python 3",
   "language": "python",
   "name": "python3"
  },
  "language_info": {
   "codemirror_mode": {
    "name": "ipython",
    "version": 3
   },
   "file_extension": ".py",
   "mimetype": "text/x-python",
   "name": "python",
   "nbconvert_exporter": "python",
   "pygments_lexer": "ipython3",
   "version": "3.12.5"
  }
 },
 "nbformat": 4,
 "nbformat_minor": 2
}
