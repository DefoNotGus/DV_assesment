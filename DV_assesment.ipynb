{
 "cells": [
  {
   "cell_type": "markdown",
   "metadata": {},
   "source": [
    "# Bad habits vs Education\n",
    "This guided project explores whether there is a connection between the student population and \"bad\" habits or behaviors that may negatively impact health. The habits under study are:\n",
    "- Coffee addiction\n",
    "- Smoking\n",
    "- Video game addiction\n",
    "\n",
    "It is important to note that, due to a lack of recent research and available data on these topics, the data sources used in this project range from 2019 to 2020."
   ]
  },
  {
   "cell_type": "markdown",
   "metadata": {},
   "source": [
    "#### Slideshow controls:\n",
    "*Press the `'↓'` key* when available on the bottom-right side of your screen. \n",
    "\n",
    "*Press the `'→'` key* When `'↓'` is not available."
   ]
  },
  {
   "cell_type": "code",
   "execution_count": 339,
   "metadata": {
    "slideshow": {
     "slide_type": "skip"
    }
   },
   "outputs": [],
   "source": [
    "import pandas as pd #For reading and handling CSV files.\n",
    "import numpy as np  # For numerical operations and handling missing values.\n",
    "import matplotlib.pyplot as plt  # For creating basic visualizations.\n",
    "import seaborn as sns  # For advanced data visualization used in the infographic.\n",
    "from IPython.display import Image, display, clear_output, HTML # Used to display images not generated in this notebook\n",
    "from tabulate import tabulate # This beauty lets us create smooth table style outputs in terminal\n",
    "import ipywidgets as widgets # This great tool lets use code into our notebook to make quick displays and customizations"
   ]
  },
  {
   "cell_type": "markdown",
   "metadata": {
    "slideshow": {
     "slide_type": "subslide"
    }
   },
   "source": [
    "## Content:\n",
    "1. Introduction.\n",
    "2. Load Data.\n",
    "3. Visualization Plan.\n",
    "4. Loading & Cleaning Data\n",
    "\n",
    "Also feel free to visit **https://github.com/DefoNotGus/DV_assesment** To find the project's notebook"
   ]
  },
  {
   "cell_type": "markdown",
   "metadata": {
    "slideshow": {
     "slide_type": "subslide"
    }
   },
   "source": [
    "### Is there a relationship between habits and education? \n",
    "\n",
    "By examining the demographic factors associated with these habits and their prevalence in different cultures, the project aims to uncover potential links between these behaviors and the student population. Such insights could help society understand whether these harmful or misused habits are directly related to the stress faced by higher education students, highlighting the need to restructure education programs in regions where these addictions are more prevalent."
   ]
  },
  {
   "cell_type": "markdown",
   "metadata": {},
   "source": [
    "<div style=\"text-align: center;\">\n",
    "  <img src=\"img/img1.png\" alt=\"Image\" style=\"width:300px;\">\n",
    "</div>"
   ]
  },
  {
   "cell_type": "markdown",
   "metadata": {
    "slideshow": {
     "slide_type": "slide"
    }
   },
   "source": [
    "# Data Description."
   ]
  },
  {
   "cell_type": "markdown",
   "metadata": {
    "slideshow": {
     "slide_type": "subslide"
    }
   },
   "source": [
    "## The datasets used to study the habits are:\n",
    "\n",
    "1. **Coffee Consumption Dataset**: Lists coffee consumption by country with extensive coverage.\n",
    "- **Source**: [Kaggle](https://www.kaggle.com/datasets/nurielreuven/coffee-consumption-by-country-2022/data) \n",
    "- **Size**: 182 rows and 3 columns\n",
    "- **Domain**: Healthcare and Marketing\n",
    "2. **Smoking Rates Dataset**: Provides a chronological overview of smoking rates in many countries, sourced via a Google search.\n",
    "- **Source**: [World Population Review](https://worldpopulationreview.com/country-rankings/smoking-rates-by-country)  \n",
    "- **Size**: 164 rows and 10 columns\n",
    "- **Domain**: Healthcare\n",
    "3. **Gamers Market Dataset**: Compiles 2019 gaming market overview in many countries, offering chronological alignment with the other datasets. Data Scraping  techniques used.\n",
    "- **Source**: [Allcorrect Games](https://allcorrectgames.com/insights/a-global-research-of-2019-games-market/)  \n",
    "- **Size**: 29 rows and 8 columns\n",
    "- **Domain**: Marketing and Videogames"
   ]
  },
  {
   "cell_type": "markdown",
   "metadata": {
    "slideshow": {
     "slide_type": "subslide"
    }
   },
   "source": [
    "## The datasets used to analyze students and enrollment data are:  \n",
    "\n",
    "1. **Education Statistics Dataset**: A massive dataset with student enrollment data by region, sourced using the World Bank DataBank tool.  \n",
    "- **Source**: [World Bank](https://databank.worldbank.org/indicator/)  \n",
    "- **Size**: 197235 rows and 8 columns\n",
    "- **Domain**: Education\n",
    "2. **Students Dataset**: Provides country-specific enrollment data filtered to align with the habits datasets, sourced from the OECD Data Explorer.  \n",
    "- **Source**: [OECD Data Explorer](https://data-explorer.oecd.org/)  \n",
    "- **Size**: 56 rows 26 columns\n",
    "- **Domain**: Education"
   ]
  },
  {
   "cell_type": "markdown",
   "metadata": {
    "slideshow": {
     "slide_type": "slide"
    }
   },
   "source": [
    "# Visualization Plan."
   ]
  },
  {
   "cell_type": "markdown",
   "metadata": {
    "slideshow": {
     "slide_type": "fragment"
    }
   },
   "source": [
    "This project aims to generate a visual correlation between bad habits and education and analyze factors contributing to certain addictions using python as the tool for data handling. The approach involves, exploring and procesing data, Gathering the relevant data for visualization techniques. Creating an infographic that visually represents addiction patterns in relation to gender, geographic, and academic factors. Canva is the tool chosen for the design of the infographic and the draft."
   ]
  },
  {
   "cell_type": "markdown",
   "metadata": {
    "slideshow": {
     "slide_type": "subslide"
    }
   },
   "source": [
    "## Key Variables:\n",
    "- Country: Countries where the data was gathered, This will be our index for certain datasets.\n",
    "- Coffee consumption per capita (2020): The amount of coffee divided by the population, basically the amount of coffee \"per head\" in Kilograms.\n",
    "- Smokig Rates (2020): The porcentage of population that smokes of each country listed.  \n",
    "- Smokig Rates (2020) Male: The porcentage of male population that smokes of each country listed.  \n",
    "- Smokig Rates (2020)Female: The porcentage of female population that smokes of each country listed.  \n",
    "- Gamers (2019): The number of gamers per country in millions.\n",
    "- Students per region (2020): Number of enrolled students per region.\n",
    "- Students per country (2020): Number of enrolled students per Country."
   ]
  },
  {
   "cell_type": "markdown",
   "metadata": {
    "slideshow": {
     "slide_type": "subslide"
    }
   },
   "source": [
    "## Visualizations: \n",
    "Since the data to visualize is mainly comparative the plots to implement will be: \n",
    "- Bar charts\n",
    "- Line graphs\n",
    "- Column charts\n",
    "- Heatmaps\n",
    "- Pie chart\n",
    "- Stack bar chart\n",
    "- Area chart"
   ]
  },
  {
   "cell_type": "markdown",
   "metadata": {
    "slideshow": {
     "slide_type": "subslide"
    }
   },
   "source": [
    "## Accesibility, Accuracy and presentation:\n",
    "\n",
    "This project will follow up the following considerations to provide accesibility and avoid missleading data:\n",
    "- Use readable fonts and sufficient text size.\n",
    "- Include legends and labels for clarity and provide alternative text for charts.\n",
    "- Ensure colorblind-friendly palettes (Only one graph has red-greens contrast, but the legend is there to help and guide).\n",
    "- Normalize data for fair comparisons.\n",
    "- Avoid cherry-picking data and present outliers and anomalies transparently.\n",
    "- Clarify causation vs. correlation to avoid misinterpretation.\n",
    "- Make the data and the code open source to enable users to make their own visualizations and research.\n",
    "- Present a neat and clear format for the infographic like shown below (Click for fullscreen):\n",
    " "
   ]
  },
  {
   "cell_type": "markdown",
   "metadata": {},
   "source": [
    "<div style=\"text-align: center;\">\n",
    "  <img src=\"img/Draft.png\" alt=\"Image\" style=\"width:300px; cursor: pointer;\" onclick=\"openFullscreen(this)\">\n",
    "</div>\n",
    "\n",
    "<script>\n",
    "  function openFullscreen(img) {\n",
    "    const fullscreen = document.createElement('div');\n",
    "    fullscreen.style.position = 'fixed';\n",
    "    fullscreen.style.top = '0';\n",
    "    fullscreen.style.left = '0';\n",
    "    fullscreen.style.width = '100%';\n",
    "    fullscreen.style.height = '100%';\n",
    "    fullscreen.style.background = 'rgba(0, 0, 0, 0.8)';\n",
    "    fullscreen.style.display = 'flex';\n",
    "    fullscreen.style.alignItems = 'center';\n",
    "    fullscreen.style.justifyContent = 'center';\n",
    "    fullscreen.style.zIndex = '9999';\n",
    "    fullscreen.style.cursor = 'pointer';\n",
    "\n",
    "    const fullscreenImg = document.createElement('img');\n",
    "    fullscreenImg.src = img.src;\n",
    "    fullscreenImg.style.maxWidth = '90%';\n",
    "    fullscreenImg.style.maxHeight = '120%';\n",
    "    fullscreenImg.style.border = '5px solid white';\n",
    "    fullscreen.appendChild(fullscreenImg);\n",
    "\n",
    "    fullscreen.onclick = () => document.body.removeChild(fullscreen);\n",
    "    document.body.appendChild(fullscreen);\n",
    "  }\n",
    "</script>\n"
   ]
  },
  {
   "cell_type": "markdown",
   "metadata": {
    "slideshow": {
     "slide_type": "slide"
    }
   },
   "source": [
    "# Data Loading and Cleaning."
   ]
  },
  {
   "cell_type": "markdown",
   "metadata": {
    "slideshow": {
     "slide_type": "fragment"
    }
   },
   "source": [
    "> The HTML.SLIDESHOW Version will only have snips of code. to see the full implementation check the notebook.\n",
    "\n",
    "Datasets are loaded into variables using `pd.read_csv()` from the Pandas library."
   ]
  },
  {
   "cell_type": "code",
   "execution_count": 340,
   "metadata": {},
   "outputs": [],
   "source": [
    "# Importing the CSV files\n",
    "coffee_df = pd.read_csv('Datasets/coffee.csv')\n",
    "smoking_df = pd.read_csv('Datasets/smoking.csv')\n",
    "gamers_df = pd.read_csv('Datasets/gamers.csv')\n",
    "edstats_df = pd.read_csv('Datasets/edstats.csv')\n",
    "students_df = pd.read_csv('Datasets/students.csv')"
   ]
  },
  {
   "cell_type": "markdown",
   "metadata": {
    "slideshow": {
     "slide_type": "subslide"
    }
   },
   "source": [
    "## Display size and features."
   ]
  },
  {
   "cell_type": "markdown",
   "metadata": {},
   "source": [
    "Now we will display the size, features and data type of each dataframe using the methods `shape()` and `columns.tolist` and arranging them with `Tabulate` as shown below:"
   ]
  },
  {
   "cell_type": "code",
   "execution_count": 341,
   "metadata": {},
   "outputs": [],
   "source": [
    "# Prepare data for each dataframe using a list of title, shape and features.\n",
    "data = [\n",
    "    [\"Coffee DataFrame\", coffee_df.shape[0], coffee_df.shape[1], \", \".join(coffee_df.columns.tolist())],\n",
    "    [\"Smoking DataFrame\", smoking_df.shape[0], smoking_df.shape[1], \", \".join(smoking_df.columns.tolist())],\n",
    "    [\"Gamers DataFrame\", gamers_df.shape[0], gamers_df.shape[1], \", \".join(gamers_df.columns.tolist())],\n",
    "    [\"Students Enrollment DataFrame\", edstats_df.shape[0], edstats_df.shape[1], \", \".join(edstats_df.columns.tolist())],\n",
    "    [\"Students Enrollment by Country DataFrame\", students_df.shape[0], students_df.shape[1], \", \".join(students_df.columns.tolist())]\n",
    "]\n",
    "# Define the table headers\n",
    "headers = [\"DataFrame\", \"Rows\", \"Columns\", \"Features\"]\n",
    "# Generate HTML table using tabulate\n",
    "table_html = tabulate(data, headers=headers, tablefmt=\"html\")\n",
    "# Wrap the table in a div to scale it down and enable scrolling\n",
    "scaled_table_html = f'''\n",
    "<div style=\" max-height: 400px; overflow: auto;\">\n",
    "    {table_html}\n",
    "</div>\n",
    "'''"
   ]
  },
  {
   "cell_type": "code",
   "execution_count": 342,
   "metadata": {
    "slideshow": {
     "slide_type": "subslide"
    }
   },
   "outputs": [
    {
     "data": {
      "text/html": [
       "\n",
       "<div style=\" max-height: 400px; overflow: auto;\">\n",
       "    <table>\n",
       "<thead>\n",
       "<tr><th>DataFrame                               </th><th style=\"text-align: right;\">  Rows</th><th style=\"text-align: right;\">  Columns</th><th>Features                                                                                                                                                                                                                                                                                                                                                                    </th></tr>\n",
       "</thead>\n",
       "<tbody>\n",
       "<tr><td>Coffee DataFrame                        </td><td style=\"text-align: right;\">   182</td><td style=\"text-align: right;\">        3</td><td>country, coffeeConsumptionByCountry_perCapitaCons2020, coffeeConsumptionByCountry_perCapitaCons2016                                                                                                                                                                                                                                                                         </td></tr>\n",
       "<tr><td>Smoking DataFrame                       </td><td style=\"text-align: right;\">   164</td><td style=\"text-align: right;\">       10</td><td>country, smokingRatesByCountry_rateBothPct2022, smokingRatesByCountry_rateMalePct2022, smokingRatesByCountry_rateFemalePct2022, smokingRatesByCountry_rateBothPct2021, smokingRatesByCountry_rateMalePct2021, smokingRatesByCountry_rateFemalePct2021, smokingRatesByCountry_rateBothPct2020, smokingRatesByCountry_rateMalePct2020, smokingRatesByCountry_rateFemalePct2020</td></tr>\n",
       "<tr><td>Gamers DataFrame                        </td><td style=\"text-align: right;\">    29</td><td style=\"text-align: right;\">        8</td><td>№, Country, Games Market Revenue (mln USD), Internet Penetration (%), Number of Gamers (millions), Mobile Market (mln USD), Average Yearly Spending on Mobile Games (USD), EF EPI (English Proficiency Index)                                                                                                                                                               </td></tr>\n",
       "<tr><td>Students Enrollment DataFrame           </td><td style=\"text-align: right;\">197235</td><td style=\"text-align: right;\">        8</td><td>Series, Series Code, Country Name, Country Code, 2019 [YR2019], 2020 [YR2020], 2021 [YR2021], 2022 [YR2022]                                                                                                                                                                                                                                                                 </td></tr>\n",
       "<tr><td>Students Enrollment by Country DataFrame</td><td style=\"text-align: right;\">    52</td><td style=\"text-align: right;\">       26</td><td>STRUCTURE, STRUCTURE_ID, STRUCTURE_NAME, ACTION, LOCATION, Country, INDICATOR, Indicator, SUBJECT, Subject, MEASURE, Measure, FREQUENCY, Frequency, TIME_PERIOD, Time, OBS_VALUE, Observation Value, OBS_STATUS, Observation Status, UNIT_MEASURE, Unit of Measures, UNIT_MULT, Multiplier, BASE_PER, Base reference period                                                 </td></tr>\n",
       "</tbody>\n",
       "</table>\n",
       "</div>\n"
      ],
      "text/plain": [
       "<IPython.core.display.HTML object>"
      ]
     },
     "execution_count": 342,
     "metadata": {},
     "output_type": "execute_result"
    }
   ],
   "source": [
    "# Display the scaled and scrollable HTML table\n",
    "HTML(scaled_table_html)"
   ]
  },
  {
   "cell_type": "markdown",
   "metadata": {
    "slideshow": {
     "slide_type": "slide"
    }
   },
   "source": [
    "# Peeking in Our Data"
   ]
  },
  {
   "cell_type": "markdown",
   "metadata": {
    "slideshow": {
     "slide_type": "fragment"
    }
   },
   "source": [
    "Using `ipywidgets`(library), `Tabulate`, `.head()` and `tail()` (`Pandas` functions) we will display a small version of how every table looks like for error handling purposes.\n",
    "> `ipywidgets` Only available in Jupyter Notebook version"
   ]
  },
  {
   "cell_type": "code",
   "execution_count": 343,
   "metadata": {
    "slideshow": {
     "slide_type": "skip"
    }
   },
   "outputs": [
    {
     "data": {
      "application/vnd.jupyter.widget-view+json": {
       "model_id": "296f668c49774517a2359e164e8d2d77",
       "version_major": 2,
       "version_minor": 0
      },
      "text/plain": [
       "VBox(children=(HBox(children=(IntText(value=5, description='Head Rows:'), IntText(value=5, description='Tail R…"
      ]
     },
     "metadata": {},
     "output_type": "display_data"
    }
   ],
   "source": [
    "\n",
    "descriptions = {\n",
    "    \"coffee\": \"This dataset lists 183 countries' coffee consumption per capita (in kg) for 2020 and 2016, highlighting high-consumption countries.\",\n",
    "    \"smoking\": \"This dataset shows smoking rates by gender in 164 countries (2020–2022), enabling comparisons by country and gender.\",\n",
    "    \"gamers\": \"This dataset covers 29 countries, including gaming revenue, internet penetration, gamer count, mobile market stats, and English proficiency, making it ideal for analyzing gamers by country.\",\n",
    "    \"edstats\": \"This dataset contains extensive data collected per series, not just by country. For this project, we'll focus on analyzing higher education populations by filtering the relevant series.\",\n",
    "    \"students\": \"This dataset shows specific information gathered from a list of selected countries in other datasets. it shows the students enrolment data per level (primary, secundary, terciary and total).\"\n",
    "}\n",
    "\n",
    "# Create the Output widget to display the dataframes and descriptions\n",
    "output = widgets.Output(\n",
    "    layout=widgets.Layout(\n",
    "        max_height=\"400px\", overflow=\"auto\"  # Enables both vertical and horizontal scrolling\n",
    "    )\n",
    ")\n",
    "\n",
    "# Create text input widgets for the user to specify head and tail rows\n",
    "head_input = widgets.IntText(value=5, description='Head Rows:', min=1)\n",
    "tail_input = widgets.IntText(value=5, description='Tail Rows:', min=1)\n",
    "\n",
    "# Function to display head, tail, and description of the dataframe based on user input\n",
    "def display_head_tail(df, description, head_rows, tail_rows):\n",
    "    with output:\n",
    "        clear_output(wait=True)  # Clears previous output\n",
    "        # Display the description as HTML\n",
    "        display(widgets.HTML(f\"<b>{description}</b><br>\"))  # Display the description\n",
    "        # Convert the dataframe to HTML and display it\n",
    "        display(HTML(df.head(head_rows).to_html()))\n",
    "        display(HTML(df.tail(tail_rows).to_html()))\n",
    "\n",
    "# Create the buttons\n",
    "coffee_button = widgets.Button(description=\"Coffee Data\")\n",
    "smoking_button = widgets.Button(description=\"Smoking Data\")\n",
    "gamers_button = widgets.Button(description=\"Gamers Data\")\n",
    "edstats_button = widgets.Button(description=\"Education Stats\")\n",
    "students_button = widgets.Button(description=\"Students Data\")\n",
    "\n",
    "# Function to handle button clicks\n",
    "def on_button_click(button):\n",
    "    # Get the values from the head and tail inputs\n",
    "    head_rows = head_input.value\n",
    "    tail_rows = tail_input.value\n",
    "    \n",
    "    if button == coffee_button:\n",
    "        display_head_tail(coffee_df, descriptions[\"coffee\"], head_rows, tail_rows)\n",
    "    elif button == smoking_button:\n",
    "        display_head_tail(smoking_df, descriptions[\"smoking\"], head_rows, tail_rows)\n",
    "    elif button == gamers_button:\n",
    "        display_head_tail(gamers_df, descriptions[\"gamers\"], head_rows, tail_rows)\n",
    "    elif button == edstats_button:\n",
    "        display_head_tail(edstats_df, descriptions[\"edstats\"], head_rows, tail_rows)\n",
    "    elif button == students_button:\n",
    "        display_head_tail(students_df, descriptions[\"students\"], head_rows, tail_rows)\n",
    "\n",
    "# Attach the function to each button\n",
    "coffee_button.on_click(on_button_click)\n",
    "smoking_button.on_click(on_button_click)\n",
    "gamers_button.on_click(on_button_click)\n",
    "edstats_button.on_click(on_button_click)\n",
    "students_button.on_click(on_button_click)\n",
    "\n",
    "# Layout for horizontal alignment of buttons\n",
    "buttons = widgets.HBox([coffee_button, smoking_button, gamers_button, edstats_button, students_button])\n",
    "# Display the input widgets, buttons, and the output area\n",
    "display(widgets.VBox([widgets.HBox([head_input, tail_input]), buttons, output]))"
   ]
  },
  {
   "cell_type": "markdown",
   "metadata": {
    "slideshow": {
     "slide_type": "skip"
    }
   },
   "source": [
    "The code below is used for improving the GUI in HTML version."
   ]
  },
  {
   "cell_type": "code",
   "execution_count": 344,
   "metadata": {
    "slideshow": {
     "slide_type": "subslide"
    }
   },
   "outputs": [],
   "source": [
    "#Function to gather an specific amount of tail and head from a dataframe\n",
    "def display_df_head_tail(df, num_rows=5):\n",
    "    # Get the head and tail of the DataFrame\n",
    "    head = df.head(num_rows).to_html(classes='table table-bordered table-striped')\n",
    "    tail = df.tail(num_rows).to_html(classes='table table-bordered table-striped')\n",
    "# Combine head and tail into a single HTML output with styled scrolling container\n",
    "    return f'''\n",
    "    <style>\n",
    "        .scrollable {{\n",
    "            max-height: 250px;\n",
    "            overflow: auto;\n",
    "        }}\n",
    "    </style>\n",
    "    <h4>First {num_rows} rows (Head) of the selected DataFrame</h4>\n",
    "    <div class=\"scrollable\">\n",
    "        {head}\n",
    "    </div>\n",
    "    <h4>Last {num_rows} rows (Tail) of the selected DataFrame</h4>\n",
    "    <div class=\"scrollable\">\n",
    "        {tail}\n",
    "    </div>\n",
    "    '''"
   ]
  },
  {
   "cell_type": "code",
   "execution_count": 345,
   "metadata": {
    "slideshow": {
     "slide_type": "subslide"
    }
   },
   "outputs": [
    {
     "data": {
      "text/html": [
       "\n",
       "    <style>\n",
       "        .scrollable {\n",
       "            max-height: 250px;\n",
       "            overflow: auto;\n",
       "        }\n",
       "    </style>\n",
       "    <h4>First 5 rows (Head) of the selected DataFrame</h4>\n",
       "    <div class=\"scrollable\">\n",
       "        <table border=\"1\" class=\"dataframe table table-bordered table-striped\">\n",
       "  <thead>\n",
       "    <tr style=\"text-align: right;\">\n",
       "      <th></th>\n",
       "      <th>country</th>\n",
       "      <th>coffeeConsumptionByCountry_perCapitaCons2020</th>\n",
       "      <th>coffeeConsumptionByCountry_perCapitaCons2016</th>\n",
       "    </tr>\n",
       "  </thead>\n",
       "  <tbody>\n",
       "    <tr>\n",
       "      <th>0</th>\n",
       "      <td>Albania</td>\n",
       "      <td>4.51</td>\n",
       "      <td>NaN</td>\n",
       "    </tr>\n",
       "    <tr>\n",
       "      <th>1</th>\n",
       "      <td>Algeria</td>\n",
       "      <td>0.97</td>\n",
       "      <td>NaN</td>\n",
       "    </tr>\n",
       "    <tr>\n",
       "      <th>2</th>\n",
       "      <td>Angola</td>\n",
       "      <td>0.33</td>\n",
       "      <td>NaN</td>\n",
       "    </tr>\n",
       "    <tr>\n",
       "      <th>3</th>\n",
       "      <td>Antigua and Barbuda</td>\n",
       "      <td>6.07</td>\n",
       "      <td>NaN</td>\n",
       "    </tr>\n",
       "    <tr>\n",
       "      <th>4</th>\n",
       "      <td>Argentina</td>\n",
       "      <td>2.32</td>\n",
       "      <td>NaN</td>\n",
       "    </tr>\n",
       "  </tbody>\n",
       "</table>\n",
       "    </div>\n",
       "    <h4>Last 5 rows (Tail) of the selected DataFrame</h4>\n",
       "    <div class=\"scrollable\">\n",
       "        <table border=\"1\" class=\"dataframe table table-bordered table-striped\">\n",
       "  <thead>\n",
       "    <tr style=\"text-align: right;\">\n",
       "      <th></th>\n",
       "      <th>country</th>\n",
       "      <th>coffeeConsumptionByCountry_perCapitaCons2020</th>\n",
       "      <th>coffeeConsumptionByCountry_perCapitaCons2016</th>\n",
       "    </tr>\n",
       "  </thead>\n",
       "  <tbody>\n",
       "    <tr>\n",
       "      <th>177</th>\n",
       "      <td>Venezuela</td>\n",
       "      <td>1.86</td>\n",
       "      <td>NaN</td>\n",
       "    </tr>\n",
       "    <tr>\n",
       "      <th>178</th>\n",
       "      <td>Vietnam</td>\n",
       "      <td>5.77</td>\n",
       "      <td>NaN</td>\n",
       "    </tr>\n",
       "    <tr>\n",
       "      <th>179</th>\n",
       "      <td>Yemen</td>\n",
       "      <td>0.59</td>\n",
       "      <td>NaN</td>\n",
       "    </tr>\n",
       "    <tr>\n",
       "      <th>180</th>\n",
       "      <td>Zambia</td>\n",
       "      <td>0.09</td>\n",
       "      <td>NaN</td>\n",
       "    </tr>\n",
       "    <tr>\n",
       "      <th>181</th>\n",
       "      <td>Zimbabwe</td>\n",
       "      <td>0.15</td>\n",
       "      <td>NaN</td>\n",
       "    </tr>\n",
       "  </tbody>\n",
       "</table>\n",
       "    </div>\n",
       "    "
      ],
      "text/plain": [
       "<IPython.core.display.HTML object>"
      ]
     },
     "metadata": {},
     "output_type": "display_data"
    }
   ],
   "source": [
    "#Coffee\n",
    "display(HTML(display_df_head_tail(coffee_df)))"
   ]
  },
  {
   "cell_type": "markdown",
   "metadata": {
    "slideshow": {
     "slide_type": "subslide"
    }
   },
   "source": [
    "### coffee_df\n",
    "- Default numeric index\n",
    "- 2020 Data: is a float type, ranges from 0.09 - 6.07.\n",
    "- 2016 Data: Lots of NaN (Not a Number) which means the Dataframe may have issues with that column. Either way we will drop that column as we only need 2020 "
   ]
  },
  {
   "cell_type": "code",
   "execution_count": 346,
   "metadata": {
    "slideshow": {
     "slide_type": "subslide"
    }
   },
   "outputs": [
    {
     "data": {
      "text/html": [
       "\n",
       "    <style>\n",
       "        .scrollable {\n",
       "            max-height: 250px;\n",
       "            overflow: auto;\n",
       "        }\n",
       "    </style>\n",
       "    <h4>First 5 rows (Head) of the selected DataFrame</h4>\n",
       "    <div class=\"scrollable\">\n",
       "        <table border=\"1\" class=\"dataframe table table-bordered table-striped\">\n",
       "  <thead>\n",
       "    <tr style=\"text-align: right;\">\n",
       "      <th></th>\n",
       "      <th>country</th>\n",
       "      <th>smokingRatesByCountry_rateBothPct2022</th>\n",
       "      <th>smokingRatesByCountry_rateMalePct2022</th>\n",
       "      <th>smokingRatesByCountry_rateFemalePct2022</th>\n",
       "      <th>smokingRatesByCountry_rateBothPct2021</th>\n",
       "      <th>smokingRatesByCountry_rateMalePct2021</th>\n",
       "      <th>smokingRatesByCountry_rateFemalePct2021</th>\n",
       "      <th>smokingRatesByCountry_rateBothPct2020</th>\n",
       "      <th>smokingRatesByCountry_rateMalePct2020</th>\n",
       "      <th>smokingRatesByCountry_rateFemalePct2020</th>\n",
       "    </tr>\n",
       "  </thead>\n",
       "  <tbody>\n",
       "    <tr>\n",
       "      <th>0</th>\n",
       "      <td>India</td>\n",
       "      <td>24.3</td>\n",
       "      <td>37.8</td>\n",
       "      <td>10.8</td>\n",
       "      <td>25.2</td>\n",
       "      <td>38.8</td>\n",
       "      <td>11.5</td>\n",
       "      <td>26.1</td>\n",
       "      <td>40.0</td>\n",
       "      <td>12.2</td>\n",
       "    </tr>\n",
       "    <tr>\n",
       "      <th>1</th>\n",
       "      <td>China</td>\n",
       "      <td>23.4</td>\n",
       "      <td>45.1</td>\n",
       "      <td>1.6</td>\n",
       "      <td>23.4</td>\n",
       "      <td>45.2</td>\n",
       "      <td>1.6</td>\n",
       "      <td>23.7</td>\n",
       "      <td>45.6</td>\n",
       "      <td>1.7</td>\n",
       "    </tr>\n",
       "    <tr>\n",
       "      <th>2</th>\n",
       "      <td>United States</td>\n",
       "      <td>24.3</td>\n",
       "      <td>29.9</td>\n",
       "      <td>18.7</td>\n",
       "      <td>24.7</td>\n",
       "      <td>30.4</td>\n",
       "      <td>18.9</td>\n",
       "      <td>24.9</td>\n",
       "      <td>30.6</td>\n",
       "      <td>19.3</td>\n",
       "    </tr>\n",
       "    <tr>\n",
       "      <th>3</th>\n",
       "      <td>Indonesia</td>\n",
       "      <td>38.2</td>\n",
       "      <td>73.1</td>\n",
       "      <td>3.3</td>\n",
       "      <td>37.9</td>\n",
       "      <td>72.4</td>\n",
       "      <td>3.4</td>\n",
       "      <td>37.8</td>\n",
       "      <td>72.1</td>\n",
       "      <td>3.6</td>\n",
       "    </tr>\n",
       "    <tr>\n",
       "      <th>4</th>\n",
       "      <td>Pakistan</td>\n",
       "      <td>18.9</td>\n",
       "      <td>30.8</td>\n",
       "      <td>7.0</td>\n",
       "      <td>19.5</td>\n",
       "      <td>31.7</td>\n",
       "      <td>7.3</td>\n",
       "      <td>20.2</td>\n",
       "      <td>32.8</td>\n",
       "      <td>7.7</td>\n",
       "    </tr>\n",
       "  </tbody>\n",
       "</table>\n",
       "    </div>\n",
       "    <h4>Last 5 rows (Tail) of the selected DataFrame</h4>\n",
       "    <div class=\"scrollable\">\n",
       "        <table border=\"1\" class=\"dataframe table table-bordered table-striped\">\n",
       "  <thead>\n",
       "    <tr style=\"text-align: right;\">\n",
       "      <th></th>\n",
       "      <th>country</th>\n",
       "      <th>smokingRatesByCountry_rateBothPct2022</th>\n",
       "      <th>smokingRatesByCountry_rateMalePct2022</th>\n",
       "      <th>smokingRatesByCountry_rateFemalePct2022</th>\n",
       "      <th>smokingRatesByCountry_rateBothPct2021</th>\n",
       "      <th>smokingRatesByCountry_rateMalePct2021</th>\n",
       "      <th>smokingRatesByCountry_rateFemalePct2021</th>\n",
       "      <th>smokingRatesByCountry_rateBothPct2020</th>\n",
       "      <th>smokingRatesByCountry_rateMalePct2020</th>\n",
       "      <th>smokingRatesByCountry_rateFemalePct2020</th>\n",
       "    </tr>\n",
       "  </thead>\n",
       "  <tbody>\n",
       "    <tr>\n",
       "      <th>159</th>\n",
       "      <td>Marshall Islands</td>\n",
       "      <td>29.8</td>\n",
       "      <td>51.2</td>\n",
       "      <td>8.5</td>\n",
       "      <td>29.7</td>\n",
       "      <td>51.0</td>\n",
       "      <td>8.5</td>\n",
       "      <td>29.6</td>\n",
       "      <td>50.7</td>\n",
       "      <td>8.6</td>\n",
       "    </tr>\n",
       "    <tr>\n",
       "      <th>160</th>\n",
       "      <td>Palau</td>\n",
       "      <td>17.3</td>\n",
       "      <td>27.1</td>\n",
       "      <td>7.6</td>\n",
       "      <td>17.7</td>\n",
       "      <td>27.6</td>\n",
       "      <td>7.8</td>\n",
       "      <td>18.0</td>\n",
       "      <td>27.9</td>\n",
       "      <td>8.0</td>\n",
       "    </tr>\n",
       "    <tr>\n",
       "      <th>161</th>\n",
       "      <td>Cook Islands</td>\n",
       "      <td>27.0</td>\n",
       "      <td>31.8</td>\n",
       "      <td>22.2</td>\n",
       "      <td>27.4</td>\n",
       "      <td>32.3</td>\n",
       "      <td>22.6</td>\n",
       "      <td>27.9</td>\n",
       "      <td>32.9</td>\n",
       "      <td>23.0</td>\n",
       "    </tr>\n",
       "    <tr>\n",
       "      <th>162</th>\n",
       "      <td>Nauru</td>\n",
       "      <td>48.3</td>\n",
       "      <td>48.6</td>\n",
       "      <td>48.1</td>\n",
       "      <td>48.9</td>\n",
       "      <td>49.0</td>\n",
       "      <td>48.7</td>\n",
       "      <td>49.4</td>\n",
       "      <td>49.2</td>\n",
       "      <td>49.5</td>\n",
       "    </tr>\n",
       "    <tr>\n",
       "      <th>163</th>\n",
       "      <td>Tuvalu</td>\n",
       "      <td>33.7</td>\n",
       "      <td>48.2</td>\n",
       "      <td>19.1</td>\n",
       "      <td>34.2</td>\n",
       "      <td>48.9</td>\n",
       "      <td>19.4</td>\n",
       "      <td>34.8</td>\n",
       "      <td>50.0</td>\n",
       "      <td>19.7</td>\n",
       "    </tr>\n",
       "  </tbody>\n",
       "</table>\n",
       "    </div>\n",
       "    "
      ],
      "text/plain": [
       "<IPython.core.display.HTML object>"
      ]
     },
     "metadata": {},
     "output_type": "display_data"
    }
   ],
   "source": [
    "#smoking\n",
    "display(HTML(display_df_head_tail(smoking_df)))"
   ]
  },
  {
   "cell_type": "markdown",
   "metadata": {
    "slideshow": {
     "slide_type": "subslide"
    }
   },
   "source": [
    "### smoking_df\n",
    "- Default numeric index\n",
    "- All the columns (except country) seem to be in float type. \n",
    "- Does not appear to have either missing or invalid data "
   ]
  },
  {
   "cell_type": "code",
   "execution_count": 347,
   "metadata": {
    "slideshow": {
     "slide_type": "subslide"
    }
   },
   "outputs": [
    {
     "data": {
      "text/html": [
       "\n",
       "    <style>\n",
       "        .scrollable {\n",
       "            max-height: 250px;\n",
       "            overflow: auto;\n",
       "        }\n",
       "    </style>\n",
       "    <h4>First 5 rows (Head) of the selected DataFrame</h4>\n",
       "    <div class=\"scrollable\">\n",
       "        <table border=\"1\" class=\"dataframe table table-bordered table-striped\">\n",
       "  <thead>\n",
       "    <tr style=\"text-align: right;\">\n",
       "      <th></th>\n",
       "      <th>№</th>\n",
       "      <th>Country</th>\n",
       "      <th>Games Market Revenue (mln USD)</th>\n",
       "      <th>Internet Penetration (%)</th>\n",
       "      <th>Number of Gamers (millions)</th>\n",
       "      <th>Mobile Market (mln USD)</th>\n",
       "      <th>Average Yearly Spending on Mobile Games (USD)</th>\n",
       "      <th>EF EPI (English Proficiency Index)</th>\n",
       "    </tr>\n",
       "  </thead>\n",
       "  <tbody>\n",
       "    <tr>\n",
       "      <th>0</th>\n",
       "      <td>1</td>\n",
       "      <td>China</td>\n",
       "      <td>36,540</td>\n",
       "      <td>59.30%</td>\n",
       "      <td>640</td>\n",
       "      <td>21,140</td>\n",
       "      <td>14.69</td>\n",
       "      <td>53.44 (Moderate)</td>\n",
       "    </tr>\n",
       "    <tr>\n",
       "      <th>1</th>\n",
       "      <td>2</td>\n",
       "      <td>United States</td>\n",
       "      <td>36,500</td>\n",
       "      <td>86.50%</td>\n",
       "      <td>215.15</td>\n",
       "      <td>9,937</td>\n",
       "      <td>30.02</td>\n",
       "      <td>100.00 (Native)</td>\n",
       "    </tr>\n",
       "    <tr>\n",
       "      <th>2</th>\n",
       "      <td>3</td>\n",
       "      <td>Japan</td>\n",
       "      <td>18,683</td>\n",
       "      <td>93.20%</td>\n",
       "      <td>79.6</td>\n",
       "      <td>6,528.40</td>\n",
       "      <td>51.65</td>\n",
       "      <td>51.51 (Low)</td>\n",
       "    </tr>\n",
       "    <tr>\n",
       "      <th>3</th>\n",
       "      <td>4</td>\n",
       "      <td>South Korea</td>\n",
       "      <td>6,194</td>\n",
       "      <td>86.50%</td>\n",
       "      <td>41.9</td>\n",
       "      <td>5,810</td>\n",
       "      <td>113.48</td>\n",
       "      <td>55.04 (Moderate)</td>\n",
       "    </tr>\n",
       "    <tr>\n",
       "      <th>4</th>\n",
       "      <td>5</td>\n",
       "      <td>Germany</td>\n",
       "      <td>6,000</td>\n",
       "      <td>94.50%</td>\n",
       "      <td>58.59</td>\n",
       "      <td>606.3</td>\n",
       "      <td>7.24</td>\n",
       "      <td>63.77 (Very High)</td>\n",
       "    </tr>\n",
       "  </tbody>\n",
       "</table>\n",
       "    </div>\n",
       "    <h4>Last 5 rows (Tail) of the selected DataFrame</h4>\n",
       "    <div class=\"scrollable\">\n",
       "        <table border=\"1\" class=\"dataframe table table-bordered table-striped\">\n",
       "  <thead>\n",
       "    <tr style=\"text-align: right;\">\n",
       "      <th></th>\n",
       "      <th>№</th>\n",
       "      <th>Country</th>\n",
       "      <th>Games Market Revenue (mln USD)</th>\n",
       "      <th>Internet Penetration (%)</th>\n",
       "      <th>Number of Gamers (millions)</th>\n",
       "      <th>Mobile Market (mln USD)</th>\n",
       "      <th>Average Yearly Spending on Mobile Games (USD)</th>\n",
       "      <th>EF EPI (English Proficiency Index)</th>\n",
       "    </tr>\n",
       "  </thead>\n",
       "  <tbody>\n",
       "    <tr>\n",
       "      <th>24</th>\n",
       "      <td>25</td>\n",
       "      <td>Iran</td>\n",
       "      <td>458</td>\n",
       "      <td>80.50%</td>\n",
       "      <td>30</td>\n",
       "      <td>198</td>\n",
       "      <td>2.36</td>\n",
       "      <td>48.69 (Low)</td>\n",
       "    </tr>\n",
       "    <tr>\n",
       "      <th>25</th>\n",
       "      <td>26</td>\n",
       "      <td>United Arab Emirates</td>\n",
       "      <td>342</td>\n",
       "      <td>99%</td>\n",
       "      <td>7.84</td>\n",
       "      <td>78.7</td>\n",
       "      <td>8.03</td>\n",
       "      <td>48.19 (Very Low)</td>\n",
       "    </tr>\n",
       "    <tr>\n",
       "      <th>26</th>\n",
       "      <td>27</td>\n",
       "      <td>Singapore</td>\n",
       "      <td>319</td>\n",
       "      <td>84%</td>\n",
       "      <td>4.8</td>\n",
       "      <td>52</td>\n",
       "      <td>8.97</td>\n",
       "      <td>66.82 (Very High)</td>\n",
       "    </tr>\n",
       "    <tr>\n",
       "      <th>27</th>\n",
       "      <td>28</td>\n",
       "      <td>South Africa</td>\n",
       "      <td>224.58</td>\n",
       "      <td>67.70%</td>\n",
       "      <td>50.9</td>\n",
       "      <td>43.6</td>\n",
       "      <td>0.74</td>\n",
       "      <td>65.38 (Very High)</td>\n",
       "    </tr>\n",
       "    <tr>\n",
       "      <th>28</th>\n",
       "      <td>29</td>\n",
       "      <td>Nigeria</td>\n",
       "      <td>85</td>\n",
       "      <td>61.10%</td>\n",
       "      <td>–</td>\n",
       "      <td>56</td>\n",
       "      <td>0.27</td>\n",
       "      <td>58.26 (High)</td>\n",
       "    </tr>\n",
       "  </tbody>\n",
       "</table>\n",
       "    </div>\n",
       "    "
      ],
      "text/plain": [
       "<IPython.core.display.HTML object>"
      ]
     },
     "metadata": {},
     "output_type": "display_data"
    }
   ],
   "source": [
    "# Gamers\n",
    "display(HTML(display_df_head_tail(gamers_df)))"
   ]
  },
  {
   "cell_type": "markdown",
   "metadata": {
    "slideshow": {
     "slide_type": "subslide"
    }
   },
   "source": [
    "### gamers_df\n",
    "- Default numeric index\n",
    "- A \"№\" column that is meant to be an index\n",
    "- Most data is string although it has numbers within.\n",
    "- Does not appear to have either missing or invalid data "
   ]
  },
  {
   "cell_type": "code",
   "execution_count": 348,
   "metadata": {
    "slideshow": {
     "slide_type": "subslide"
    }
   },
   "outputs": [
    {
     "data": {
      "text/html": [
       "\n",
       "    <style>\n",
       "        .scrollable {\n",
       "            max-height: 250px;\n",
       "            overflow: auto;\n",
       "        }\n",
       "    </style>\n",
       "    <h4>First 5 rows (Head) of the selected DataFrame</h4>\n",
       "    <div class=\"scrollable\">\n",
       "        <table border=\"1\" class=\"dataframe table table-bordered table-striped\">\n",
       "  <thead>\n",
       "    <tr style=\"text-align: right;\">\n",
       "      <th></th>\n",
       "      <th>Series</th>\n",
       "      <th>Series Code</th>\n",
       "      <th>Country Name</th>\n",
       "      <th>Country Code</th>\n",
       "      <th>2019 [YR2019]</th>\n",
       "      <th>2020 [YR2020]</th>\n",
       "      <th>2021 [YR2021]</th>\n",
       "      <th>2022 [YR2022]</th>\n",
       "    </tr>\n",
       "  </thead>\n",
       "  <tbody>\n",
       "    <tr>\n",
       "      <th>0</th>\n",
       "      <td>Labor force with advanced education, male (% of male labor force)</td>\n",
       "      <td>SL.TLF.ADVN.MA.ZS</td>\n",
       "      <td>Afghanistan</td>\n",
       "      <td>AFG</td>\n",
       "      <td>..</td>\n",
       "      <td>..</td>\n",
       "      <td>..</td>\n",
       "      <td>..</td>\n",
       "    </tr>\n",
       "    <tr>\n",
       "      <th>1</th>\n",
       "      <td>Labor force with advanced education, male (% of male labor force)</td>\n",
       "      <td>SL.TLF.ADVN.MA.ZS</td>\n",
       "      <td>Albania</td>\n",
       "      <td>ALB</td>\n",
       "      <td>..</td>\n",
       "      <td>..</td>\n",
       "      <td>..</td>\n",
       "      <td>..</td>\n",
       "    </tr>\n",
       "    <tr>\n",
       "      <th>2</th>\n",
       "      <td>Labor force with advanced education, male (% of male labor force)</td>\n",
       "      <td>SL.TLF.ADVN.MA.ZS</td>\n",
       "      <td>Algeria</td>\n",
       "      <td>DZA</td>\n",
       "      <td>..</td>\n",
       "      <td>..</td>\n",
       "      <td>..</td>\n",
       "      <td>..</td>\n",
       "    </tr>\n",
       "    <tr>\n",
       "      <th>3</th>\n",
       "      <td>Labor force with advanced education, male (% of male labor force)</td>\n",
       "      <td>SL.TLF.ADVN.MA.ZS</td>\n",
       "      <td>American Samoa</td>\n",
       "      <td>ASM</td>\n",
       "      <td>..</td>\n",
       "      <td>..</td>\n",
       "      <td>..</td>\n",
       "      <td>..</td>\n",
       "    </tr>\n",
       "    <tr>\n",
       "      <th>4</th>\n",
       "      <td>Labor force with advanced education, male (% of male labor force)</td>\n",
       "      <td>SL.TLF.ADVN.MA.ZS</td>\n",
       "      <td>Andorra</td>\n",
       "      <td>AND</td>\n",
       "      <td>..</td>\n",
       "      <td>..</td>\n",
       "      <td>..</td>\n",
       "      <td>..</td>\n",
       "    </tr>\n",
       "  </tbody>\n",
       "</table>\n",
       "    </div>\n",
       "    <h4>Last 5 rows (Tail) of the selected DataFrame</h4>\n",
       "    <div class=\"scrollable\">\n",
       "        <table border=\"1\" class=\"dataframe table table-bordered table-striped\">\n",
       "  <thead>\n",
       "    <tr style=\"text-align: right;\">\n",
       "      <th></th>\n",
       "      <th>Series</th>\n",
       "      <th>Series Code</th>\n",
       "      <th>Country Name</th>\n",
       "      <th>Country Code</th>\n",
       "      <th>2019 [YR2019]</th>\n",
       "      <th>2020 [YR2020]</th>\n",
       "      <th>2021 [YR2021]</th>\n",
       "      <th>2022 [YR2022]</th>\n",
       "    </tr>\n",
       "  </thead>\n",
       "  <tbody>\n",
       "    <tr>\n",
       "      <th>197230</th>\n",
       "      <td>NaN</td>\n",
       "      <td>NaN</td>\n",
       "      <td>NaN</td>\n",
       "      <td>NaN</td>\n",
       "      <td>NaN</td>\n",
       "      <td>NaN</td>\n",
       "      <td>NaN</td>\n",
       "      <td>NaN</td>\n",
       "    </tr>\n",
       "    <tr>\n",
       "      <th>197231</th>\n",
       "      <td>NaN</td>\n",
       "      <td>NaN</td>\n",
       "      <td>NaN</td>\n",
       "      <td>NaN</td>\n",
       "      <td>NaN</td>\n",
       "      <td>NaN</td>\n",
       "      <td>NaN</td>\n",
       "      <td>NaN</td>\n",
       "    </tr>\n",
       "    <tr>\n",
       "      <th>197232</th>\n",
       "      <td>NaN</td>\n",
       "      <td>NaN</td>\n",
       "      <td>NaN</td>\n",
       "      <td>NaN</td>\n",
       "      <td>NaN</td>\n",
       "      <td>NaN</td>\n",
       "      <td>NaN</td>\n",
       "      <td>NaN</td>\n",
       "    </tr>\n",
       "    <tr>\n",
       "      <th>197233</th>\n",
       "      <td>Data from database: Education Statistics - All Indicators</td>\n",
       "      <td>NaN</td>\n",
       "      <td>NaN</td>\n",
       "      <td>NaN</td>\n",
       "      <td>NaN</td>\n",
       "      <td>NaN</td>\n",
       "      <td>NaN</td>\n",
       "      <td>NaN</td>\n",
       "    </tr>\n",
       "    <tr>\n",
       "      <th>197234</th>\n",
       "      <td>Last Updated: 06/25/2024</td>\n",
       "      <td>NaN</td>\n",
       "      <td>NaN</td>\n",
       "      <td>NaN</td>\n",
       "      <td>NaN</td>\n",
       "      <td>NaN</td>\n",
       "      <td>NaN</td>\n",
       "      <td>NaN</td>\n",
       "    </tr>\n",
       "  </tbody>\n",
       "</table>\n",
       "    </div>\n",
       "    "
      ],
      "text/plain": [
       "<IPython.core.display.HTML object>"
      ]
     },
     "metadata": {},
     "output_type": "display_data"
    }
   ],
   "source": [
    "# Education Stats\n",
    "display(HTML(display_df_head_tail(edstats_df)))"
   ]
  },
  {
   "cell_type": "markdown",
   "metadata": {
    "slideshow": {
     "slide_type": "subslide"
    }
   },
   "source": [
    "### edstats_df\n",
    "\n",
    "- Huge DataFrame\n",
    "- Lots of NaN (probaby corrupted or wrong data)\n",
    "- The information will have to be filter by series as each series happens to have countries data.\n",
    "- Lots of \"..\"  (empty data)"
   ]
  },
  {
   "cell_type": "code",
   "execution_count": 349,
   "metadata": {
    "slideshow": {
     "slide_type": "subslide"
    }
   },
   "outputs": [
    {
     "data": {
      "text/html": [
       "\n",
       "    <style>\n",
       "        .scrollable {\n",
       "            max-height: 250px;\n",
       "            overflow: auto;\n",
       "        }\n",
       "    </style>\n",
       "    <h4>First 5 rows (Head) of the selected DataFrame</h4>\n",
       "    <div class=\"scrollable\">\n",
       "        <table border=\"1\" class=\"dataframe table table-bordered table-striped\">\n",
       "  <thead>\n",
       "    <tr style=\"text-align: right;\">\n",
       "      <th></th>\n",
       "      <th>STRUCTURE</th>\n",
       "      <th>STRUCTURE_ID</th>\n",
       "      <th>STRUCTURE_NAME</th>\n",
       "      <th>ACTION</th>\n",
       "      <th>LOCATION</th>\n",
       "      <th>Country</th>\n",
       "      <th>INDICATOR</th>\n",
       "      <th>Indicator</th>\n",
       "      <th>SUBJECT</th>\n",
       "      <th>Subject</th>\n",
       "      <th>MEASURE</th>\n",
       "      <th>Measure</th>\n",
       "      <th>FREQUENCY</th>\n",
       "      <th>Frequency</th>\n",
       "      <th>TIME_PERIOD</th>\n",
       "      <th>Time</th>\n",
       "      <th>OBS_VALUE</th>\n",
       "      <th>Observation Value</th>\n",
       "      <th>OBS_STATUS</th>\n",
       "      <th>Observation Status</th>\n",
       "      <th>UNIT_MEASURE</th>\n",
       "      <th>Unit of Measures</th>\n",
       "      <th>UNIT_MULT</th>\n",
       "      <th>Multiplier</th>\n",
       "      <th>BASE_PER</th>\n",
       "      <th>Base reference period</th>\n",
       "    </tr>\n",
       "  </thead>\n",
       "  <tbody>\n",
       "    <tr>\n",
       "      <th>0</th>\n",
       "      <td>DATAFLOW</td>\n",
       "      <td>OECD:DF_DP_LIVE(1.0)</td>\n",
       "      <td>OECD Data Archive</td>\n",
       "      <td>I</td>\n",
       "      <td>FRA</td>\n",
       "      <td>France</td>\n",
       "      <td>STUDENT</td>\n",
       "      <td>Number of students</td>\n",
       "      <td>TRY</td>\n",
       "      <td>Tertiary</td>\n",
       "      <td>IDX2015</td>\n",
       "      <td>2015=100</td>\n",
       "      <td>A</td>\n",
       "      <td>Annual</td>\n",
       "      <td>2020</td>\n",
       "      <td>NaN</td>\n",
       "      <td>113.34500</td>\n",
       "      <td>NaN</td>\n",
       "      <td>A</td>\n",
       "      <td>NaN</td>\n",
       "      <td>NaN</td>\n",
       "      <td>NaN</td>\n",
       "      <td>NaN</td>\n",
       "      <td>NaN</td>\n",
       "      <td>NaN</td>\n",
       "      <td>NaN</td>\n",
       "    </tr>\n",
       "    <tr>\n",
       "      <th>1</th>\n",
       "      <td>DATAFLOW</td>\n",
       "      <td>OECD:DF_DP_LIVE(1.0)</td>\n",
       "      <td>OECD Data Archive</td>\n",
       "      <td>I</td>\n",
       "      <td>DEU</td>\n",
       "      <td>Germany</td>\n",
       "      <td>STUDENT</td>\n",
       "      <td>Number of students</td>\n",
       "      <td>PRY</td>\n",
       "      <td>Primary</td>\n",
       "      <td>IDX2015</td>\n",
       "      <td>2015=100</td>\n",
       "      <td>A</td>\n",
       "      <td>Annual</td>\n",
       "      <td>2020</td>\n",
       "      <td>NaN</td>\n",
       "      <td>104.62360</td>\n",
       "      <td>NaN</td>\n",
       "      <td>A</td>\n",
       "      <td>NaN</td>\n",
       "      <td>NaN</td>\n",
       "      <td>NaN</td>\n",
       "      <td>NaN</td>\n",
       "      <td>NaN</td>\n",
       "      <td>NaN</td>\n",
       "      <td>NaN</td>\n",
       "    </tr>\n",
       "    <tr>\n",
       "      <th>2</th>\n",
       "      <td>DATAFLOW</td>\n",
       "      <td>OECD:DF_DP_LIVE(1.0)</td>\n",
       "      <td>OECD Data Archive</td>\n",
       "      <td>I</td>\n",
       "      <td>ITA</td>\n",
       "      <td>Italy</td>\n",
       "      <td>STUDENT</td>\n",
       "      <td>Number of students</td>\n",
       "      <td>PRY_NTRY</td>\n",
       "      <td>Primary to post-secondary non-tertiary</td>\n",
       "      <td>IDX2015</td>\n",
       "      <td>2015=100</td>\n",
       "      <td>A</td>\n",
       "      <td>Annual</td>\n",
       "      <td>2020</td>\n",
       "      <td>NaN</td>\n",
       "      <td>98.49902</td>\n",
       "      <td>NaN</td>\n",
       "      <td>A</td>\n",
       "      <td>NaN</td>\n",
       "      <td>NaN</td>\n",
       "      <td>NaN</td>\n",
       "      <td>NaN</td>\n",
       "      <td>NaN</td>\n",
       "      <td>NaN</td>\n",
       "      <td>NaN</td>\n",
       "    </tr>\n",
       "    <tr>\n",
       "      <th>3</th>\n",
       "      <td>DATAFLOW</td>\n",
       "      <td>OECD:DF_DP_LIVE(1.0)</td>\n",
       "      <td>OECD Data Archive</td>\n",
       "      <td>I</td>\n",
       "      <td>KOR</td>\n",
       "      <td>Korea</td>\n",
       "      <td>STUDENT</td>\n",
       "      <td>Number of students</td>\n",
       "      <td>PRY_NTRY</td>\n",
       "      <td>Primary to post-secondary non-tertiary</td>\n",
       "      <td>IDX2015</td>\n",
       "      <td>2015=100</td>\n",
       "      <td>A</td>\n",
       "      <td>Annual</td>\n",
       "      <td>2020</td>\n",
       "      <td>NaN</td>\n",
       "      <td>87.87145</td>\n",
       "      <td>NaN</td>\n",
       "      <td>A</td>\n",
       "      <td>NaN</td>\n",
       "      <td>NaN</td>\n",
       "      <td>NaN</td>\n",
       "      <td>NaN</td>\n",
       "      <td>NaN</td>\n",
       "      <td>NaN</td>\n",
       "      <td>NaN</td>\n",
       "    </tr>\n",
       "    <tr>\n",
       "      <th>4</th>\n",
       "      <td>DATAFLOW</td>\n",
       "      <td>OECD:DF_DP_LIVE(1.0)</td>\n",
       "      <td>OECD Data Archive</td>\n",
       "      <td>I</td>\n",
       "      <td>ESP</td>\n",
       "      <td>Spain</td>\n",
       "      <td>STUDENT</td>\n",
       "      <td>Number of students</td>\n",
       "      <td>ALLLEVEL</td>\n",
       "      <td>All levels</td>\n",
       "      <td>IDX2015</td>\n",
       "      <td>2015=100</td>\n",
       "      <td>A</td>\n",
       "      <td>Annual</td>\n",
       "      <td>2020</td>\n",
       "      <td>NaN</td>\n",
       "      <td>104.24360</td>\n",
       "      <td>NaN</td>\n",
       "      <td>A</td>\n",
       "      <td>NaN</td>\n",
       "      <td>NaN</td>\n",
       "      <td>NaN</td>\n",
       "      <td>NaN</td>\n",
       "      <td>NaN</td>\n",
       "      <td>NaN</td>\n",
       "      <td>NaN</td>\n",
       "    </tr>\n",
       "  </tbody>\n",
       "</table>\n",
       "    </div>\n",
       "    <h4>Last 5 rows (Tail) of the selected DataFrame</h4>\n",
       "    <div class=\"scrollable\">\n",
       "        <table border=\"1\" class=\"dataframe table table-bordered table-striped\">\n",
       "  <thead>\n",
       "    <tr style=\"text-align: right;\">\n",
       "      <th></th>\n",
       "      <th>STRUCTURE</th>\n",
       "      <th>STRUCTURE_ID</th>\n",
       "      <th>STRUCTURE_NAME</th>\n",
       "      <th>ACTION</th>\n",
       "      <th>LOCATION</th>\n",
       "      <th>Country</th>\n",
       "      <th>INDICATOR</th>\n",
       "      <th>Indicator</th>\n",
       "      <th>SUBJECT</th>\n",
       "      <th>Subject</th>\n",
       "      <th>MEASURE</th>\n",
       "      <th>Measure</th>\n",
       "      <th>FREQUENCY</th>\n",
       "      <th>Frequency</th>\n",
       "      <th>TIME_PERIOD</th>\n",
       "      <th>Time</th>\n",
       "      <th>OBS_VALUE</th>\n",
       "      <th>Observation Value</th>\n",
       "      <th>OBS_STATUS</th>\n",
       "      <th>Observation Status</th>\n",
       "      <th>UNIT_MEASURE</th>\n",
       "      <th>Unit of Measures</th>\n",
       "      <th>UNIT_MULT</th>\n",
       "      <th>Multiplier</th>\n",
       "      <th>BASE_PER</th>\n",
       "      <th>Base reference period</th>\n",
       "    </tr>\n",
       "  </thead>\n",
       "  <tbody>\n",
       "    <tr>\n",
       "      <th>47</th>\n",
       "      <td>DATAFLOW</td>\n",
       "      <td>OECD:DF_DP_LIVE(1.0)</td>\n",
       "      <td>OECD Data Archive</td>\n",
       "      <td>I</td>\n",
       "      <td>GBR</td>\n",
       "      <td>United Kingdom</td>\n",
       "      <td>STUDENT</td>\n",
       "      <td>Number of students</td>\n",
       "      <td>ALLLEVEL</td>\n",
       "      <td>All levels</td>\n",
       "      <td>IDX2015</td>\n",
       "      <td>2015=100</td>\n",
       "      <td>A</td>\n",
       "      <td>Annual</td>\n",
       "      <td>2020</td>\n",
       "      <td>NaN</td>\n",
       "      <td>99.19232</td>\n",
       "      <td>NaN</td>\n",
       "      <td>A</td>\n",
       "      <td>NaN</td>\n",
       "      <td>NaN</td>\n",
       "      <td>NaN</td>\n",
       "      <td>NaN</td>\n",
       "      <td>NaN</td>\n",
       "      <td>NaN</td>\n",
       "      <td>NaN</td>\n",
       "    </tr>\n",
       "    <tr>\n",
       "      <th>48</th>\n",
       "      <td>DATAFLOW</td>\n",
       "      <td>OECD:DF_DP_LIVE(1.0)</td>\n",
       "      <td>OECD Data Archive</td>\n",
       "      <td>I</td>\n",
       "      <td>GBR</td>\n",
       "      <td>United Kingdom</td>\n",
       "      <td>STUDENT</td>\n",
       "      <td>Number of students</td>\n",
       "      <td>PRY</td>\n",
       "      <td>Primary</td>\n",
       "      <td>IDX2015</td>\n",
       "      <td>2015=100</td>\n",
       "      <td>A</td>\n",
       "      <td>Annual</td>\n",
       "      <td>2020</td>\n",
       "      <td>NaN</td>\n",
       "      <td>104.34020</td>\n",
       "      <td>NaN</td>\n",
       "      <td>A</td>\n",
       "      <td>NaN</td>\n",
       "      <td>NaN</td>\n",
       "      <td>NaN</td>\n",
       "      <td>NaN</td>\n",
       "      <td>NaN</td>\n",
       "      <td>NaN</td>\n",
       "      <td>NaN</td>\n",
       "    </tr>\n",
       "    <tr>\n",
       "      <th>49</th>\n",
       "      <td>DATAFLOW</td>\n",
       "      <td>OECD:DF_DP_LIVE(1.0)</td>\n",
       "      <td>OECD Data Archive</td>\n",
       "      <td>I</td>\n",
       "      <td>GBR</td>\n",
       "      <td>United Kingdom</td>\n",
       "      <td>STUDENT</td>\n",
       "      <td>Number of students</td>\n",
       "      <td>TRY</td>\n",
       "      <td>Tertiary</td>\n",
       "      <td>IDX2015</td>\n",
       "      <td>2015=100</td>\n",
       "      <td>A</td>\n",
       "      <td>Annual</td>\n",
       "      <td>2020</td>\n",
       "      <td>NaN</td>\n",
       "      <td>115.78140</td>\n",
       "      <td>NaN</td>\n",
       "      <td>A</td>\n",
       "      <td>NaN</td>\n",
       "      <td>NaN</td>\n",
       "      <td>NaN</td>\n",
       "      <td>NaN</td>\n",
       "      <td>NaN</td>\n",
       "      <td>NaN</td>\n",
       "      <td>NaN</td>\n",
       "    </tr>\n",
       "    <tr>\n",
       "      <th>50</th>\n",
       "      <td>DATAFLOW</td>\n",
       "      <td>OECD:DF_DP_LIVE(1.0)</td>\n",
       "      <td>OECD Data Archive</td>\n",
       "      <td>I</td>\n",
       "      <td>IND</td>\n",
       "      <td>India</td>\n",
       "      <td>STUDENT</td>\n",
       "      <td>Number of students</td>\n",
       "      <td>TRY</td>\n",
       "      <td>Tertiary</td>\n",
       "      <td>IDX2015</td>\n",
       "      <td>2015=100</td>\n",
       "      <td>A</td>\n",
       "      <td>Annual</td>\n",
       "      <td>2020</td>\n",
       "      <td>NaN</td>\n",
       "      <td>113.34730</td>\n",
       "      <td>NaN</td>\n",
       "      <td>A</td>\n",
       "      <td>NaN</td>\n",
       "      <td>NaN</td>\n",
       "      <td>NaN</td>\n",
       "      <td>NaN</td>\n",
       "      <td>NaN</td>\n",
       "      <td>NaN</td>\n",
       "      <td>NaN</td>\n",
       "    </tr>\n",
       "    <tr>\n",
       "      <th>51</th>\n",
       "      <td>DATAFLOW</td>\n",
       "      <td>OECD:DF_DP_LIVE(1.0)</td>\n",
       "      <td>OECD Data Archive</td>\n",
       "      <td>I</td>\n",
       "      <td>CAN</td>\n",
       "      <td>Canada</td>\n",
       "      <td>STUDENT</td>\n",
       "      <td>Number of students</td>\n",
       "      <td>ALLLEVEL</td>\n",
       "      <td>All levels</td>\n",
       "      <td>IDX2015</td>\n",
       "      <td>2015=100</td>\n",
       "      <td>A</td>\n",
       "      <td>Annual</td>\n",
       "      <td>2020</td>\n",
       "      <td>NaN</td>\n",
       "      <td>105.69040</td>\n",
       "      <td>NaN</td>\n",
       "      <td>A</td>\n",
       "      <td>NaN</td>\n",
       "      <td>NaN</td>\n",
       "      <td>NaN</td>\n",
       "      <td>NaN</td>\n",
       "      <td>NaN</td>\n",
       "      <td>NaN</td>\n",
       "      <td>NaN</td>\n",
       "    </tr>\n",
       "  </tbody>\n",
       "</table>\n",
       "    </div>\n",
       "    "
      ],
      "text/plain": [
       "<IPython.core.display.HTML object>"
      ]
     },
     "metadata": {},
     "output_type": "display_data"
    }
   ],
   "source": [
    "# Education Stats\n",
    "display(HTML(display_df_head_tail(students_df)))"
   ]
  },
  {
   "cell_type": "markdown",
   "metadata": {
    "slideshow": {
     "slide_type": "subslide"
    }
   },
   "source": [
    "### students_df:\n",
    "- Too many features, Some are irrelevant for visualization (e.g. \"STRUCTURE\" and \"STRUCTURE_ID\").\n",
    "- Two Subject columns \"SUBJECT\" and \"Subject\" \n",
    "- Lots of NaN, But luckily its mostly on irrelevant features"
   ]
  },
  {
   "cell_type": "markdown",
   "metadata": {
    "slideshow": {
     "slide_type": "slide"
    }
   },
   "source": [
    "# Processing Data:"
   ]
  },
  {
   "cell_type": "markdown",
   "metadata": {
    "slideshow": {
     "slide_type": "fragment"
    }
   },
   "source": [
    "We will progresively remove or handle missing values, correcting or convert data types accurately, filtering out unnecessary rows or columns, transforming data by normalizing, scaling, or aggregating to ensure consistency and usability."
   ]
  },
  {
   "cell_type": "markdown",
   "metadata": {
    "slideshow": {
     "slide_type": "subslide"
    }
   },
   "source": [
    "## Coffee_df:\n",
    "\n",
    "Now to process this dataset, we will do the following in a new variable called **coffee2020_df**:\n",
    "\n",
    "1. Remove unnecessary features, specifically the 2016 data.\n",
    "2. Rename columns to give them clearer titles.\n",
    "3. Remove rows with missing values using `.dropna()`.\n",
    "4. Change data type when needed, as by default is often adopted \"string\" type.\n",
    "5. Set 'Country' as the dataset index.\n",
    "6. Using `.isin()` check for empty values.\n",
    "7. Display new features and changes in size of the DF. \n",
    "\n",
    "The main reason for keeping only the 2020 information is to perform a country-to-country analysis within the same year."
   ]
  },
  {
   "cell_type": "code",
   "execution_count": 350,
   "metadata": {
    "slideshow": {
     "slide_type": "subslide"
    }
   },
   "outputs": [
    {
     "name": "stdout",
     "output_type": "stream",
     "text": [
      "Current missing or empty values: 0\n",
      "Features in coffee2020_df: ['Coffee per capita in 2020 (KG)']\n",
      "Difference in rows: 3\n",
      "Difference in columns: 2\n",
      " Remember Country is now index ☻\n"
     ]
    }
   ],
   "source": [
    "coffee2020_df = (coffee_df\n",
    "    .drop(columns=['coffeeConsumptionByCountry_perCapitaCons2016'])  # Drop unnecessary column\n",
    "    .rename(columns={'coffeeConsumptionByCountry_perCapitaCons2020': 'Coffee per capita in 2020 (KG)', \n",
    "                     'country': 'Country'})  # Rename columns\n",
    "    .dropna()  # Remove rows with missing values\n",
    ")\n",
    "coffee2020_df = coffee2020_df[coffee2020_df['Coffee per capita in 2020 (KG)'] != 0]  # Remove rows with '0'\n",
    "coffee2020_df['Coffee per capita in 2020 (KG)'] = coffee2020_df['Coffee per capita in 2020 (KG)'].astype(float)\n",
    "coffee2020_df.set_index('Country', inplace=True)  # Set index\n",
    "\n",
    "missing_or_empty_values = coffee2020_df.isin(['', None]).sum().sum()\n",
    "print(f\"Current missing or empty values: {missing_or_empty_values}\")\n",
    "print(\"Features in coffee2020_df:\", coffee2020_df.columns.tolist())\n",
    "\n",
    "row_diff, col_diff = coffee_df.shape[0] - coffee2020_df.shape[0], coffee_df.shape[1] - coffee2020_df.shape[1]\n",
    "print(f\"Difference in rows: {row_diff}\\nDifference in columns: {col_diff}\\n Remember Country is now index ☻\")"
   ]
  },
  {
   "cell_type": "markdown",
   "metadata": {
    "slideshow": {
     "slide_type": "fragment"
    }
   },
   "source": [
    "We removed one feature, converted country in our index and deleted 3 rows for missing data."
   ]
  },
  {
   "cell_type": "markdown",
   "metadata": {
    "slideshow": {
     "slide_type": "subslide"
    }
   },
   "source": [
    "## Smoking_df\n",
    "\n",
    "Similary, it's needed to create a new varaible called **smoking2020_df**:\n",
    "\n",
    "1. Remove unnecessary features, all the data from 2022 and 2021.\n",
    "2. Rename columns to give them clearer titles.\n",
    "3. Change data type when neededto interger.\n",
    "4. Remove missing values or empty strings per row.\n",
    "5. Set 'Country' as the dataset index.\n",
    "6. Check the changes where made properly"
   ]
  },
  {
   "cell_type": "code",
   "execution_count": 351,
   "metadata": {
    "slideshow": {
     "slide_type": "subslide"
    }
   },
   "outputs": [
    {
     "name": "stdout",
     "output_type": "stream",
     "text": [
      "Current missing or empty values: 0\n",
      "Features in smoking2020_df: ['Smoking rate in 2020(%)', 'Male smoking rate in 2020(%)', 'Female smoking rate in 2020(%)']\n",
      "Difference in rows: 1\n",
      "Difference in columns: 7\n"
     ]
    }
   ],
   "source": [
    "smoking2020_df = (smoking_df[['country', 'smokingRatesByCountry_rateBothPct2020', \n",
    "                              'smokingRatesByCountry_rateMalePct2020', \n",
    "                              'smokingRatesByCountry_rateFemalePct2020']]\n",
    "    .rename(columns={\n",
    "        'country': 'Country',\n",
    "        'smokingRatesByCountry_rateBothPct2020': 'Smoking rate in 2020(%)',\n",
    "        'smokingRatesByCountry_rateMalePct2020': 'Male smoking rate in 2020(%)',\n",
    "        'smokingRatesByCountry_rateFemalePct2020': 'Female smoking rate in 2020(%)'\n",
    "    })\n",
    "    .replace(['', '0'], np.nan)\n",
    "    .dropna()\n",
    ")\n",
    "smoking2020_df[['Smoking rate in 2020(%)', 'Male smoking rate in 2020(%)', \n",
    "                'Female smoking rate in 2020(%)']] = smoking2020_df[\n",
    "    ['Smoking rate in 2020(%)', 'Male smoking rate in 2020(%)', 'Female smoking rate in 2020(%)']\n",
    "].apply(pd.to_numeric, errors='coerce')\n",
    "smoking2020_df.set_index('Country', inplace=True)\n",
    "\n",
    "missing_or_empty_values = smoking2020_df.isin(['', None]).sum().sum()\n",
    "print(f\"Current missing or empty values: {missing_or_empty_values}\")\n",
    "print(\"Features in smoking2020_df:\", smoking2020_df.columns.tolist())\n",
    "\n",
    "row_diff, col_diff = smoking_df.shape[0] - smoking2020_df.shape[0], smoking_df.shape[1] - smoking2020_df.shape[1]\n",
    "print(f\"Difference in rows: {row_diff}\\nDifference in columns: {col_diff}\")"
   ]
  },
  {
   "cell_type": "markdown",
   "metadata": {},
   "source": [
    "Succesfully we dropped 6 columns, \"coutry\" was not dropped but taken as index. And we removed a row for invalid value."
   ]
  },
  {
   "cell_type": "markdown",
   "metadata": {
    "slideshow": {
     "slide_type": "subslide"
    }
   },
   "source": [
    "### Gamers_df:\n",
    "\n",
    "We will process the gamers_df dataset similarly, creatign a new dataframe, *gamers2019_df*, performing the following tasks:\n",
    "\n",
    "1. Remove unnecessary columns.\n",
    "2. Rename columns to give them clearer titles.\n",
    "3. Convert relevant columns to the correct data type.\n",
    "4. Remove rows with missing or incorrect data.\n",
    "5. Set 'Country' as the dataset index."
   ]
  },
  {
   "cell_type": "code",
   "execution_count": 352,
   "metadata": {
    "slideshow": {
     "slide_type": "subslide"
    }
   },
   "outputs": [
    {
     "name": "stdout",
     "output_type": "stream",
     "text": [
      "Missing or empty values: 0\n",
      "Features: ['Gamers in 2019(MM)']\n",
      "Row diff: 1, Col diff: 7\n"
     ]
    }
   ],
   "source": [
    "gamers2019_df = gamers_df[['Country', 'Number of Gamers (millions)']] \\\n",
    "    .rename(columns={'Number of Gamers (millions)': 'Gamers in 2019(MM)'}) \\\n",
    "    .assign(**{'Gamers in 2019(MM)': lambda x: pd.to_numeric(x['Gamers in 2019(MM)'], errors='coerce')}) \\\n",
    "    .dropna() \\\n",
    "    .set_index('Country')\n",
    "\n",
    "missing_or_empty_values = gamers2019_df.isnull().sum().sum() + (gamers2019_df == '').sum().sum()\n",
    "print(f\"Missing or empty values: {missing_or_empty_values}\")\n",
    "print(\"Features:\", gamers2019_df.columns.tolist())\n",
    "\n",
    "row_diff, col_diff = gamers_df.shape[0] - gamers2019_df.shape[0], gamers_df.shape[1] - gamers2019_df.shape[1]\n",
    "print(f\"Row diff: {row_diff}, Col diff: {col_diff}\")"
   ]
  },
  {
   "cell_type": "markdown",
   "metadata": {
    "slideshow": {
     "slide_type": "subslide"
    }
   },
   "source": [
    "## EdStats:\n",
    "\n",
    "requires a more complex approach. First, determine which \"Series\" to filter before standard processing. Create an \"enrolment_df\" by using the str.contains() method to filter rows where the \"Series\" column contains the word \"enrolment.\" Use the unique() method to display all unique values in the \"Series\" column."
   ]
  },
  {
   "cell_type": "code",
   "execution_count": 353,
   "metadata": {
    "slideshow": {
     "slide_type": "fragment"
    }
   },
   "outputs": [
    {
     "data": {
      "text/html": [
       "\n",
       "<div style=\"max-height: 250px; overflow-y: auto; border: 1px solid #ccc; padding: 10px;\">\n",
       "    <p>Percentage of enrolment in tertiary education in private institutions (%)</p><p>Total net enrolment rate, lower secondary, both sexes (%)</p><p>Total net enrolment rate, lower secondary, female (%)</p><p>Total net enrolment rate, lower secondary, gender parity index (GPI)</p><p>Total net enrolment rate, lower secondary, male (%)</p><p>Total net enrolment rate, primary, both sexes (%)</p><p>Total net enrolment rate, primary, female (%)</p><p>Total net enrolment rate, primary, gender parity index (GPI)</p><p>Total net enrolment rate, primary, male (%)</p><p>Total net enrolment rate, upper secondary, both sexes (%)</p><p>Total net enrolment rate, upper secondary, female (%)</p><p>Total net enrolment rate, upper secondary, gender parity index (GPI)</p><p>Total net enrolment rate, upper secondary, male (%)</p><p>Enrolment in post-secondary non-tertiary education, both sexes (number)</p><p>Enrolment in post-secondary non-tertiary education, female (number)</p><p>Enrolment in post-secondary non-tertiary education, male (number)</p><p>Enrolment in tertiary education, all programmes, both sexes (number)</p><p>Enrolment in tertiary education, all programmes, female (number)</p><p>Enrolment in tertiary education, all programmes, male (number)</p></div>"
      ],
      "text/plain": [
       "<IPython.core.display.HTML object>"
      ]
     },
     "metadata": {},
     "output_type": "display_data"
    }
   ],
   "source": [
    "unique_enrolment_df = edstats_df['Series'][edstats_df['Series'].str.contains('enrolment', case=False, na=False)].unique()\n",
    "html_content = f\"\"\"\n",
    "<div style=\"max-height: 250px; overflow-y: auto; border: 1px solid #ccc; padding: 10px;\">\n",
    "    {''.join(f'<p>{item}</p>' for item in unique_enrolment_df)}</div>\"\"\"\n",
    "display(HTML(html_content))"
   ]
  },
  {
   "cell_type": "markdown",
   "metadata": {
    "slideshow": {
     "slide_type": "subslide"
    }
   },
   "source": [
    "From this information we can conclude that we want the following series only: 'Enrolment in tertiary education, all programmes, both sexes (number)'\n",
    "\n",
    "Now we proceed to:\n",
    "1. Remove unnecessary rows (All th rows with irrelevant information).\n",
    "2. Rename columns to give them clearer titles.\n",
    "3. Remove unnecessary columns (We will only keep Country and the year 2020)\n",
    "4. Remove rows with missing or incorrect data.\n",
    "5. Convert relevant columns to the correct data type.\n",
    "6. Create a new column that handles the both years (2019 and 2020) prioritizing the most recent.\n",
    "7. Drop rows without numeric data in either 2019 and 2020.\n",
    "8. Set 'Country' as the dataset index.\n"
   ]
  },
  {
   "cell_type": "code",
   "execution_count": 354,
   "metadata": {},
   "outputs": [
    {
     "name": "stdout",
     "output_type": "stream",
     "text": [
      "Size: Rows: 75, Columns: 1\n"
     ]
    }
   ],
   "source": [
    "edstats2020_df = edstats_df[edstats_df['Series'] == 'Enrolment in tertiary education, all programmes, both sexes (number)'] \\\n",
    "    .rename(columns={'Country Name': 'Region', '2020 [YR2020]': 'Students in 2020', '2019 [YR2019]': 'Students in 2019'}) \\\n",
    "    [['Region', 'Students in 2020', 'Students in 2019']]\n",
    "\n",
    "edstats2020_df['Students in 2020'] = pd.to_numeric(edstats2020_df['Students in 2020'].replace(r'[^0-9]', '', regex=True), errors='coerce').astype('Int64')\n",
    "edstats2020_df['Students in 2019'] = pd.to_numeric(edstats2020_df['Students in 2019'].replace(r'[^0-9]', '', regex=True), errors='coerce').astype('Int64')\n",
    "edstats2020_df['Students in 2019-20'] = edstats2020_df['Students in 2020'].combine_first(edstats2020_df['Students in 2019'])\n",
    "\n",
    "edstats2020_df = edstats2020_df[['Region', 'Students in 2019-20']].dropna(subset=['Students in 2019-20']).set_index('Region')\n",
    "print(f\"Size: Rows: {edstats2020_df.shape[0]}, Columns: {edstats2020_df.shape[1]}\")"
   ]
  },
  {
   "cell_type": "markdown",
   "metadata": {
    "slideshow": {
     "slide_type": "subslide"
    }
   },
   "source": [
    "Something very peculiar about this World Bank Groups dataset is the fact that it does not provide only countries but also regions. Therefore we will list all the 'regions' available and then we will proceed to create a data map after carefully choosing each countries most accurate equivalent. Better explained in the merging section."
   ]
  },
  {
   "cell_type": "code",
   "execution_count": 355,
   "metadata": {},
   "outputs": [
    {
     "data": {
      "text/html": [
       "<div style=\"max-height: 250px; overflow-y: auto; border: 1px solid #ccc; padding: 10px;\">\n",
       "    <h4>Unique Regions in edstats2020_df:</h4>\n",
       "    <p>Albania</p><p>Andorra</p><p>Arab World</p><p>Armenia</p><p>Azerbaijan</p><p>Bahrain</p><p>Bangladesh</p><p>Belize</p><p>Bhutan</p><p>Bosnia and Herzegovina</p><p>Botswana</p><p>Brunei Darussalam</p><p>Burkina Faso</p><p>Cambodia</p><p>China</p><p>Costa Rica</p><p>East Asia & Pacific</p><p>East Asia & Pacific (excluding high income)</p><p>Euro area</p><p>Europe & Central Asia</p><p>Europe & Central Asia (excluding high income)</p><p>European Union</p><p>Georgia</p><p>Ghana</p><p>Heavily indebted poor countries (HIPC)</p><p>High income</p><p>Hong Kong SAR, China</p><p>India</p><p>Kazakhstan</p><p>Kuwait</p><p>Kyrgyz Republic</p><p>Lao PDR</p><p>Latin America & Caribbean</p><p>Latin America & Caribbean (excluding high income)</p><p>Least developed countries: UN classification</p><p>Lebanon</p><p>Low & middle income</p><p>Lower middle income</p><p>Macao SAR, China</p><p>Malaysia</p><p>Marshall Islands</p><p>Mauritania</p><p>Middle East & North Africa</p><p>Middle East & North Africa (excluding high income)</p><p>Middle income</p><p>Moldova</p><p>Monaco</p><p>Montenegro</p><p>Morocco</p><p>Nepal</p><p>Niger</p><p>North America</p><p>OECD members</p><p>Oman</p><p>Qatar</p><p>Rwanda</p><p>San Marino</p><p>Saudi Arabia</p><p>Senegal</p><p>Serbia</p><p>Seychelles</p><p>South Africa</p><p>South Asia</p><p>Sri Lanka</p><p>St. Lucia</p><p>Tanzania</p><p>Togo</p><p>Tunisia</p><p>Turkmenistan</p><p>Ukraine</p><p>Upper middle income</p><p>Uzbekistan</p><p>Viet Nam</p><p>West Bank and Gaza</p><p>World</p></div>"
      ],
      "text/plain": [
       "<IPython.core.display.HTML object>"
      ]
     },
     "metadata": {},
     "output_type": "display_data"
    }
   ],
   "source": [
    "unique_regions = edstats2020_df.index.unique()\n",
    "html_content = f\"\"\"<div style=\"max-height: 250px; overflow-y: auto; border: 1px solid #ccc; padding: 10px;\">\n",
    "    <h4>Unique Regions in edstats2020_df:</h4>\n",
    "    {''.join(f'<p>{region}</p>' for region in unique_regions)}</div>\"\"\"\n",
    "display(HTML(html_content))"
   ]
  },
  {
   "cell_type": "markdown",
   "metadata": {
    "slideshow": {
     "slide_type": "subslide"
    }
   },
   "source": [
    "## Students_df\n",
    "\n",
    "From this table all we want to do is pick the 'Country' and 'Subject' Column, where Subject is equal to 'Terciary' which stands for University and Higher Education.\n",
    "\n",
    "1. Drop unwanted columns\n",
    "2. Drop rows without \"Tertiary\" Subject.\n",
    "3. Drop NaN data.\n",
    "4. Make 'Country' an index\n",
    "5. Print size "
   ]
  },
  {
   "cell_type": "code",
   "execution_count": 356,
   "metadata": {},
   "outputs": [
    {
     "name": "stdout",
     "output_type": "stream",
     "text": [
      "Size of students2020_df: 13 rows, 1 columns\n"
     ]
    }
   ],
   "source": [
    "students2020_df = students_df.loc[students_df['Subject'] == 'Tertiary', ['Country', 'OBS_VALUE']] \\\n",
    "    .dropna() \\\n",
    "    .rename(columns={'OBS_VALUE': 'Students in 2019-20'}) \\\n",
    "    .set_index('Country')\n",
    "\n",
    "print(f\"Size of students2020_df: {students2020_df.shape[0]} rows, {students2020_df.shape[1]} columns\")"
   ]
  },
  {
   "cell_type": "markdown",
   "metadata": {
    "slideshow": {
     "slide_type": "slide"
    }
   },
   "source": [
    "## Merging tables\n",
    "\n",
    "we will merge \"coffee2020_df\", \"smoking2020_df\" and \"gamers2019_df\" into one single data frame called **\"habits2020_df\"**."
   ]
  },
  {
   "cell_type": "code",
   "execution_count": 357,
   "metadata": {
    "slideshow": {
     "slide_type": "fragment"
    }
   },
   "outputs": [
    {
     "name": "stdout",
     "output_type": "stream",
     "text": [
      "Size of habits2020_df: (23, 5)\n"
     ]
    }
   ],
   "source": [
    "# Merge the DataFrames on 'Country' without including edstats2020_df\n",
    "habits2020_df = smoking2020_df.join(gamers2019_df, how='inner', rsuffix='_gamers')\n",
    "habits2020_df = habits2020_df.join(coffee2020_df, how='inner', rsuffix='_coffee')\n",
    "\n",
    "# Display the size of the resulting DataFrame\n",
    "print(\"Size of habits2020_df:\", habits2020_df.shape)"
   ]
  },
  {
   "cell_type": "markdown",
   "metadata": {
    "slideshow": {
     "slide_type": "subslide"
    }
   },
   "source": [
    "As mentioned before, edstats_df does not have a 'Country' column but a 'Region' instead, in order to merge smoothly this two datasets into a single \"HABITS VS EDUCATION\" dataframe. We need to add  a 'Region' column to habits2020_df and assign logical values from the \"unique_regions\" list created before.\n",
    "\n",
    "To achieve this we have made manually a map, When possible we will use the already existing Country for example, China and South Africa. otherwise we allocated it by simple proximity."
   ]
  },
  {
   "cell_type": "code",
   "execution_count": 358,
   "metadata": {
    "slideshow": {
     "slide_type": "subslide"
    }
   },
   "outputs": [],
   "source": [
    "country_to_region_mapping = {\n",
    "    'China': 'China',\n",
    "    'South Africa': 'South Africa',\n",
    "    'North America': ['United States', 'Canada'],\n",
    "    'East Asia & Pacific': [\n",
    "        'Indonesia', 'Japan', 'Philippines', 'Vietnam', \n",
    "        'Thailand', 'South Korea', 'Australia'\n",
    "    ],\n",
    "    'Latin America & Caribbean': ['Brazil'],\n",
    "    'Europe & Central Asia': [\n",
    "        'Russia', 'Turkey', 'Germany', 'United Kingdom', \n",
    "        'France', 'Italy', 'Spain', 'Poland'\n",
    "    ],\n",
    "    'Middle East & North Africa': [\n",
    "        'Iran', 'Saudi Arabia', 'United Arab Emirates'\n",
    "    ]\n",
    "}\n",
    "\n",
    "country_to_region_mapping = {\n",
    "    country: region \n",
    "    for region, countries in country_to_region_mapping.items() \n",
    "    for country in ([countries] if isinstance(countries, str) else countries)\n",
    "}\n"
   ]
  },
  {
   "cell_type": "markdown",
   "metadata": {
    "slideshow": {
     "slide_type": "subslide"
    }
   },
   "source": [
    "Now we use the map to create our 'Region' Column in a new temporal dataframe called **\"habits2020_REG\"** "
   ]
  },
  {
   "cell_type": "code",
   "execution_count": 359,
   "metadata": {},
   "outputs": [
    {
     "name": "stdout",
     "output_type": "stream",
     "text": [
      "Size of habits2020_REG: (7, 5)\n"
     ]
    }
   ],
   "source": [
    "habits2020_REG = habits2020_df.copy()\n",
    "# * Using a self made map. Each individual row gets assigned different a Region  \n",
    "habits2020_REG['Region'] = habits2020_REG.index.map(country_to_region_mapping) \n",
    "habits2020_REG = habits2020_REG.groupby('Region').mean().reset_index().set_index('Region')\n",
    "\n",
    "print(\"Size of habits2020_REG:\", habits2020_REG.shape)"
   ]
  },
  {
   "cell_type": "markdown",
   "metadata": {
    "slideshow": {
     "slide_type": "slide"
    }
   },
   "source": [
    "# habits_vs_education_df:\n",
    "Now we will merge habits2020_REG with edstats2020_df using Region as the index and merge habits2020_df with students2020_df to get two tables, we will call them region_df and country_df"
   ]
  },
  {
   "cell_type": "code",
   "execution_count": 360,
   "metadata": {
    "slideshow": {
     "slide_type": "subslide"
    }
   },
   "outputs": [
    {
     "data": {
      "text/html": [
       "\n",
       "<div style=\"max-height: 250px; overflow-y: auto; border: 1px solid #ccc; padding: 10px;\">\n",
       "    <h4>First row of region_df:</h4><pre><table border=\"1\" class=\"dataframe\">\n",
       "  <thead>\n",
       "    <tr style=\"text-align: right;\">\n",
       "      <th></th>\n",
       "      <th>Smoking rate in 2020(%)</th>\n",
       "      <th>Male smoking rate in 2020(%)</th>\n",
       "      <th>Female smoking rate in 2020(%)</th>\n",
       "      <th>Gamers in 2019(MM)</th>\n",
       "      <th>Coffee per capita in 2020 (KG)</th>\n",
       "      <th>Students in 2019-20</th>\n",
       "    </tr>\n",
       "    <tr>\n",
       "      <th>Region</th>\n",
       "      <th></th>\n",
       "      <th></th>\n",
       "      <th></th>\n",
       "      <th></th>\n",
       "      <th></th>\n",
       "      <th></th>\n",
       "    </tr>\n",
       "  </thead>\n",
       "  <tbody>\n",
       "    <tr>\n",
       "      <th>China</th>\n",
       "      <td>23.7</td>\n",
       "      <td>45.6</td>\n",
       "      <td>1.7</td>\n",
       "      <td>640.0</td>\n",
       "      <td>0.29</td>\n",
       "      <td>46993614</td>\n",
       "    </tr>\n",
       "  </tbody>\n",
       "</table></pre>\n",
       "    <h4>Size of region_df:</h4><pre>(7, 6)</pre>\n",
       "    <h4>Unique Index Values:</h4><pre>Index(['China', 'East Asia & Pacific', 'Europe & Central Asia',\n",
       "       'Latin America & Caribbean', 'Middle East & North Africa',\n",
       "       'North America', 'South Africa'],\n",
       "      dtype='object', name='Region')</pre></div>"
      ],
      "text/plain": [
       "<IPython.core.display.HTML object>"
      ]
     },
     "metadata": {},
     "output_type": "display_data"
    }
   ],
   "source": [
    "region_df = habits2020_REG.merge(edstats2020_df, left_index=True, right_index=True)\n",
    "display(HTML(f\"\"\"\n",
    "<div style=\"max-height: 250px; overflow-y: auto; border: 1px solid #ccc; padding: 10px;\">\n",
    "    <h4>First row of region_df:</h4><pre>{region_df.head(1).to_html()}</pre>\n",
    "    <h4>Size of region_df:</h4><pre>{region_df.shape}</pre>\n",
    "    <h4>Unique Index Values:</h4><pre>{region_df.index.unique()}</pre></div>\"\"\"))"
   ]
  },
  {
   "cell_type": "markdown",
   "metadata": {
    "slideshow": {
     "slide_type": "subslide"
    }
   },
   "source": [
    "Now we create country_df and also to include more countries we will add rows where country and region match in region_df using `pd.concat()`"
   ]
  },
  {
   "cell_type": "code",
   "execution_count": 361,
   "metadata": {
    "slideshow": {
     "slide_type": "fragment"
    }
   },
   "outputs": [
    {
     "data": {
      "text/html": [
       "\n",
       "<div style=\"max-height: 250px; overflow-y: auto; border: 1px solid #ccc; padding: 10px;\">\n",
       "    <h4>First row of country_df:</h4><pre><table border=\"1\" class=\"dataframe\">\n",
       "  <thead>\n",
       "    <tr style=\"text-align: right;\">\n",
       "      <th></th>\n",
       "      <th>Smoking rate in 2020(%)</th>\n",
       "      <th>Male smoking rate in 2020(%)</th>\n",
       "      <th>Female smoking rate in 2020(%)</th>\n",
       "      <th>Gamers in 2019(MM)</th>\n",
       "      <th>Coffee per capita in 2020 (KG)</th>\n",
       "      <th>Students in 2019-20</th>\n",
       "    </tr>\n",
       "  </thead>\n",
       "  <tbody>\n",
       "    <tr>\n",
       "      <th>United States</th>\n",
       "      <td>24.9</td>\n",
       "      <td>30.6</td>\n",
       "      <td>19.3</td>\n",
       "      <td>215.15</td>\n",
       "      <td>4.71</td>\n",
       "      <td>96.48482</td>\n",
       "    </tr>\n",
       "    <tr>\n",
       "      <th>Germany</th>\n",
       "      <td>22.4</td>\n",
       "      <td>24.5</td>\n",
       "      <td>20.2</td>\n",
       "      <td>58.59</td>\n",
       "      <td>6.09</td>\n",
       "      <td>108.4137</td>\n",
       "    </tr>\n",
       "    <tr>\n",
       "      <th>United Kingdom</th>\n",
       "      <td>15.6</td>\n",
       "      <td>17.4</td>\n",
       "      <td>13.7</td>\n",
       "      <td>46.10</td>\n",
       "      <td>2.68</td>\n",
       "      <td>115.7814</td>\n",
       "    </tr>\n",
       "    <tr>\n",
       "      <th>France</th>\n",
       "      <td>34.5</td>\n",
       "      <td>35.8</td>\n",
       "      <td>33.3</td>\n",
       "      <td>48.90</td>\n",
       "      <td>5.97</td>\n",
       "      <td>113.345</td>\n",
       "    </tr>\n",
       "    <tr>\n",
       "      <th>South Africa</th>\n",
       "      <td>20.9</td>\n",
       "      <td>34.9</td>\n",
       "      <td>6.9</td>\n",
       "      <td>50.90</td>\n",
       "      <td>2.07</td>\n",
       "      <td>112.6901</td>\n",
       "    </tr>\n",
       "    <tr>\n",
       "      <th>Italy</th>\n",
       "      <td>22.7</td>\n",
       "      <td>26.3</td>\n",
       "      <td>19.2</td>\n",
       "      <td>47.70</td>\n",
       "      <td>5.51</td>\n",
       "      <td>112.5142</td>\n",
       "    </tr>\n",
       "    <tr>\n",
       "      <th>Spain</th>\n",
       "      <td>28.9</td>\n",
       "      <td>30.3</td>\n",
       "      <td>27.5</td>\n",
       "      <td>37.80</td>\n",
       "      <td>2.88</td>\n",
       "      <td>111.0758</td>\n",
       "    </tr>\n",
       "    <tr>\n",
       "      <th>Canada</th>\n",
       "      <td>13.0</td>\n",
       "      <td>15.3</td>\n",
       "      <td>10.7</td>\n",
       "      <td>29.10</td>\n",
       "      <td>7.00</td>\n",
       "      <td>116.5179</td>\n",
       "    </tr>\n",
       "    <tr>\n",
       "      <th>Poland</th>\n",
       "      <td>24.5</td>\n",
       "      <td>28.1</td>\n",
       "      <td>20.9</td>\n",
       "      <td>19.00</td>\n",
       "      <td>2.23</td>\n",
       "      <td>84.43482</td>\n",
       "    </tr>\n",
       "    <tr>\n",
       "      <th>Australia</th>\n",
       "      <td>13.7</td>\n",
       "      <td>15.9</td>\n",
       "      <td>11.5</td>\n",
       "      <td>18.10</td>\n",
       "      <td>5.74</td>\n",
       "      <td>105.7677</td>\n",
       "    </tr>\n",
       "    <tr>\n",
       "      <th>China</th>\n",
       "      <td>23.7</td>\n",
       "      <td>45.6</td>\n",
       "      <td>1.7</td>\n",
       "      <td>640.00</td>\n",
       "      <td>0.29</td>\n",
       "      <td>46993614.0</td>\n",
       "    </tr>\n",
       "  </tbody>\n",
       "</table></pre>\n",
       "    <h4>Size of country_df:</h4><pre>(11, 6)</pre>\n",
       "    <h4>Unique Index Values:</h4><pre>Index(['United States', 'Germany', 'United Kingdom', 'France', 'South Africa',\n",
       "       'Italy', 'Spain', 'Canada', 'Poland', 'Australia', 'China'],\n",
       "      dtype='object')</pre></div>"
      ],
      "text/plain": [
       "<IPython.core.display.HTML object>"
      ]
     },
     "metadata": {},
     "output_type": "display_data"
    }
   ],
   "source": [
    "# Merge and append rows from region_df where 'Region' matches missing countries in habits2020_df\n",
    "country_df = pd.concat([\n",
    "    habits2020_df.merge(students2020_df, left_index=True, right_index=True),\n",
    "    region_df.loc[region_df.index.intersection(habits2020_df.index.difference(habits2020_df.merge(students2020_df, left_index=True, right_index=True).index))]\n",
    "])\n",
    "display(HTML(f\"\"\"\n",
    "<div style=\"max-height: 250px; overflow-y: auto; border: 1px solid #ccc; padding: 10px;\">\n",
    "    <h4>First row of country_df:</h4><pre>{country_df.to_html()}</pre>\n",
    "    <h4>Size of country_df:</h4><pre>{country_df.shape}</pre>\n",
    "    <h4>Unique Index Values:</h4><pre>{country_df.index.unique()}</pre></div>\"\"\"))"
   ]
  },
  {
   "cell_type": "markdown",
   "metadata": {
    "slideshow": {
     "slide_type": "slide"
    }
   },
   "source": [
    "## DATA VIZUALIZATION\n",
    "\n",
    "Now we will display the relevant data some of the processed and arranged data. From habits_vs_education_df we will collect the data we need for each graphic desired to be displayed, as listed below:\n",
    "\n",
    "- figure1 will display of the contrast of smoking by gender for each region or country using the dataset \"habits_vs_education_df\" since it has the smokers by gender of each region.\n",
    "- figure2 will display the 'habits' by region \n",
    "- figure3 will display the contrast between habits and students."
   ]
  },
  {
   "cell_type": "markdown",
   "metadata": {},
   "source": [
    "### Comparison of smokers consumption by gender per region \n",
    "\n",
    "In order to organize this data we will first create a table called 'fig1_df' which will hold only *Male smoking rate in 2020(%)* and *Female smoking rate in 2020(%)*. Then we will simplify the names, create a figure and create the bars and stack 'Female Smoking Rate' bar on top of the 'Male Smoking Rate' bar to create a visual effect of a cigarette and it's filter."
   ]
  },
  {
   "cell_type": "code",
   "execution_count": 362,
   "metadata": {},
   "outputs": [
    {
     "data": {
      "image/png": "[encoded data removed]",
      "text/plain": [
       "<Figure size 1200x800 with 1 Axes>"
      ]
     },
     "metadata": {},
     "output_type": "display_data"
    }
   ],
   "source": [
    "# Prepare the data for the table\n",
    "fig1_df = region_df[['Male smoking rate in 2020(%)', 'Female smoking rate in 2020(%)']].rename(columns={\n",
    "    'Male smoking rate in 2020(%)': 'Male Smoking Rate (%)',\n",
    "    'Female smoking rate in 2020(%)': 'Female Smoking Rate (%)'\n",
    "})\n",
    "\n",
    "# Create a horizontal bar chart for Female smoking rate over Male smoking rate\n",
    "fig, ax = plt.subplots(figsize=(12, 8))\n",
    "\n",
    "# Plot Male smoking rate bars\n",
    "male_bars = ax.barh(fig1_df.index, fig1_df['Male Smoking Rate (%)'], color='#fafafa', label='Male Smoking Rate')\n",
    "\n",
    "# Plot Female smoking rate bars over Male smoking rate\n",
    "female_bars = ax.barh(fig1_df.index, fig1_df['Female Smoking Rate (%)'], \n",
    "                      left=fig1_df['Male Smoking Rate (%)'], color='#ff7f0e', label='Female Smoking Rate')\n",
    "\n",
    "# Customize the chart\n",
    "ax.set_title('Female vs. Male Smoking Rates by Region (2020)', fontsize=16, weight='bold', color='white')\n",
    "ax.set_xlabel('Smoking Rate (%)', fontsize=14, weight='bold', color='white')\n",
    "ax.set_ylabel('Region', fontsize=14, weight='bold', color='white')\n",
    "ax.set_facecolor('#0c0c0c')  # Inner chart background color\n",
    "fig.patch.set_facecolor('#0c0c1b')  # Outer background color\n",
    "ax.tick_params(colors='white')  # Set tick label color to white\n",
    "\n",
    "# Add legend to the right of the chart with customized font color and background\n",
    "legend = ax.legend(title='Gender', fontsize=12, title_fontsize=13, loc='center left', \n",
    "                   bbox_to_anchor=(1.05, 0.5), frameon=True)  # Enable legend frame\n",
    "\n",
    "# Customize legend background and font colors\n",
    "legend.get_frame().set_facecolor('#2f2f2f')  # Set background color\n",
    "legend.get_frame().set_edgecolor('white')    # Set edge color (optional)\n",
    "legend.get_frame().set_linewidth(1)          # Adjust frame thickness\n",
    "legend.get_title().set_color('white')        # Set title font color\n",
    "for text in legend.get_texts():\n",
    "    text.set_color('white')  # Set label font color\n",
    "\n",
    "# Adjust layout to prevent clipping\n",
    "plt.tight_layout()\n",
    "\n",
    "# Display the chart\n",
    "plt.show()"
   ]
  },
  {
   "cell_type": "markdown",
   "metadata": {},
   "source": [
    "## Habbits rates between the Regions:\n",
    "\n",
    "Using the Smoking, Gamers and Coffee data we will normalize them in order for the highest value in each column to be one and in this way scale up each value."
   ]
  },
  {
   "cell_type": "code",
   "execution_count": 363,
   "metadata": {},
   "outputs": [
    {
     "data": {
      "image/png": "[encoded data removed]",
      "text/plain": [
       "<Figure size 1200x800 with 1 Axes>"
      ]
     },
     "metadata": {},
     "output_type": "display_data"
    }
   ],
   "source": [
    "# Normalize data for comparison\n",
    "normalized_smoking = region_df['Smoking rate in 2020(%)'] / region_df['Smoking rate in 2020(%)'].max()\n",
    "normalized_gamers = region_df['Gamers in 2019(MM)'] / region_df['Gamers in 2019(MM)'].max()\n",
    "normalized_coffee = region_df['Coffee per capita in 2020 (KG)'] / region_df['Coffee per capita in 2020 (KG)'].max()\n",
    "\n",
    "# Plot multi-line chart\n",
    "fig, ax = plt.subplots(figsize=(12, 8))\n",
    "\n",
    "# Plot the lines\n",
    "ax.plot(region_df.index, normalized_smoking, label='Smoking Rate', marker='o', color='#1f77b4')\n",
    "ax.plot(region_df.index, normalized_gamers, label='Gamers', marker='s', color='#ff69b4')\n",
    "ax.plot(region_df.index, normalized_coffee, label='Coffee Consumption', marker='^', color='#2ca02c')\n",
    "\n",
    "# Customize chart\n",
    "ax.set_xlabel('Region', fontsize=12, color='white')\n",
    "ax.set_ylabel('Normalized Values of the Habits', fontsize=12, color='white')\n",
    "ax.set_title('Trends in Smoking, Gamers, and Coffee Consumption by Region', fontsize=16, color='white')\n",
    "ax.set_xticks(range(len(region_df.index)))\n",
    "ax.set_xticklabels(region_df.index, rotation=45, ha='right', color='white')\n",
    "\n",
    "# Set background color (inner and outer)\n",
    "ax.set_facecolor('#0c0c0c')\n",
    "fig.patch.set_facecolor('#0c0c1b')\n",
    "ax.tick_params(colors='white')\n",
    "\n",
    "# Set axis line colors (spines) to white\n",
    "for spine in ax.spines.values():\n",
    "    spine.set_color('white')\n",
    "\n",
    "# Move legend to the right of the plot\n",
    "legend = ax.legend(loc='upper left', bbox_to_anchor=(1.05, 1), title='Habits', fontsize=12, title_fontsize=13, frameon=True)\n",
    "\n",
    "# Customize legend background and font colors\n",
    "legend.get_frame().set_facecolor('#2f2f2f')\n",
    "legend.get_frame().set_edgecolor('white')\n",
    "legend.get_frame().set_linewidth(1)\n",
    "legend.get_title().set_color('white')\n",
    "for text in legend.get_texts():\n",
    "    text.set_color('white')\n",
    "\n",
    "# Adjust layout to prevent clipping\n",
    "plt.tight_layout()\n",
    "\n",
    "# Display the plot\n",
    "plt.show()"
   ]
  },
  {
   "cell_type": "markdown",
   "metadata": {},
   "source": [
    "## Habits by region Vs Students by region.\n",
    "\n",
    "For our last plot we will simply normalize data one more time but this time with different scalability. The main reason is that due to the challenge of different proyected data we have (Rate, Millions and KG) we will have to normalize it all to be able of contrasting the consumption per region."
   ]
  },
  {
   "cell_type": "code",
   "execution_count": 364,
   "metadata": {},
   "outputs": [
    {
     "data": {
      "image/png": "[encoded data removed]",
      "text/plain": [
       "<Figure size 1200x600 with 1 Axes>"
      ]
     },
     "metadata": {},
     "output_type": "display_data"
    }
   ],
   "source": [
    "# Normalize the specified columns to a range from 0 to 1 (for habits data)\n",
    "normalized_smoking = region_df['Smoking rate in 2020(%)'] / region_df['Smoking rate in 2020(%)'].max()\n",
    "normalized_gamers = region_df['Gamers in 2019(MM)'] / region_df['Gamers in 2019(MM)'].max()\n",
    "normalized_coffee = region_df['Coffee per capita in 2020 (KG)'] / region_df['Coffee per capita in 2020 (KG)'].max()\n",
    "\n",
    "# Normalize 'Students in 2019-20' to a range from 0 to 3\n",
    "normalized_students = region_df['Students in 2019-20'] / region_df['Students in 2019-20'].max() * 3\n",
    "\n",
    "# Create the new DataFrame fig3_df with the normalized values\n",
    "fig3_df = pd.DataFrame({\n",
    "    'Normalized Smoking Rate': normalized_smoking,\n",
    "    'Normalized Gamers': normalized_gamers,\n",
    "    'Normalized Coffee Consumption': normalized_coffee,\n",
    "    'Normalized Students': normalized_students\n",
    "})\n",
    "\n",
    "# Merge 'China' with 'East Asia & Pacific' by adding their values\n",
    "fig3_df.loc['East Asia & Pacific'] = fig3_df.loc['China'] + fig3_df.loc['East Asia & Pacific']\n",
    "fig3_df = fig3_df.drop('China', axis=0)\n",
    "\n",
    "# Create the positions for the bars (the x-axis for the bars)\n",
    "x = np.arange(len(fig3_df))  # Positions for the bars\n",
    "width = 0.35  # Width of the bars\n",
    "\n",
    "# Plotting the stacked bar chart\n",
    "fig, ax = plt.subplots(figsize=(12, 6))\n",
    "\n",
    "# Plot each of the habits on top of each other\n",
    "ax.bar(x, fig3_df['Normalized Smoking Rate'], width, label='Smoking Rate', color='#1f77b4')\n",
    "ax.bar(x, fig3_df['Normalized Gamers'], width, bottom=fig3_df['Normalized Smoking Rate'], label='Gamers', color='#ff69b4')\n",
    "ax.bar(x, fig3_df['Normalized Coffee Consumption'], width, \n",
    "       bottom=fig3_df['Normalized Smoking Rate'] + fig3_df['Normalized Gamers'], label='Coffee Consumption', color='#2ca02c')\n",
    "\n",
    "# Plot the normalized students next to the stacked habits bar\n",
    "ax.bar(x + width, fig3_df['Normalized Students'], width, label='Students', color='#d62728')\n",
    "\n",
    "# Customize chart\n",
    "ax.set_xlabel('Region', fontsize=12, color='white')\n",
    "ax.set_ylabel('Normalized Values', fontsize=12, color='white')\n",
    "ax.set_title('Comparison of Habits and Students by Region', fontsize=16, color='white')\n",
    "ax.set_xticks(x + width / 2)  # Position the labels between bars\n",
    "ax.set_xticklabels(fig3_df.index, rotation=45, ha='right', color='white')\n",
    "ax.tick_params(axis='x', colors='white')  # Set the x-axis tick color to white\n",
    "ax.tick_params(axis='y', colors='white')  # Set the y-axis tick color to white\n",
    "\n",
    "# Set background color\n",
    "ax.set_facecolor('#0c0c0c')  # Inner background color\n",
    "fig.patch.set_facecolor('#0c0c1b')  # Outer background color\n",
    "\n",
    "# Add a legend to the right of the plot\n",
    "ax.legend(loc='upper left', bbox_to_anchor=(1.05, 1), title='Categories', fontsize=12, title_fontsize=13)\n",
    "\n",
    "# Adjust layout to avoid clipping\n",
    "plt.tight_layout()\n",
    "\n",
    "# Display the plot\n",
    "plt.show()"
   ]
  }
 ],
 "metadata": {
  "kernelspec": {
   "display_name": ".venv",
   "language": "python",
   "name": "python3"
  },
  "language_info": {
   "codemirror_mode": {
    "name": "ipython",
    "version": 3
   },
   "file_extension": ".py",
   "mimetype": "text/x-python",
   "name": "python",
   "nbconvert_exporter": "python",
   "pygments_lexer": "ipython3",
   "version": "3.12.5"
  }
 },
 "nbformat": 4,
 "nbformat_minor": 2
}
