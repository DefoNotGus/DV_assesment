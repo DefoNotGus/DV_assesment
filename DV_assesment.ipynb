{
 "cells": [
  {
   "cell_type": "markdown",
   "metadata": {},
   "source": [
    "First, we will list and import all the libraries that will be used for this data analyzisis report."
   ]
  },
  {
   "cell_type": "code",
   "execution_count": 25,
   "metadata": {},
   "outputs": [],
   "source": [
    "import pandas as pd\n",
    "import os\n",
    "import numpy as np\n",
    "import matplotlib.pyplot as plt\n",
    "import seaborn as sns\n",
    "#from sklearn.linear_model import LinearRegression"
   ]
  },
  {
   "cell_type": "markdown",
   "metadata": {},
   "source": [
    "To make sure the implementation of OS (crucial library in our path referencing internally). We will run the following command which will provide the existing datasets in the 'Dataset' folder."
   ]
  },
  {
   "cell_type": "code",
   "execution_count": 26,
   "metadata": {},
   "outputs": [
    {
     "name": "stdout",
     "output_type": "stream",
     "text": [
      "['smokingEU.csv', 'studentsEnrolment.csv', 'studentPF.csv', 'studentEnrol.csv', 'coffee.csv', 'gamersyears.csv', 'population.csv', 'studentsEnrolyear.csv', 'gamers.csv']\n"
     ]
    }
   ],
   "source": [
    "print(os.listdir('Datasets'))"
   ]
  },
  {
   "cell_type": "markdown",
   "metadata": {},
   "source": []
  },
  {
   "cell_type": "code",
   "execution_count": null,
   "metadata": {},
   "outputs": [],
   "source": [
    "# Importing the CSV files\n",
    "coffee_df = pd.read_csv('Datasets/coffee.csv')\n",
    "smokingEU_df = pd.read_csv('Datasets/smokingEU.csv')\n",
    "studentsEnrol_df = pd.read_csv('Datasets/studentEnrol.csv')\n",
    "studentsPF_df = pd.read_csv('Datasets/studentPF.csv')\n",
    "gamers_df = pd.read_csv('Datasets/gamers.csv') #https://allcorrectgames.com/insights/a-global-research-of-2019-games-market/\n",
    "population_df = pd.read_csv('Datasets/population.csv')\n",
    "studentsEnrolsyear_df = pd.read_csv('Datasets/studentsEnrolyear.csv')\n",
    "gamersyear_df = pd.read_csv('Datasets/gamersyears.csv')"
   ]
  },
  {
   "cell_type": "markdown",
   "metadata": {},
   "source": [
    "Display all the datasets head (first 5 columns)"
   ]
  },
  {
   "cell_type": "code",
   "execution_count": 28,
   "metadata": {},
   "outputs": [
    {
     "name": "stdout",
     "output_type": "stream",
     "text": [
      "Coffee DataFrame:\n",
      "               country  coffeeConsumptionByCountry_perCapitaCons2020  \\\n",
      "0              Albania                                          4.51   \n",
      "1              Algeria                                          0.97   \n",
      "2               Angola                                          0.33   \n",
      "3  Antigua and Barbuda                                          6.07   \n",
      "4            Argentina                                          2.32   \n",
      "\n",
      "   coffeeConsumptionByCountry_perCapitaCons2016  \n",
      "0                                           NaN  \n",
      "1                                           NaN  \n",
      "2                                           NaN  \n",
      "3                                           NaN  \n",
      "4                                           NaN   \n",
      "\n"
     ]
    }
   ],
   "source": [
    "print(\"Coffee DataFrame:\")\n",
    "print(coffee_df.head(), \"\\n\")"
   ]
  },
  {
   "cell_type": "code",
   "execution_count": 29,
   "metadata": {},
   "outputs": [
    {
     "name": "stdout",
     "output_type": "stream",
     "text": [
      "Smoking EU DataFrame:\n",
      "                            SMOKING (Labels) Total  Unnamed: 2  \\\n",
      "0                               GEO (Labels)   NaN         NaN   \n",
      "1  European Union - 27 countries (from 2020)  18.4         NaN   \n",
      "2  European Union - 28 countries (2013-2020)     :         NaN   \n",
      "3                                    Belgium  14.6         NaN   \n",
      "4                                   Bulgaria  28.7         NaN   \n",
      "\n",
      "  Less than 20 cigarettes per day Unnamed: 4 20 or more cigarettes per day  \\\n",
      "0                             NaN        NaN                           NaN   \n",
      "1                            12.6        NaN                           5.9   \n",
      "2                               :        NaN                             :   \n",
      "3                             9.7          u                           4.9   \n",
      "4                            15.8        NaN                          12.9   \n",
      "\n",
      "  Unnamed: 6  \n",
      "0        NaN  \n",
      "1        NaN  \n",
      "2        NaN  \n",
      "3          u  \n",
      "4        NaN   \n",
      "\n"
     ]
    }
   ],
   "source": [
    "\n",
    "print(\"Smoking EU DataFrame:\")\n",
    "print(smokingEU_df.head(), \"\\n\")"
   ]
  },
  {
   "cell_type": "code",
   "execution_count": 30,
   "metadata": {},
   "outputs": [
    {
     "name": "stdout",
     "output_type": "stream",
     "text": [
      "Students Enrolment DataFrame:\n",
      "  CAH level marker          CAH level subject Level of study Academic Year  \\\n",
      "0      CAH level 1  01 Medicine and dentistry   First degree       2022/23   \n",
      "1      CAH level 1  01 Medicine and dentistry   First degree       2022/23   \n",
      "2      CAH level 1  01 Medicine and dentistry   First degree       2022/23   \n",
      "3      CAH level 1  01 Medicine and dentistry   First degree       2022/23   \n",
      "4      CAH level 1  01 Medicine and dentistry            All       2022/23   \n",
      "\n",
      "       Sex  Number  \n",
      "0   Female    1200  \n",
      "1     Male     500  \n",
      "2  Unknown       0  \n",
      "3    Total    1705  \n",
      "4   Female    1200   \n",
      "\n"
     ]
    }
   ],
   "source": [
    "print(\"Students Enrolment DataFrame:\")\n",
    "print(studentsEnrol_df.head(), \"\\n\")"
   ]
  },
  {
   "cell_type": "code",
   "execution_count": 31,
   "metadata": {},
   "outputs": [
    {
     "name": "stdout",
     "output_type": "stream",
     "text": [
      "Students PF DataFrame:\n",
      "   Hours_Studied  Attendance Parental_Involvement Access_to_Resources  \\\n",
      "0             23          84                  Low                High   \n",
      "1             19          64                  Low              Medium   \n",
      "2             24          98               Medium              Medium   \n",
      "3             29          89                  Low              Medium   \n",
      "4             19          92               Medium              Medium   \n",
      "\n",
      "  Extracurricular_Activities  Sleep_Hours  Previous_Scores Motivation_Level  \\\n",
      "0                         No            7               73              Low   \n",
      "1                         No            8               59              Low   \n",
      "2                        Yes            7               91           Medium   \n",
      "3                        Yes            8               98           Medium   \n",
      "4                        Yes            6               65           Medium   \n",
      "\n",
      "  Internet_Access  Tutoring_Sessions Family_Income Teacher_Quality  \\\n",
      "0             Yes                  0           Low          Medium   \n",
      "1             Yes                  2        Medium          Medium   \n",
      "2             Yes                  2        Medium          Medium   \n",
      "3             Yes                  1        Medium          Medium   \n",
      "4             Yes                  3        Medium            High   \n",
      "\n",
      "  School_Type Peer_Influence  Physical_Activity Learning_Disabilities  \\\n",
      "0      Public       Positive                  3                    No   \n",
      "1      Public       Negative                  4                    No   \n",
      "2      Public        Neutral                  4                    No   \n",
      "3      Public       Negative                  4                    No   \n",
      "4      Public        Neutral                  4                    No   \n",
      "\n",
      "  Parental_Education_Level Distance_from_Home  Gender  Exam_Score  \n",
      "0              High School               Near    Male          67  \n",
      "1                  College           Moderate  Female          61  \n",
      "2             Postgraduate               Near    Male          74  \n",
      "3              High School           Moderate    Male          71  \n",
      "4                  College               Near  Female          70   \n",
      "\n"
     ]
    }
   ],
   "source": [
    "print(\"Students PF DataFrame:\")\n",
    "print(studentsPF_df.head(), \"\\n\")"
   ]
  },
  {
   "cell_type": "code",
   "execution_count": 32,
   "metadata": {},
   "outputs": [
    {
     "name": "stdout",
     "output_type": "stream",
     "text": [
      "Gamers DataFrame:\n",
      "   №                   Country Games Market Revenue (mln USD)  \\\n",
      "0  1                     China                         36,540   \n",
      "1  2  United States of America                         36,500   \n",
      "2  3                     Japan                         18,683   \n",
      "3  4               South Korea                          6,194   \n",
      "4  5                   Germany                          6,000   \n",
      "\n",
      "  Internet Penetration (%) Number of Gamers (millions)  \\\n",
      "0                   59.30%                         640   \n",
      "1                   86.50%                      215.15   \n",
      "2                   93.20%                        79.6   \n",
      "3                   86.50%                        41.9   \n",
      "4                   94.50%                       58.59   \n",
      "\n",
      "  Mobile Market (mln USD)  Average Yearly Spending on Mobile Games (USD)  \\\n",
      "0                  21,140                                          14.69   \n",
      "1                   9,937                                          30.02   \n",
      "2                6,528.40                                          51.65   \n",
      "3                   5,810                                         113.48   \n",
      "4                   606.3                                           7.24   \n",
      "\n",
      "  EF EPI (English Proficiency Index)  \n",
      "0                   53.44 (Moderate)  \n",
      "1                    100.00 (Native)  \n",
      "2                        51.51 (Low)  \n",
      "3                   55.04 (Moderate)  \n",
      "4                  63.77 (Very High)   \n",
      "\n"
     ]
    }
   ],
   "source": [
    "print(\"Gamers DataFrame:\")\n",
    "print(gamers_df.head(), \"\\n\")"
   ]
  },
  {
   "cell_type": "code",
   "execution_count": 33,
   "metadata": {},
   "outputs": [
    {
     "name": "stdout",
     "output_type": "stream",
     "text": [
      "Gamers per year in UK DataFrame:\n",
      "   Year  Male  Female  16-24  25-34  35-44  45-54  55-64  65+  65-74  55+  \\\n",
      "0  2013    46      38     71     62     45     43     28  NaN   13.0  NaN   \n",
      "1  2014    47      41     73     62     51     39     26  NaN   19.0  NaN   \n",
      "2  2015    44      39     66     63     44     42     25  NaN   17.0  NaN   \n",
      "3  2016    41      32     67     50     42     27     23  NaN   21.0  NaN   \n",
      "4  2017    41      31     70     49     40     29     23  NaN   16.0  NaN   \n",
      "\n",
      "    75+  \n",
      "0   4.0  \n",
      "1   7.0  \n",
      "2   9.0  \n",
      "3  13.0  \n",
      "4  14.0   \n",
      "\n"
     ]
    }
   ],
   "source": [
    "print(\"Gamers per year in UK DataFrame:\")\n",
    "print(gamersyear_df.head(), \"\\n\")"
   ]
  },
  {
   "cell_type": "code",
   "execution_count": 34,
   "metadata": {},
   "outputs": [
    {
     "name": "stdout",
     "output_type": "stream",
     "text": [
      "Population DataFrame:\n",
      "   LocID     Location  VarID Variant  Time  MidPeriod   PopMale  PopFemale  \\\n",
      "0      4  Afghanistan      2  Medium  1950     1950.5  4099.243   3652.874   \n",
      "1      4  Afghanistan      2  Medium  1951     1951.5  4134.756   3705.395   \n",
      "2      4  Afghanistan      2  Medium  1952     1952.5  4174.450   3761.546   \n",
      "3      4  Afghanistan      2  Medium  1953     1953.5  4218.336   3821.348   \n",
      "4      4  Afghanistan      2  Medium  1954     1954.5  4266.484   3884.832   \n",
      "\n",
      "   PopTotal  PopDensity  \n",
      "0  7752.117      11.874  \n",
      "1  7840.151      12.009  \n",
      "2  7935.996      12.156  \n",
      "3  8039.684      12.315  \n",
      "4  8151.316      12.486   \n",
      "\n"
     ]
    }
   ],
   "source": [
    "print(\"Population DataFrame:\")\n",
    "print(population_df.head(), \"\\n\")"
   ]
  },
  {
   "cell_type": "markdown",
   "metadata": {},
   "source": [
    "Print collumn headers or features of all our databases"
   ]
  },
  {
   "cell_type": "code",
   "execution_count": 35,
   "metadata": {},
   "outputs": [
    {
     "name": "stdout",
     "output_type": "stream",
     "text": [
      "smokingEU columns: ['SMOKING (Labels)', 'Total', 'Unnamed: 2', 'Less than 20 cigarettes per day', 'Unnamed: 4', '20 or more cigarettes per day', 'Unnamed: 6'] \n",
      "\n",
      "studentPF columns: ['Hours_Studied', 'Attendance', 'Parental_Involvement', 'Access_to_Resources', 'Extracurricular_Activities', 'Sleep_Hours', 'Previous_Scores', 'Motivation_Level', 'Internet_Access', 'Tutoring_Sessions', 'Family_Income', 'Teacher_Quality', 'School_Type', 'Peer_Influence', 'Physical_Activity', 'Learning_Disabilities', 'Parental_Education_Level', 'Distance_from_Home', 'Gender', 'Exam_Score'] \n",
      "\n",
      "coffee columns: ['country', 'coffeeConsumptionByCountry_perCapitaCons2020', 'coffeeConsumptionByCountry_perCapitaCons2016'] \n",
      "\n",
      "studentEnrol columns: ['CAH level marker', 'CAH level subject', 'Level of study', 'Academic Year', 'Sex', 'Number'] \n",
      "\n",
      "gamers columns: ['№', 'Country', 'Games Market Revenue (mln USD)', 'Internet Penetration (%)', 'Number of Gamers (millions)', 'Mobile Market (mln USD)', 'Average Yearly Spending on Mobile Games (USD)', 'EF EPI (English Proficiency Index)'] \n",
      "\n",
      "population columns: ['LocID', 'Location', 'VarID', 'Variant', 'Time', 'MidPeriod', 'PopMale', 'PopFemale', 'PopTotal', 'PopDensity'] \n",
      "\n"
     ]
    }
   ],
   "source": [
    "# Print the column headers for each dataset\n",
    "print(\"smokingEU columns:\", smokingEU_df.columns.tolist(), \"\\n\")\n",
    "print(\"studentPF columns:\", studentsPF_df.columns.tolist(), \"\\n\")\n",
    "print(\"coffee columns:\", coffee_df.columns.tolist(), \"\\n\")\n",
    "print(\"studentEnrol columns:\", studentsEnrol_df.columns.tolist(), \"\\n\")\n",
    "print(\"gamers columns:\", gamers_df.columns.tolist(), \"\\n\")\n",
    "print(\"population columns:\", population_df.columns.tolist(), \"\\n\")"
   ]
  },
  {
   "cell_type": "markdown",
   "metadata": {},
   "source": [
    "*Cleaning data:*\n",
    "\n",
    "We will progresively clean and merge smoking_df and coffee_df into a single dataset for visualization porposes.\n",
    "\n",
    "\n",
    "Smoking_df:\n",
    "First we will trim the first 3 rows of Smoking_df since they don't contain countries information and then we will remove unnecesary columns and rename usable ones"
   ]
  },
  {
   "cell_type": "code",
   "execution_count": 36,
   "metadata": {},
   "outputs": [
    {
     "name": "stdout",
     "output_type": "stream",
     "text": [
      "                            SMOKING (Labels) Total  Unnamed: 2  \\\n",
      "0                               GEO (Labels)   NaN         NaN   \n",
      "1  European Union - 27 countries (from 2020)  18.4         NaN   \n",
      "2  European Union - 28 countries (2013-2020)     :         NaN   \n",
      "\n",
      "  Less than 20 cigarettes per day Unnamed: 4 20 or more cigarettes per day  \\\n",
      "0                             NaN        NaN                           NaN   \n",
      "1                            12.6        NaN                           5.9   \n",
      "2                               :        NaN                             :   \n",
      "\n",
      "  Unnamed: 6  \n",
      "0        NaN  \n",
      "1        NaN  \n",
      "2        NaN   \n",
      "\n",
      "New Smoking EU DataFrame:\n",
      "  SMOKING (Labels) Total  Unnamed: 2 Less than 20 cigarettes per day  \\\n",
      "0          Belgium  14.6         NaN                             9.7   \n",
      "1         Bulgaria  28.7         NaN                            15.8   \n",
      "2          Czechia  19.3         NaN                            13.9   \n",
      "3          Denmark  11.7         NaN                             8.6   \n",
      "4          Germany  21.9         NaN                            14.1   \n",
      "\n",
      "  Unnamed: 4 20 or more cigarettes per day Unnamed: 6  \n",
      "0          u                           4.9          u  \n",
      "1        NaN                          12.9        NaN  \n",
      "2        NaN                           5.4        NaN  \n",
      "3        NaN                           3.1        NaN  \n",
      "4        NaN                           7.8        NaN   \n",
      "\n"
     ]
    }
   ],
   "source": [
    "#Columns we will remove:\n",
    "print(smokingEU_df.head(3), \"\\n\")\n",
    "\n",
    "# Remove rows 1, 2 and 3 from 'smokingEU' dataset\n",
    "smokingEU_df_cleaned = smokingEU_df.drop([0, 1, 2]).reset_index(drop=True)\n",
    "\n",
    "print(\"New Smoking EU DataFrame:\")\n",
    "print(smokingEU_df_cleaned.head(), \"\\n\")"
   ]
  },
  {
   "cell_type": "code",
   "execution_count": 37,
   "metadata": {},
   "outputs": [
    {
     "name": "stdout",
     "output_type": "stream",
     "text": [
      "         Total smokers in 2019 (%) Light Smokers in 2019 Heavy Smokers in 2019\n",
      "country                                                                       \n",
      "Belgium                       14.6                   9.7                   4.9\n",
      "Bulgaria                      28.7                  15.8                  12.9\n",
      "Czechia                       19.3                  13.9                   5.4\n",
      "Denmark                       11.7                   8.6                   3.1\n",
      "Germany                       21.9                  14.1                   7.8\n"
     ]
    }
   ],
   "source": [
    "# Rename the specified columns with \"in 2022\"\n",
    "smokingEU_df_cleaned = smokingEU_df_cleaned.rename(columns={\n",
    "    'SMOKING (Labels)': 'country',\n",
    "    'Total': 'Total smokers in 2019 (%)',\n",
    "    'Less than 20 cigarettes per day': 'Light Smokers in 2019',\n",
    "    '20 or more cigarettes per day': 'Heavy Smokers in 2019'\n",
    "})\n",
    "\n",
    "# Select only the required columns\n",
    "smokingEU_df_cleaned = smokingEU_df_cleaned[['country', 'Total smokers in 2019 (%)', 'Light Smokers in 2019', 'Heavy Smokers in 2019']]\n",
    "\n",
    "# Set 'country' as the index\n",
    "smokingEU_df_cleaned = smokingEU_df_cleaned.set_index('country')\n",
    "\n",
    "# Optionally, print the modified DataFrame to verify changes\n",
    "print(smokingEU_df_cleaned.head())"
   ]
  },
  {
   "cell_type": "markdown",
   "metadata": {},
   "source": [
    "Coffee_df:\n",
    "Now to clear this dataset we will. Set 'countries' as the dataset index,rename the second column to a simpler name and remove the 2016 irrlevant data"
   ]
  },
  {
   "cell_type": "code",
   "execution_count": 38,
   "metadata": {},
   "outputs": [
    {
     "name": "stdout",
     "output_type": "stream",
     "text": [
      "                     Coffee per capita in 2020 (KG)\n",
      "country                                            \n",
      "Albania                                        4.51\n",
      "Algeria                                        0.97\n",
      "Angola                                         0.33\n",
      "Antigua and Barbuda                            6.07\n",
      "Argentina                                      2.32\n"
     ]
    }
   ],
   "source": [
    "# Set 'country' as the index\n",
    "coffee_df_cleaned = coffee_df.set_index('country')\n",
    "\n",
    "# Rename the specified columns\n",
    "coffee_df_cleaned = coffee_df_cleaned.rename(columns={\n",
    "    'coffeeConsumptionByCountry_perCapitaCons2020': 'Coffee per capita in 2020 (KG)'\n",
    "})\n",
    "\n",
    "# Select only the required columns\n",
    "coffee_df_cleaned = coffee_df_cleaned[['Coffee per capita in 2020 (KG)']]\n",
    "print(coffee_df_cleaned.head())\n"
   ]
  },
  {
   "cell_type": "markdown",
   "metadata": {},
   "source": [
    "Now we will merge this datasets so we can have a refined view of the coffee and cigarrete consumption within EU specifically, followed by removing the unusable or unwanted data. This will conclude the cleaning of this specific dataset. Now we will proceed with the other tables."
   ]
  },
  {
   "cell_type": "code",
   "execution_count": 39,
   "metadata": {},
   "outputs": [
    {
     "name": "stdout",
     "output_type": "stream",
     "text": [
      "             Coffee per capita in 2020 (KG)  Total smokers in 2019 (%)  \\\n",
      "country                                                                  \n",
      "Austria                                8.46                       20.2   \n",
      "Belgium                                6.05                       14.6   \n",
      "Bulgaria                              10.80                       28.7   \n",
      "Croatia                                9.16                       21.8   \n",
      "Cyprus                                13.28                       21.2   \n",
      "Denmark                               12.45                       11.7   \n",
      "Estonia                               16.80                       18.9   \n",
      "Finland                               11.20                        9.9   \n",
      "France                                 5.97                       17.8   \n",
      "Germany                                6.09                       21.9   \n",
      "Greece                                10.13                       23.6   \n",
      "Hungary                                2.00                       19.3   \n",
      "Iceland                               12.55                        7.5   \n",
      "Ireland                                7.77                       13.8   \n",
      "Italy                                  5.51                       16.5   \n",
      "Latvia                                12.76                       22.1   \n",
      "Lithuania                             16.99                       18.4   \n",
      "Luxembourg                            25.34                       10.5   \n",
      "Malta                                  1.38                       19.4   \n",
      "Netherlands                            5.07                       14.6   \n",
      "Norway                                11.43                       10.2   \n",
      "Poland                                 2.23                       18.4   \n",
      "Portugal                               5.05                       11.5   \n",
      "Romania                                6.90                       18.7   \n",
      "Serbia                                13.54                       26.2   \n",
      "Slovakia                              11.64                       20.4   \n",
      "Slovenia                              10.56                       16.6   \n",
      "Spain                                  2.88                       19.7   \n",
      "Sweden                                10.81                        6.4   \n",
      "\n",
      "            Light Smokers in 2019 Heavy Smokers in 2019  \n",
      "country                                                  \n",
      "Austria                      12.1                   8.2  \n",
      "Belgium                       9.7                   4.9  \n",
      "Bulgaria                     15.8                  12.9  \n",
      "Croatia                      10.2                  11.6  \n",
      "Cyprus                       11.6                   9.7  \n",
      "Denmark                       8.6                   3.1  \n",
      "Estonia                      13.5                   5.4  \n",
      "Finland                       7.1                   2.8  \n",
      "France                       13.8                   4.1  \n",
      "Germany                      14.1                   7.8  \n",
      "Greece                       12.8                  10.8  \n",
      "Hungary                      12.8                   6.5  \n",
      "Iceland                       5.6                   2.0  \n",
      "Ireland                       9.8                   4.1  \n",
      "Italy                        11.8                   4.7  \n",
      "Latvia                       14.9                   7.2  \n",
      "Lithuania                    13.2                   5.2  \n",
      "Luxembourg                    7.5                   3.0  \n",
      "Malta                        12.9                   6.6  \n",
      "Netherlands                  11.7                   2.9  \n",
      "Norway                        8.4                   1.8  \n",
      "Poland                        9.8                   8.6  \n",
      "Portugal                      7.5                   4.0  \n",
      "Romania                      13.3                   5.4  \n",
      "Serbia                       10.5                  15.8  \n",
      "Slovakia                     15.1                   5.3  \n",
      "Slovenia                     10.7                   5.9  \n",
      "Spain                        14.8                   4.9  \n",
      "Sweden                        5.3                   1.0  \n"
     ]
    }
   ],
   "source": [
    "# Merge the two DataFrames on the 'country' column, showing only matching countries\n",
    "coffee_smoking_EU_df = coffee_df_cleaned.merge(smokingEU_df_cleaned, on='country', how='inner')\n",
    "\n",
    "#Convert data to numbers and non-numeric data to NaN\n",
    "coffee_smoking_EU_df['Coffee per capita in 2020 (KG)'] = pd.to_numeric(coffee_smoking_EU_df['Coffee per capita in 2020 (KG)'], errors='coerce')\n",
    "coffee_smoking_EU_df['Total smokers in 2019 (%)'] = pd.to_numeric(coffee_smoking_EU_df['Total smokers in 2019 (%)'], errors='coerce')\n",
    "\n",
    "# Drop rows with NaN values\n",
    "coffee_smoking_EU_df.dropna(inplace=True)\n",
    "\n",
    "#Lets see how it looks\n",
    "print(coffee_smoking_EU_df)"
   ]
  },
  {
   "cell_type": "markdown",
   "metadata": {},
   "source": [
    "Gamers Dataset:\n",
    "Since we also have the gamers information of 2019 we will include said data in our dataset.\n"
   ]
  },
  {
   "cell_type": "code",
   "execution_count": null,
   "metadata": {},
   "outputs": [],
   "source": []
  }
 ],
 "metadata": {
  "kernelspec": {
   "display_name": ".venv",
   "language": "python",
   "name": "python3"
  },
  "language_info": {
   "codemirror_mode": {
    "name": "ipython",
    "version": 3
   },
   "file_extension": ".py",
   "mimetype": "text/x-python",
   "name": "python",
   "nbconvert_exporter": "python",
   "pygments_lexer": "ipython3",
   "version": "3.11.2"
  }
 },
 "nbformat": 4,
 "nbformat_minor": 2
}
