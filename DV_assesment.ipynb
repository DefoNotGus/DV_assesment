{
 "cells": [
  {
   "cell_type": "markdown",
   "metadata": {},
   "source": [
    "First, we will list and import all the libraries that will be used for this data analyzisis report."
   ]
  },
  {
   "cell_type": "code",
   "execution_count": 16,
   "metadata": {},
   "outputs": [],
   "source": [
    "import pandas as pd\n",
    "import os\n"
   ]
  },
  {
   "cell_type": "markdown",
   "metadata": {},
   "source": [
    "To make sure the implementation of OS (crucial library in our path referencing internally). We will run the following command which will provide the existing datasets in the 'Dataset' folder."
   ]
  },
  {
   "cell_type": "code",
   "execution_count": 17,
   "metadata": {},
   "outputs": [
    {
     "name": "stdout",
     "output_type": "stream",
     "text": [
      "['smokingEU.csv', 'studentsEnrolment.csv', 'studentPF.csv', 'coffee.csv']\n"
     ]
    }
   ],
   "source": [
    "print(os.listdir('Datasets'))"
   ]
  },
  {
   "cell_type": "markdown",
   "metadata": {},
   "source": []
  },
  {
   "cell_type": "code",
   "execution_count": 18,
   "metadata": {},
   "outputs": [],
   "source": [
    "# Importing the CSV files\n",
    "coffee_df = pd.read_csv('Datasets/coffee.csv')\n",
    "smokingEU_df = pd.read_csv('Datasets/smokingEU.csv')\n",
    "studentsEnrolment_df = pd.read_csv('Datasets/studentsEnrolment.csv')\n",
    "studentsPF_df = pd.read_csv('Datasets/studentPF.csv')"
   ]
  },
  {
   "cell_type": "markdown",
   "metadata": {},
   "source": [
    "Display all the datasets head (first 5 columns)"
   ]
  },
  {
   "cell_type": "code",
   "execution_count": 19,
   "metadata": {},
   "outputs": [
    {
     "name": "stdout",
     "output_type": "stream",
     "text": [
      "Coffee DataFrame:\n",
      "         country  totCons2019  perCapitaCons2016\n",
      "0  United States      27310.0               9.26\n",
      "1        Germany       8670.0              12.13\n",
      "2          Japan       7551.0                NaN\n",
      "3         France       6192.0              11.90\n",
      "4          Italy       5469.0              13.00 \n",
      "\n"
     ]
    }
   ],
   "source": [
    "print(\"Coffee DataFrame:\")\n",
    "print(coffee_df.head(), \"\\n\")"
   ]
  },
  {
   "cell_type": "code",
   "execution_count": 20,
   "metadata": {},
   "outputs": [
    {
     "name": "stdout",
     "output_type": "stream",
     "text": [
      "Smoking EU DataFrame:\n",
      "                            SMOKING (Labels) Total  Unnamed: 2  \\\n",
      "0                               GEO (Labels)   NaN         NaN   \n",
      "1  European Union - 27 countries (from 2020)  18.4         NaN   \n",
      "2  European Union - 28 countries (2013-2020)     :         NaN   \n",
      "3                                    Belgium  14.6         NaN   \n",
      "4                                   Bulgaria  28.7         NaN   \n",
      "\n",
      "  Less than 20 cigarettes per day Unnamed: 4 20 or more cigarettes per day  \\\n",
      "0                             NaN        NaN                           NaN   \n",
      "1                            12.6        NaN                           5.9   \n",
      "2                               :        NaN                             :   \n",
      "3                             9.7          u                           4.9   \n",
      "4                            15.8        NaN                          12.9   \n",
      "\n",
      "  Unnamed: 6  \n",
      "0        NaN  \n",
      "1        NaN  \n",
      "2        NaN  \n",
      "3          u  \n",
      "4        NaN   \n",
      "\n"
     ]
    }
   ],
   "source": [
    "\n",
    "print(\"Smoking EU DataFrame:\")\n",
    "print(smokingEU_df.head(), \"\\n\")"
   ]
  },
  {
   "cell_type": "code",
   "execution_count": 21,
   "metadata": {},
   "outputs": [
    {
     "name": "stdout",
     "output_type": "stream",
     "text": [
      "Students Enrolment DataFrame:\n",
      "              Title  \\\n",
      "0          Location   \n",
      "1    Academic years   \n",
      "2       Data source   \n",
      "3   Data collection   \n",
      "4  Data source link   \n",
      "\n",
      "  Undergraduate sandwich student enrolments by CAH level 1 subject, CAH level 3 subject, level of study, sex and academic year  \\\n",
      "0                                                 UK                                                                             \n",
      "1                                            2022/23                                                                             \n",
      "2                                               HESA                                                                             \n",
      "3                                                056                                                                             \n",
      "4  https://www.hesa.ac.uk/data-and-analysis/stude...                                                                             \n",
      "\n",
      "  Unnamed: 2 Unnamed: 3 Unnamed: 4 Unnamed: 5  \n",
      "0        NaN        NaN        NaN        NaN  \n",
      "1        NaN        NaN        NaN        NaN  \n",
      "2        NaN        NaN        NaN        NaN  \n",
      "3        NaN        NaN        NaN        NaN  \n",
      "4        NaN        NaN        NaN        NaN   \n",
      "\n"
     ]
    }
   ],
   "source": [
    "print(\"Students Enrolment DataFrame:\")\n",
    "print(studentsEnrolment_df.head(), \"\\n\")"
   ]
  },
  {
   "cell_type": "code",
   "execution_count": 22,
   "metadata": {},
   "outputs": [
    {
     "name": "stdout",
     "output_type": "stream",
     "text": [
      "Students PF DataFrame:\n",
      "   Hours_Studied  Attendance Parental_Involvement Access_to_Resources  \\\n",
      "0             23          84                  Low                High   \n",
      "1             19          64                  Low              Medium   \n",
      "2             24          98               Medium              Medium   \n",
      "3             29          89                  Low              Medium   \n",
      "4             19          92               Medium              Medium   \n",
      "\n",
      "  Extracurricular_Activities  Sleep_Hours  Previous_Scores Motivation_Level  \\\n",
      "0                         No            7               73              Low   \n",
      "1                         No            8               59              Low   \n",
      "2                        Yes            7               91           Medium   \n",
      "3                        Yes            8               98           Medium   \n",
      "4                        Yes            6               65           Medium   \n",
      "\n",
      "  Internet_Access  Tutoring_Sessions Family_Income Teacher_Quality  \\\n",
      "0             Yes                  0           Low          Medium   \n",
      "1             Yes                  2        Medium          Medium   \n",
      "2             Yes                  2        Medium          Medium   \n",
      "3             Yes                  1        Medium          Medium   \n",
      "4             Yes                  3        Medium            High   \n",
      "\n",
      "  School_Type Peer_Influence  Physical_Activity Learning_Disabilities  \\\n",
      "0      Public       Positive                  3                    No   \n",
      "1      Public       Negative                  4                    No   \n",
      "2      Public        Neutral                  4                    No   \n",
      "3      Public       Negative                  4                    No   \n",
      "4      Public        Neutral                  4                    No   \n",
      "\n",
      "  Parental_Education_Level Distance_from_Home  Gender  Exam_Score  \n",
      "0              High School               Near    Male          67  \n",
      "1                  College           Moderate  Female          61  \n",
      "2             Postgraduate               Near    Male          74  \n",
      "3              High School           Moderate    Male          71  \n",
      "4                  College               Near  Female          70   \n",
      "\n"
     ]
    }
   ],
   "source": [
    "print(\"Students PF DataFrame:\")\n",
    "print(studentsPF_df.head(), \"\\n\")"
   ]
  }
 ],
 "metadata": {
  "kernelspec": {
   "display_name": ".venv",
   "language": "python",
   "name": "python3"
  },
  "language_info": {
   "codemirror_mode": {
    "name": "ipython",
    "version": 3
   },
   "file_extension": ".py",
   "mimetype": "text/x-python",
   "name": "python",
   "nbconvert_exporter": "python",
   "pygments_lexer": "ipython3",
   "version": "3.11.2"
  }
 },
 "nbformat": 4,
 "nbformat_minor": 2
}
