{
 "cells": [
  {
   "cell_type": "markdown",
   "metadata": {},
   "source": [
    "# Bad habbits vs Education\n",
    "\n",
    "This guided project aims to explore whether there is a connection between the student population and \"bad\" habits or behaviors that may negatively impact people's health. The habits to study are:\n",
    "\n",
    "-  Coffee adiction.\n",
    "- Smoking.\n",
    "- Videogames adiction.\n",
    "\n",
    "Understanding the demographic factors of this habits in a culture and the connection with the students population could help society to understand if this bad habits or missused habits are directly related to the stress faced by higher education students. Suggesting the need to restructure the current higher education programs in places where this adictions are higher.\n",
    "\n",
    "*Press the '↓' key*"
   ]
  },
  {
   "cell_type": "code",
   "execution_count": null,
   "metadata": {
    "slideshow": {
     "slide_type": "fragment"
    }
   },
   "outputs": [],
   "source": [
    "#LIBRARIES\n",
    "\n",
    "import pandas as pd #For reading and handling CSV files.\n",
    "import numpy as np  # For numerical operations and handling missing values.\n",
    "import matplotlib.pyplot as plt  # For creating basic visualizations.\n",
    "import seaborn as sns  # For advanced data visualization used in the infographic."
   ]
  },
  {
   "cell_type": "markdown",
   "metadata": {},
   "source": [
    "The code above list all the python libraries we will be using and what they are used for."
   ]
  },
  {
   "cell_type": "markdown",
   "metadata": {
    "slideshow": {
     "slide_type": "slide"
    }
   },
   "source": [
    "## Load Data\n",
    "\n",
    "Using Pandas library \"pd\" we will convert the chosen datasets for this project into variables for better handling. Using the command \"pd.read_csv()\" as shown below.\n",
    "\n",
    "*Press the '↓' key*\n"
   ]
  },
  {
   "cell_type": "code",
   "execution_count": null,
   "metadata": {
    "slideshow": {
     "slide_type": "fragment"
    }
   },
   "outputs": [],
   "source": [
    "# Importing the CSV files\n",
    "coffee_df = pd.read_csv('Datasets/coffee.csv')\n",
    "smoking_df = pd.read_csv('Datasets/smoking.csv')\n",
    "gamers_df = pd.read_csv('Datasets/gamers.csv')\n",
    "edstats_df = pd.read_csv('Datasets/edstats.csv')"
   ]
  },
  {
   "cell_type": "markdown",
   "metadata": {
    "slideshow": {
     "slide_type": "slide"
    }
   },
   "source": [
    "## Data Previsualization.\n",
    "\n",
    "Before going to the next step, it's important to display all the datasets head (first 5 columns), the size of the dataset using the method \"shape\" and list their features or column headers in order to explain the aim of each dataset. "
   ]
  },
  {
   "cell_type": "code",
   "execution_count": null,
   "metadata": {
    "slideshow": {
     "slide_type": "fragment"
    }
   },
   "outputs": [],
   "source": [
    "#Display head (5 first rows)\n",
    "print(\"Coffee DataFrame:\")\n",
    "print(coffee_df.head(), \"\\n\")\n",
    "\n",
    "#size display\n",
    "print(f\"Size:\\nRows: {coffee_df.shape[0]}, Columns: {coffee_df.shape[1]}\")\n",
    "\n",
    "\n",
    "#Display features\n",
    "print(\"coffee columns:\", coffee_df.columns.tolist(), \"\\n\")"
   ]
  },
  {
   "cell_type": "markdown",
   "metadata": {},
   "source": [
    "**coffee_df**\n",
    "\n",
    "This simple dataset has a list of a 183 countries and their coffee consumption per capita in the years 2020 and 2016 in KG. It will be usefull to recognize the countries with a high coffee consumption. more information about this dataset will be found in the reference area along with all the other datasets information."
   ]
  },
  {
   "cell_type": "code",
   "execution_count": null,
   "metadata": {
    "slideshow": {
     "slide_type": "subslide"
    }
   },
   "outputs": [],
   "source": [
    "#Display head (5 first rows)\n",
    "print(\"Smoking DataFrame:\")\n",
    "print(smoking_df.head(), \"\\n\")\n",
    "\n",
    "#size display\n",
    "print(f\"Size:\\nRows: {smoking_df.shape[0]}, Columns: {smoking_df.shape[1]}\")\n",
    "\n",
    "\n",
    "#Display features\n",
    "print(\"smoking columns:\", smoking_df.columns.tolist(), \"\\n\")"
   ]
  },
  {
   "cell_type": "markdown",
   "metadata": {},
   "source": [
    "**smoking_df**:\n",
    "\n",
    "This dataset shows the smoking rates or pocentage in population of 164 countries, in the years 2022, 2021 and 2020. It also shows the data between male and female of those countries. This can be used to compare the differences in consumption between countries and the diferences in consumption of cigarretes by gender."
   ]
  },
  {
   "cell_type": "code",
   "execution_count": null,
   "metadata": {
    "slideshow": {
     "slide_type": "subslide"
    }
   },
   "outputs": [],
   "source": [
    "#Display head (5 first rows)\n",
    "print(\"Gamers DataFrame:\")\n",
    "print(gamers_df.head(), \"\\n\")\n",
    "\n",
    "#size display\n",
    "print(f\"Size:\\nRows: {gamers_df.shape[0]}, Columns: {gamers_df.shape[1]}\")\n",
    "\n",
    "#Display features\n",
    "print(\"gamers columns:\", gamers_df.columns.tolist(), \"\\n\")"
   ]
  },
  {
   "cell_type": "markdown",
   "metadata": {},
   "source": [
    "**gamers_df**\n",
    "\n",
    "This table offers data bout 29 countries, the number of market revenue  in the videogames industry in millions of dollars, the internet penetration in a porcentage, the number of gamers in millions, the revenue in the mobile market in millions of dollars, the yearly spending on Mobile Games per user in dollars and the English Proficiency or average of people that speaks english. This dataset is rich on information but reduced in countries when it comes to the number of coutries. However it can be used to analyze the amount of gamers per country mainly."
   ]
  },
  {
   "cell_type": "code",
   "execution_count": null,
   "metadata": {
    "slideshow": {
     "slide_type": "subslide"
    }
   },
   "outputs": [],
   "source": [
    "#Display head (5 first rows)\n",
    "print(\"Students Enrolment DataFrame:\")\n",
    "print(edstats_df.head(), \"\\n\")\n",
    "\n",
    "#size display\n",
    "print(f\"Size:\\nRows : {edstats_df.shape[0]}, Columns: {edstats_df.shape[1]}\")\n",
    "\n",
    "#Display features\n",
    "print(\"student enrolment columns:\", edstats_df.columns.tolist(), \"\\n\")"
   ]
  },
  {
   "cell_type": "markdown",
   "metadata": {},
   "source": [
    "**edstats_df**\n",
    "\n",
    "This dataset shows a huge amount of data as the collection was made per series and is not only designed per country, therefore we can use it for analyzing very specific information per country. In this project we will mainly use it to analyze the higher education population per country. We will have to filter and study all the different series and use the most relevant ones for the project."
   ]
  },
  {
   "cell_type": "markdown",
   "metadata": {
    "slideshow": {
     "slide_type": "slide"
    }
   },
   "source": [
    "***Processing Data:***\n",
    "\n",
    "We will progresively remove or handle missing values, correcting or convert data types accurately, filtering out unnecessary rows or columns, transforming data by normalizing, scaling, or aggregating to ensure consistency and usability.\n",
    "\n",
    "\n"
   ]
  },
  {
   "cell_type": "markdown",
   "metadata": {},
   "source": [
    "**Coffee_df:**\n",
    "\n",
    "Now to process this dataset, we will do the following in a new dataset called **coffee2020_df**:\n",
    "\n",
    "1. Remove unnecessary features, specifically the 2016 data.\n",
    "2. Rename columns to give them clearer titles.\n",
    "3. Remove missing values.\n",
    "4. Change data type when needed, as by default is often adopted \"string\" type.\n",
    "5. Set 'Country' as the dataset index.\n",
    "\n",
    "The main reason for keeping only the 2020 information is to perform a country-to-country analysis within the same year.\n"
   ]
  },
  {
   "cell_type": "code",
   "execution_count": null,
   "metadata": {},
   "outputs": [],
   "source": [
    "# Copy the coffee_df to a new DataFrame for processing\n",
    "coffee2020_df = coffee_df.copy()\n",
    "\n",
    "# 1. Remove the \"coffeeConsumptionByCountry_perCapitaCons2016\" feature\n",
    "coffee2020_df = coffee2020_df.drop(columns=['coffeeConsumptionByCountry_perCapitaCons2016'])\n",
    "\n",
    "# 2. Rename columns for clarity\n",
    "coffee2020_df = coffee2020_df.rename(columns={\n",
    "    'coffeeConsumptionByCountry_perCapitaCons2020': 'Coffee per capita in 2020 (KG)',\n",
    "    'country': 'Country'\n",
    "})\n",
    "\n",
    "# 3. Remove rows with missing values or \"0\"\n",
    "coffee2020_df = coffee2020_df.dropna()\n",
    "coffee2020_df = coffee2020_df[coffee2020_df['Coffee per capita in 2020 (KG)'] != 0]\n",
    "\n",
    "# Convert the 'Coffee per capita in 2020 (KG)' column to float\n",
    "coffee2020_df['Coffee per capita in 2020 (KG)'] = coffee2020_df['Coffee per capita in 2020 (KG)'].astype(float)\n",
    "\n",
    "# 5. Set 'Country' as the dataset index\n",
    "coffee2020_df = coffee2020_df.set_index('Country')"
   ]
  },
  {
   "cell_type": "markdown",
   "metadata": {},
   "source": [
    "We will now verify that the data has been processed correctly by using checking for missing values and printing the new features. Also we can print how many columns and rows have been remove by using the size of the original dataframe taking away the size the new dataframe as shown below: "
   ]
  },
  {
   "cell_type": "code",
   "execution_count": null,
   "metadata": {},
   "outputs": [],
   "source": [
    "# Check for missing (NaN) or empty (blank) values\n",
    "empty_values = (coffee2020_df == '').sum().sum()  # Count empty strings\n",
    "missing_or_empty_values = coffee2020_df.isnull().sum().sum() + empty_values\n",
    "\n",
    "print(f\"Total missing or empty values: {missing_or_empty_values}\")\n",
    "\n",
    "# Print the features (columns) of the processed dataset\n",
    "print(\"Features in coffee2020_df:\", coffee2020_df.columns.tolist())\n",
    "\n",
    "\n",
    "# Calculate and display the difference in rows and columns\n",
    "row_diff, col_diff = coffee_df.shape[0] - coffee2020_df.shape[0], coffee_df.shape[1] - coffee2020_df.shape[1]\n",
    "print(f\"Difference in rows: {row_diff}\\nDifference in columns: {col_diff}\")\n"
   ]
  },
  {
   "cell_type": "markdown",
   "metadata": {},
   "source": [
    "We can conclude that this dataframe has been processed properly and now is ready for merging or visualization in the next step."
   ]
  },
  {
   "cell_type": "markdown",
   "metadata": {},
   "source": [
    "**Smoking_df:**\n",
    "\n",
    "Similary, it's needed to create a new csv table called **smoking2020_df**:\n",
    "\n",
    "1. Remove unnecessary features, all the data from 2022 and 2021.\n",
    "2. Rename columns to give them clearer titles.\n",
    "3. Change data type when neededto interger.\n",
    "4. Remove missing values or empty strings per row.\n",
    "5. Set 'Country' as the dataset index."
   ]
  },
  {
   "cell_type": "code",
   "execution_count": null,
   "metadata": {},
   "outputs": [],
   "source": [
    "# 1. Create a new DataFrame with only 2020 data\n",
    "smoking2020_df = smoking_df[['country', 'smokingRatesByCountry_rateBothPct2020', \n",
    "                               'smokingRatesByCountry_rateMalePct2020', \n",
    "                               'smokingRatesByCountry_rateFemalePct2020']]\n",
    "\n",
    "# 2. Rename the columns for clarity\n",
    "smoking2020_df = smoking2020_df.rename(columns={\n",
    "    'country': 'Country',\n",
    "    'smokingRatesByCountry_rateBothPct2020': 'Smoking rate in 2020(%)',\n",
    "    'smokingRatesByCountry_rateMalePct2020': 'Male smoking rate in 2020(%)',\n",
    "    'smokingRatesByCountry_rateFemalePct2020': 'Female smoking rate in 2020(%)'\n",
    "})\n",
    "\n",
    "# 3. Convert the columns to integers, coercing errors to NaN\n",
    "smoking2020_df['Smoking rate in 2020(%)'] = pd.to_numeric(smoking2020_df['Smoking rate in 2020(%)'], errors='coerce')\n",
    "smoking2020_df['Male smoking rate in 2020(%)'] = pd.to_numeric(smoking2020_df['Male smoking rate in 2020(%)'], errors='coerce')\n",
    "smoking2020_df['Female smoking rate in 2020(%)'] = pd.to_numeric(smoking2020_df['Female smoking rate in 2020(%)'], errors='coerce')\n",
    "\n",
    "# 4. Remove missing or unwanted data\n",
    "smoking2020_df = smoking2020_df.replace('', np.nan)  # Replace empty strings with NaN\n",
    "smoking2020_df = smoking2020_df.replace('0', np.nan)  # Replace '0' with NaN\n",
    "smoking2020_df = smoking2020_df.dropna()  # Drop rows with NaN values\n",
    "\n",
    "# 5. Set 'Country' as the dataset index\n",
    "smoking2020_df = smoking2020_df.set_index('Country')\n"
   ]
  },
  {
   "cell_type": "markdown",
   "metadata": {},
   "source": [
    "We follow the same procedure to verify  processing of this table. Concluding that the data processing has been succesfull as shown below. "
   ]
  },
  {
   "cell_type": "code",
   "execution_count": null,
   "metadata": {},
   "outputs": [],
   "source": [
    "# Check for missing (NaN) or empty (blank) values\n",
    "empty_values = (smoking2020_df == '').sum().sum()  # Count empty strings\n",
    "missing_or_empty_values =smoking2020_df.isnull().sum().sum() + empty_values\n",
    "\n",
    "print(f\"Total missing or empty values: {missing_or_empty_values}\")\n",
    "\n",
    "# Print the features (columns) of the processed dataset\n",
    "print(\"Features in smoking2020_df:\",smoking2020_df.columns.tolist())\n",
    "\n",
    "\n",
    "# Calculate and display the difference in rows and columns\n",
    "row_diff, col_diff = smoking_df.shape[0] - smoking2020_df.shape[0], smoking_df.shape[1] -smoking2020_df.shape[1]\n",
    "print(f\"Difference in rows: {row_diff}\\nDifference in columns: {col_diff}\")\n"
   ]
  },
  {
   "cell_type": "markdown",
   "metadata": {},
   "source": [
    "**Gamers_df:**\n",
    "\n",
    "We will process the gamers_df dataset similarly, creatign a new dataframe, *gamers2019_df*, performing the following tasks:\n",
    "\n",
    "1. Remove unnecessary columns.\n",
    "2. Rename columns to give them clearer titles.\n",
    "3. Convert relevant columns to the correct data type.\n",
    "4. Remove rows with missing or incorrect data.\n",
    "5. Set 'Country' as the dataset index."
   ]
  },
  {
   "cell_type": "code",
   "execution_count": null,
   "metadata": {},
   "outputs": [],
   "source": [
    "# 1. Create a new DataFrame with only the 'country' and 'Number of Gamers (millions)' columns\n",
    "gamers2019_df = gamers_df[['Country', 'Number of Gamers (millions)']]\n",
    "\n",
    "# 2. Rename the columns for clarity\n",
    "gamers2019_df = gamers2019_df.rename(columns={'Number of Gamers (millions)': 'Gamers in 2019(MM)'})\n",
    "\n",
    "# 3. Convert the 'Gamers in 2019(MM)' column to numeric, coercing errors to NaN\n",
    "gamers2019_df['Gamers in 2019(MM)'] = pd.to_numeric(gamers2019_df['Gamers in 2019(MM)'], errors='coerce')\n",
    "\n",
    "# 4. Remove rows with missing values (NaN)\n",
    "gamers2019_df = gamers2019_df.dropna()\n",
    "\n",
    "# 5. Set 'Country' as the dataset index\n",
    "gamers2019_df = gamers2019_df.set_index('Country')\n",
    "\n",
    "\n"
   ]
  },
  {
   "cell_type": "markdown",
   "metadata": {},
   "source": [
    "Now we verify the dataframe and changes made:"
   ]
  },
  {
   "cell_type": "code",
   "execution_count": null,
   "metadata": {},
   "outputs": [],
   "source": [
    "# Check for missing (NaN) or empty (blank) values in gamers2019_df\n",
    "empty_values = (gamers2019_df == '').sum().sum()  # Count empty strings\n",
    "missing_or_empty_values = gamers2019_df.isnull().sum().sum() + empty_values\n",
    "\n",
    "print(f\"Total missing or empty values: {missing_or_empty_values}\")\n",
    "\n",
    "# Print the features (columns) of the processed dataset\n",
    "print(\"Features in gamers2019_df:\", gamers2019_df.columns.tolist())\n",
    "\n",
    "# Calculate and display the difference in rows and columns between original and processed DataFrame\n",
    "row_diff, col_diff = gamers_df.shape[0] - gamers2019_df.shape[0], gamers_df.shape[1] - gamers2019_df.shape[1]\n",
    "print(f\"Difference in rows: {row_diff}\\nDifference in columns: {col_diff}\")\n"
   ]
  },
  {
   "cell_type": "markdown",
   "metadata": {},
   "source": [
    "**EdStats:**\n",
    "\n",
    "This dataframe requires to carry on a particulary more complex approach. since we first need to find what \"Series\" we want to filter first. Before following our typical processing approach. It's important to create an *\"enrolment_df\"* where we will use \"str.contains()\" method to filter all the series with the word enrolment in the Series column. \n",
    "We display the different titles in series using the \"unique()\" method, displaying every single unique value."
   ]
  },
  {
   "cell_type": "code",
   "execution_count": null,
   "metadata": {},
   "outputs": [],
   "source": [
    "# Filter rows where the 'Series' column contains the word 'enrollment'\n",
    "enrolment_df = edstats_df['Series'][edstats_df['Series'].str.contains('enrolment', case=False, na=False)]\n",
    "\n",
    "# Get unique values from the 'Series' column that contain 'enrollment'\n",
    "unique_enrolment_df = enrolment_df.unique()\n",
    "\n",
    "# Display the list of unique strings containing 'enrollment'\n",
    "print(unique_enrolment_df)\n",
    "\n"
   ]
  },
  {
   "cell_type": "markdown",
   "metadata": {},
   "source": [
    "From this information we can conclude that we want the following series only: 'Enrolment in tertiary education, all programmes, both sexes (number)'\n",
    "\n",
    "Now we proceed to:\n",
    "1. Remove unnecessary rows (All th rows with irrelevant information).\n",
    "2. Rename columns to give them clearer titles.\n",
    "3. Remove unnecessary columns (We will only keep Country and the year 2020)\n",
    "4. Remove rows with missing or incorrect data.\n",
    "5. Convert relevant columns to the correct data type.\n",
    "6. Create a new column that handles the both years (2019 and 2020) prioritizing the most recent.\n",
    "7. Drop rows without numeric data in either 2019 and 2020.\n",
    "8. Set 'Country' as the dataset index.\n"
   ]
  },
  {
   "cell_type": "code",
   "execution_count": null,
   "metadata": {},
   "outputs": [],
   "source": [
    "# Filter edstats_df for rows where 'Series' matches the specified series exactly\n",
    "edstats2020_df = edstats_df[edstats_df['Series'] == 'Enrolment in tertiary education, all programmes, both sexes (number)']\n",
    "\n",
    "# Rename columns in edstats2020_df\n",
    "edstats2020_df = edstats2020_df.rename(columns={'Country Name': 'Region', \n",
    "                                                '2020 [YR2020]': 'Students in 2020',\n",
    "                                                '2019 [YR2019]': 'Students in 2019'\n",
    "                                                })\n",
    "\n",
    "# Keep only 'Region', 'Students in 2019' and 'Students in 2020' columns\n",
    "edstats2020_df = edstats2020_df[['Region', 'Students in 2020','Students in 2019']]\n",
    "\n",
    "# Remove any non-numeric characters from 'Students in 2020' and 'Students in 2019'\n",
    "edstats2020_df['Students in 2020'] = edstats2020_df['Students in 2020'].replace(r'[^0-9]', '', regex=True)\n",
    "edstats2020_df['Students in 2019'] = edstats2020_df['Students in 2019'].replace(r'[^0-9]', '', regex=True)\n",
    "\n",
    "# Convert 'Students in 2020' and 'Students in 2019' columns to integers or NaN\n",
    "edstats2020_df['Students in 2020'] = pd.to_numeric(edstats2020_df['Students in 2020'], errors='coerce').astype('Int64')\n",
    "edstats2020_df['Students in 2019'] = pd.to_numeric(edstats2020_df['Students in 2019'], errors='coerce').astype('Int64')\n",
    "\n",
    "# Create 'Students in 2019-20' column with preference for 'Students in 2020' values\n",
    "edstats2020_df['Students in 2019-20'] = edstats2020_df['Students in 2020'].combine_first(edstats2020_df['Students in 2019'])\n",
    "\n",
    "# Keep only 'Region' and 'Students in 2019-20' columns\n",
    "edstats2020_df = edstats2020_df[['Region', 'Students in 2019-20']]\n",
    "\n",
    "# Drop rows where 'Students in 2019-20' is NaN\n",
    "edstats2020_df = edstats2020_df.dropna(subset=['Students in 2019-20'])\n",
    "\n",
    "# Set 'Region' as the index\n",
    "edstats2020_df = edstats2020_df.set_index('Region')\n",
    "\n",
    "\n",
    "#size display\n",
    "print(f\"Size:\\nRows: {edstats2020_df.shape[0]}, Columns: {edstats2020_df.shape[1]}\")"
   ]
  },
  {
   "cell_type": "markdown",
   "metadata": {},
   "source": [
    "Something very peculiar about this World Bank Groups dataset is the fact that it does not provide only countries but also regions. Therefore we will list all the 'regions' available and then we will proceed to create a data map after carefully choosing each countries most accurate equivalent. Better explained in the merging section."
   ]
  },
  {
   "cell_type": "code",
   "execution_count": null,
   "metadata": {},
   "outputs": [],
   "source": [
    "# Display unique country names in the 'Country' column of edstats2020_df\n",
    "unique_regions = edstats2020_df.index.unique()\n",
    "print(\"Unique regions in edstats2020_df:\\n\", unique_regions)"
   ]
  },
  {
   "cell_type": "markdown",
   "metadata": {},
   "source": [
    "**Merging tables**\n",
    "\n",
    "The last step to follow is to merge \"coffee2020_df\", \"smoking2020_df\" and \"gamers2019_df\" into one single data frame called **\"habits2020_df\"**."
   ]
  },
  {
   "cell_type": "code",
   "execution_count": null,
   "metadata": {},
   "outputs": [],
   "source": [
    "# Merge the DataFrames on 'Country' without including edstats2020_df\n",
    "habits2020_df = smoking2020_df.join(gamers2019_df, how='inner', rsuffix='_gamers')\n",
    "habits2020_df = habits2020_df.join(coffee2020_df, how='inner', rsuffix='_coffee')\n",
    "\n",
    "# Display the size of the resulting DataFrame\n",
    "print(\"Size of habits2020_df:\", habits2020_df.shape)\n",
    "\n"
   ]
  },
  {
   "cell_type": "markdown",
   "metadata": {},
   "source": [
    "As mentioned before, edstats_df does not have a 'Country' column but a 'Region' instead, in order to merge smoothly this two datasets into a single \"HABITS VS EDUCATION\" dataframe. We need to add  a 'Region' column to habits2020_df and assign logical values from the \"unique_regions\" list created before.\n",
    "\n",
    "To achieve this we have made manually a map, When possible we will use the already existing Country for example, China and South Africa. otherwise we allocated it by simple proximity."
   ]
  },
  {
   "cell_type": "code",
   "execution_count": null,
   "metadata": {},
   "outputs": [],
   "source": [
    "# Creating a mapping from habits2020_df to regions in edstats2020_df\n",
    "country_to_region_mapping = {\n",
    "    'China': 'China',  # Direct match\n",
    "    'United States': 'North America',  # United States in North America\n",
    "    'Indonesia': 'East Asia & Pacific',  # Indonesia in Southeast Asia\n",
    "    'Brazil': 'Latin America & Caribbean',  # Brazil in Latin America\n",
    "    'Russia': 'Europe & Central Asia',  # Russia in Eastern Europe\n",
    "    'Japan': 'East Asia & Pacific',  # Japan in East Asia\n",
    "    'Philippines': 'East Asia & Pacific',  # Philippines in Southeast Asia\n",
    "    'Vietnam': 'East Asia & Pacific',  # Vietnam in Southeast Asia\n",
    "    'Iran': 'Middle East & North Africa',  # Iran in the Middle East\n",
    "    'Turkey': 'Europe & Central Asia',  # Turkey in Eastern Europe / Middle East\n",
    "    'Germany': 'Europe & Central Asia',  # Germany in Europe\n",
    "    'Thailand': 'East Asia & Pacific',  # Thailand in Southeast Asia\n",
    "    'United Kingdom': 'Europe & Central Asia',  # UK in Europe\n",
    "    'France': 'Europe & Central Asia',  # France in Europe\n",
    "    'South Africa': 'South Africa',  # Direct match\n",
    "    'Italy': 'Europe & Central Asia',  # Italy in Europe\n",
    "    'South Korea': 'East Asia & Pacific',  # South Korea in East Asia\n",
    "    'Spain': 'Europe & Central Asia',  # Spain in Europe\n",
    "    'Canada': 'North America',  # Canada in North America\n",
    "    'Poland': 'Europe & Central Asia',  # Poland in Europe\n",
    "    'Saudi Arabia': 'Middle East & North Africa',  # Saudi Arabia in the Middle East\n",
    "    'Australia': 'East Asia & Pacific',  # Australia in Oceania\n",
    "    'United Arab Emirates': 'Middle East & North Africa'  # UAE in the Middle East\n",
    "}"
   ]
  },
  {
   "cell_type": "markdown",
   "metadata": {},
   "source": [
    "Now we use the map to create our 'Region' Column in a new dataframe called \"habits2020_REG\":"
   ]
  },
  {
   "cell_type": "code",
   "execution_count": null,
   "metadata": {},
   "outputs": [],
   "source": [
    "# Copy the dataframe correctly\n",
    "habits2020_REG = habits2020_df.copy()  # Add parentheses to properly copy the DataFrame\n",
    "\n",
    "# Now, map the 'Country' (index) to 'Region' using the country_to_region_mapping\n",
    "habits2020_REG['Region'] = habits2020_REG.index.map(country_to_region_mapping)\n",
    "\n",
    "\n",
    "# Group by 'Region' and compute the mean for each region\n",
    "habits2020_REG = habits2020_REG.groupby('Region').mean()\n",
    "\n",
    "# Optional: Reset index if you want 'Region' as a column instead of the index\n",
    "habits2020_REG = habits2020_REG.reset_index()\n",
    "\n",
    "# Print or inspect the new DataFrame\n",
    "print(habits2020_REG)\n",
    "\n",
    "# Set 'Region' as the new index\n",
    "habits2020_REG.set_index('Region', inplace=True)\n",
    "\n",
    "# Display the size of the resulting DataFrame\n",
    "print(\"Size of habits2020_REG:\", habits2020_REG.shape)\n"
   ]
  },
  {
   "cell_type": "markdown",
   "metadata": {},
   "source": [
    "Now we will merge habits2020_REG with edstats2020_df. Finally achieving our goal target habits_vs_education_df.\n",
    "\n",
    "***habits_vs_education_df:***"
   ]
  },
  {
   "cell_type": "code",
   "execution_count": null,
   "metadata": {},
   "outputs": [],
   "source": [
    "# Merge habits2020_REG and edstats2020_df on 'Region'\n",
    "habits_vs_education_df = habits2020_REG.merge(edstats2020_df, left_index=True, right_index=True, how='inner')\n",
    "\n",
    "# Display the merged DataFrame to verify the result\n",
    "print(habits_vs_education_df)\n",
    "\n",
    "# Display the size of the resulting DataFrame\n",
    "print(\"Size of habits_vs_education_df:\", habits_vs_education_df.shape)\n",
    "\n",
    "unique_index_values = habits_vs_education_df.index.unique()\n",
    "print(unique_index_values)\n",
    "\n"
   ]
  },
  {
   "cell_type": "markdown",
   "metadata": {},
   "source": [
    "From habits_vs_education_df we will collect the data we need for each graphic desired to be displayed, as listed below:\n",
    "\n",
    "- figure1 will have a display of the contrast of smoking by gender for each region or country.\n",
    "- figure2 will have\n",
    "- figure 3 will have "
   ]
  },
  {
   "cell_type": "code",
   "execution_count": null,
   "metadata": {},
   "outputs": [
    {
     "data": {
      "image/png": "[encoded data removed]",
      "text/plain": [
       "<Figure size 1200x800 with 1 Axes>"
      ]
     },
     "metadata": {},
     "output_type": "display_data"
    }
   ],
   "source": [
    "# Prepare the data for the table\n",
    "fig1_df = habits_vs_education_df[['Male smoking rate in 2020(%)', 'Female smoking rate in 2020(%)']]\n",
    "fig1_df.index = habits_vs_education_df.index  # Ensure Region is set as the index\n",
    "fig1_df = fig1_df.rename(columns={\n",
    "    'Male smoking rate in 2020(%)': 'Male Smoking Rate (%)',\n",
    "    'Female smoking rate in 2020(%)': 'Female Smoking Rate (%)'\n",
    "})\n",
    "\n",
    "# Create a horizontal bar chart for Female smoking rate over Male smoking rate\n",
    "fig, ax = plt.subplots(figsize=(12, 8))\n",
    "\n",
    "# Plot Male smoking rate bars\n",
    "male_bars = ax.barh(fig1_df.index, fig1_df['Male Smoking Rate (%)'], color='#fafafa', label='Male Smoking Rate')\n",
    "\n",
    "# Plot Female smoking rate bars over Male smoking rate\n",
    "female_bars = ax.barh(fig1_df.index, fig1_df['Female Smoking Rate (%)'], \n",
    "                      left=fig1_df['Male Smoking Rate (%)'], color='#ff7f0e', label='Female Smoking Rate')\n",
    "\n",
    "# Customize the chart\n",
    "ax.set_title('Female vs. Male Smoking Rates by Region (2020)', fontsize=16, weight='bold', color='white')\n",
    "ax.set_xlabel('Smoking Rate (%)', fontsize=14, weight='bold', color='white')\n",
    "ax.set_ylabel('Region', fontsize=14, weight='bold', color='white')\n",
    "ax.set_facecolor('#0c0c0c')  # Inner chart background color\n",
    "fig.patch.set_facecolor('#0c0c0c')  # Outer background color\n",
    "ax.tick_params(colors='white')  # Set tick label color to white\n",
    "\n",
    "# Add a legend\n",
    "ax.legend(title='Gender', fontsize=12, title_fontsize=13, loc='lower left')\n",
    "\n",
    "# Adjust layout to prevent clipping\n",
    "plt.tight_layout()\n",
    "\n",
    "# Display the chart\n",
    "plt.show()"
   ]
  },
  {
   "cell_type": "markdown",
   "metadata": {},
   "source": [
    "***DATA VIZUALIZATION***\n",
    "\n",
    "Now we will display the relevant data:"
   ]
  },
  {
   "cell_type": "code",
   "execution_count": null,
   "metadata": {},
   "outputs": [],
   "source": [
    "\n",
    "sns.set_theme(style=\"whitegrid\", palette=\"pastel\") # Set the style for the plot\n",
    "\n",
    "# Prepare data for the plot\n",
    "df = habits_vs_education_df[['Male smoking rate in 2020(%)', 'Female smoking rate in 2020(%)']]\n",
    "df = df.T\n",
    "df.columns = habits_vs_education_df.index\n",
    "\n",
    "# Reset index and melt the data\n",
    "df = df.reset_index().melt(id_vars='index', value_vars=df.columns[1:], var_name='Region', value_name='Smoking Rate')\n",
    "\n",
    "# Create the figure and axes\n",
    "fig, ax = plt.subplots(figsize=(12, 8))\n",
    "\n",
    "# Set the background color inside the graph area\n",
    "ax.set_facecolor('#f4f4f9')  # Light grey background for the plot area\n",
    "\n",
    "# Set the outer background color for the figure\n",
    "plt.gcf().set_facecolor('#1c1c1e')  # Dark background outside the plot\n",
    "\n",
    "# Define the colors for Male and Female\n",
    "male_color = '#e0e0e0'  # Soft grey for Male data\n",
    "female_color = '#ffb74d'  # Soft orange for Female data\n",
    "\n",
    "# Pivot the data to get Male and Female rates side by side for each region\n",
    "df_pivot = df.pivot_table(index='Region', columns='index', values='Smoking Rate')\n",
    "\n",
    "# Create the stacked bar chart\n",
    "ind = np.arange(len(df_pivot))  # Set the position for the bars\n",
    "bar_width = 0.8  # Width of the bars\n",
    "\n",
    "# Plot male and female smoking rates stacked by region\n",
    "male_bars = ax.barh(ind, df_pivot['Male smoking rate in 2020(%)'], color=male_color, label='Male Smoking Rate', height=bar_width)\n",
    "female_bars = ax.barh(ind, df_pivot['Female smoking rate in 2020(%)'], left=df_pivot['Male smoking rate in 2020(%)'], color=female_color, label='Female Smoking Rate', height=bar_width)\n",
    "\n",
    "# Add totals inside each bar (commented out)\n",
    "# for i in range(len(df_pivot)):\n",
    "#     total = df_pivot['Male smoking rate in 2020(%)'][i] + df_pivot['Female smoking rate in 2020(%)'][i]\n",
    "#     ax.text(total - 1, ind[i], f'{total:.1f}%', ha='center', va='center', fontsize=12, color='#333333', weight='bold')\n",
    "\n",
    "# Title and labels with custom fonts\n",
    "ax.set_title('Smoking Rates by Gender and Region in 2020', fontsize=16, weight='bold', color='#666666')\n",
    "ax.set_xlabel('Smoking Rate (%)', fontsize=14, weight='bold', color='#666666')\n",
    "ax.set_ylabel('Region', fontsize=14, weight='bold', color='#666666')\n",
    "\n",
    "# Set region labels on y-axis with better readability\n",
    "ax.set_yticks(ind)\n",
    "ax.set_yticklabels(df_pivot.index, fontsize=12, color='#A5A5A5')\n",
    "\n",
    "# Set x-axis labels' font size and color using tick_params\n",
    "ax.xaxis.set_tick_params(labelsize=12, labelcolor='#A5A5A5')\n",
    "\n",
    "# Move the legend outside the plot area (right side)\n",
    "ax.legend(fontsize=12, title='Gender', title_fontsize=13, loc='upper left', bbox_to_anchor=(1.05, 1))\n",
    "\n",
    "# Add a grid for easier comparison with a lighter color\n",
    "ax.grid(True, axis='x', linestyle='--', alpha=0.7, color='#f0C0C0')  # Lighter grid color\n",
    "\n",
    "# Adjust layout to prevent clipping and ensure everything fits nicely\n",
    "plt.tight_layout()\n",
    "\n",
    "# Show the plot\n",
    "plt.show()"
   ]
  },
  {
   "cell_type": "markdown",
   "metadata": {},
   "source": [
    "**Comparison of smokers consumption by gender.**"
   ]
  }
 ],
 "metadata": {
  "kernelspec": {
   "display_name": ".venv",
   "language": "python",
   "name": "python3"
  },
  "language_info": {
   "codemirror_mode": {
    "name": "ipython",
    "version": 3
   },
   "file_extension": ".py",
   "mimetype": "text/x-python",
   "name": "python",
   "nbconvert_exporter": "python",
   "pygments_lexer": "ipython3",
   "version": "3.12.5"
  }
 },
 "nbformat": 4,
 "nbformat_minor": 2
}
