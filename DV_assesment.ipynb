{
 "cells": [
  {
   "cell_type": "markdown",
   "metadata": {},
   "source": [
    "First, we will list and import all the libraries that will be used for this data analyzisis report."
   ]
  },
  {
   "cell_type": "code",
   "execution_count": 18,
   "metadata": {},
   "outputs": [],
   "source": [
    "import pandas as pd\n",
    "import os\n",
    "import numpy as np\n",
    "import matplotlib.pyplot as plt\n",
    "import seaborn as sns\n",
    "#from sklearn.linear_model import LinearRegression"
   ]
  },
  {
   "cell_type": "markdown",
   "metadata": {},
   "source": [
    "To make sure the implementation of OS (crucial library in our path referencing internally). We will run the following command which will provide the existing datasets in the 'Dataset' folder."
   ]
  },
  {
   "cell_type": "code",
   "execution_count": null,
   "metadata": {},
   "outputs": [],
   "source": [
    "print(os.listdir('Datasets'))"
   ]
  },
  {
   "cell_type": "markdown",
   "metadata": {},
   "source": []
  },
  {
   "cell_type": "code",
   "execution_count": 20,
   "metadata": {},
   "outputs": [],
   "source": [
    "# Importing the CSV files\n",
    "coffee_df = pd.read_csv('Datasets/coffee.csv')\n",
    "smokingEU_df = pd.read_csv('Datasets/smokingEU.csv')\n",
    "studentsEnrol_df = pd.read_csv('Datasets/studentEnrol.csv')\n",
    "studentsPF_df = pd.read_csv('Datasets/studentPF.csv')\n",
    "gamers_df = pd.read_csv('Datasets/gamers.csv')\n",
    "population_df = pd.read_csv('Datasets/population.csv')\n",
    "studentsEnrolsyear_df = pd.read_csv('Datasets/studentsEnrolyear.csv')"
   ]
  },
  {
   "cell_type": "markdown",
   "metadata": {},
   "source": [
    "Display all the datasets head (first 5 columns)"
   ]
  },
  {
   "cell_type": "code",
   "execution_count": null,
   "metadata": {},
   "outputs": [],
   "source": [
    "print(\"Coffee DataFrame:\")\n",
    "print(coffee_df.head(), \"\\n\")"
   ]
  },
  {
   "cell_type": "code",
   "execution_count": null,
   "metadata": {},
   "outputs": [],
   "source": [
    "\n",
    "print(\"Smoking EU DataFrame:\")\n",
    "print(smokingEU_df.head(), \"\\n\")"
   ]
  },
  {
   "cell_type": "code",
   "execution_count": null,
   "metadata": {},
   "outputs": [],
   "source": [
    "print(\"Students Enrolment DataFrame:\")\n",
    "print(studentsEnrol_df.head(), \"\\n\")"
   ]
  },
  {
   "cell_type": "code",
   "execution_count": null,
   "metadata": {},
   "outputs": [],
   "source": [
    "print(\"Students PF DataFrame:\")\n",
    "print(studentsPF_df.head(), \"\\n\")"
   ]
  },
  {
   "cell_type": "code",
   "execution_count": null,
   "metadata": {},
   "outputs": [],
   "source": [
    "print(\"Gamers DataFrame:\")\n",
    "print(gamers_df.head(), \"\\n\")"
   ]
  },
  {
   "cell_type": "code",
   "execution_count": null,
   "metadata": {},
   "outputs": [],
   "source": [
    "print(\"Population DataFrame:\")\n",
    "print(population_df.head(), \"\\n\")"
   ]
  },
  {
   "cell_type": "markdown",
   "metadata": {},
   "source": [
    "Print collumn headers or features of all our databases"
   ]
  },
  {
   "cell_type": "code",
   "execution_count": null,
   "metadata": {},
   "outputs": [],
   "source": [
    "# Print the column headers for each dataset\n",
    "print(\"smokingEU columns:\", smokingEU_df.columns.tolist(), \"\\n\")\n",
    "print(\"studentPF columns:\", studentsPF_df.columns.tolist(), \"\\n\")\n",
    "print(\"coffee columns:\", coffee_df.columns.tolist(), \"\\n\")\n",
    "print(\"studentEnrol columns:\", studentsEnrol_df.columns.tolist(), \"\\n\")\n",
    "print(\"gamers columns:\", gamers_df.columns.tolist(), \"\\n\")\n",
    "print(\"population columns:\", population_df.columns.tolist(), \"\\n\")"
   ]
  },
  {
   "cell_type": "markdown",
   "metadata": {},
   "source": [
    "*Cleaning data:*\n",
    "\n",
    "We will progresively clean and merge smoking_df and coffee_df into a single dataset for visualization porposes.\n",
    "\n",
    "\n",
    "Smoking_df:\n",
    "First we will trim the first 3 rows of Smoking_df since they don't contain countries information and then we will remove unnecesary columns and rename usable ones"
   ]
  },
  {
   "cell_type": "code",
   "execution_count": null,
   "metadata": {},
   "outputs": [],
   "source": [
    "#Columns we will remove:\n",
    "print(smokingEU_df.head(3), \"\\n\")\n",
    "\n",
    "# Remove rows 1, 2 and 3 from 'smokingEU' dataset\n",
    "smokingEU_df_cleaned = smokingEU_df.drop([0, 1, 2]).reset_index(drop=True)\n",
    "\n",
    "print(\"New Smoking EU DataFrame:\")\n",
    "print(smokingEU_df_cleaned.head(), \"\\n\")"
   ]
  },
  {
   "cell_type": "code",
   "execution_count": null,
   "metadata": {},
   "outputs": [],
   "source": [
    "# Rename the specified columns with \"in 2022\"\n",
    "smokingEU_df_cleaned = smokingEU_df_cleaned.rename(columns={\n",
    "    'SMOKING (Labels)': 'country',\n",
    "    'Total': 'Total smokers in 2019 (%)',\n",
    "    'Less than 20 cigarettes per day': 'Light Smokers in 2019',\n",
    "    '20 or more cigarettes per day': 'Heavy Smokers in 2019'\n",
    "})\n",
    "\n",
    "# Select only the required columns\n",
    "smokingEU_df_cleaned = smokingEU_df_cleaned[['country', 'Total smokers in 2019 (%)', 'Light Smokers in 2019', 'Heavy Smokers in 2019']]\n",
    "\n",
    "# Set 'country' as the index\n",
    "smokingEU_df_cleaned = smokingEU_df_cleaned.set_index('country')\n",
    "\n",
    "# Optionally, print the modified DataFrame to verify changes\n",
    "print(smokingEU_df_cleaned.head())"
   ]
  },
  {
   "cell_type": "markdown",
   "metadata": {},
   "source": [
    "Coffee_df:\n",
    "Now to clear this dataset we will. Set 'countries' as the dataset index,rename the second column to a simpler name and remove the 2016 irrlevant data"
   ]
  },
  {
   "cell_type": "code",
   "execution_count": null,
   "metadata": {},
   "outputs": [],
   "source": [
    "# Set 'country' as the index\n",
    "coffee_df_cleaned = coffee_df.set_index('country')\n",
    "\n",
    "# Rename the specified columns\n",
    "coffee_df_cleaned = coffee_df_cleaned.rename(columns={\n",
    "    'coffeeConsumptionByCountry_perCapitaCons2020': 'Coffee per capita in 2020 (KG)'\n",
    "})\n",
    "\n",
    "# Select only the required columns\n",
    "coffee_df_cleaned = coffee_df_cleaned[['Coffee per capita in 2020 (KG)']]\n",
    "print(coffee_df_cleaned.head())\n"
   ]
  },
  {
   "cell_type": "markdown",
   "metadata": {},
   "source": [
    "Now we will merge this datasets so we can have a refined view of the coffee and cigarrete consumption within EU specifically, followed by removing the unusable or unwanted data. This will conclude the cleaning of this specific dataset. Now we will proceed with the other tables."
   ]
  },
  {
   "cell_type": "code",
   "execution_count": null,
   "metadata": {},
   "outputs": [],
   "source": [
    "# Merge the two DataFrames on the 'country' column, showing only matching countries\n",
    "coffee_smoking_EU_df = coffee_df_cleaned.merge(smokingEU_df_cleaned, on='country', how='inner')\n",
    "\n",
    "#Convert data to numbers and non-numeric data to NaN\n",
    "coffee_smoking_EU_df['Coffee per capita in 2020 (KG)'] = pd.to_numeric(coffee_smoking_EU_df['Coffee per capita in 2020 (KG)'], errors='coerce')\n",
    "coffee_smoking_EU_df['Total smokers in 2019 (%)'] = pd.to_numeric(coffee_smoking_EU_df['Total smokers in 2019 (%)'], errors='coerce')\n",
    "\n",
    "# Drop rows with NaN values\n",
    "coffee_smoking_EU_df.dropna(inplace=True)\n",
    "\n",
    "#Lets see how it looks\n",
    "print(coffee_smoking_EU_df)"
   ]
  },
  {
   "cell_type": "markdown",
   "metadata": {},
   "source": [
    "Gamers Dataset:"
   ]
  },
  {
   "cell_type": "code",
   "execution_count": null,
   "metadata": {},
   "outputs": [],
   "source": []
  }
 ],
 "metadata": {
  "kernelspec": {
   "display_name": ".venv",
   "language": "python",
   "name": "python3"
  },
  "language_info": {
   "codemirror_mode": {
    "name": "ipython",
    "version": 3
   },
   "file_extension": ".py",
   "mimetype": "text/x-python",
   "name": "python",
   "nbconvert_exporter": "python",
   "pygments_lexer": "ipython3",
   "version": "3.12.5"
  }
 },
 "nbformat": 4,
 "nbformat_minor": 2
}
