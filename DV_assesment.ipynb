{
 "cells": [
  {
   "cell_type": "markdown",
   "metadata": {},
   "source": [
    "# Bad habits vs Education\n",
    "This guided project explores whether there is a connection between the student population and \"bad\" habits or behaviors that may negatively impact health. The habits under study are:\n",
    "- Coffee addiction\n",
    "- Smoking\n",
    "- Video game addiction\n",
    "\n",
    "It is important to note that, due to a lack of recent research and available data on these topics, the data sources used in this project range from 2019 to 2020."
   ]
  },
  {
   "cell_type": "markdown",
   "metadata": {},
   "source": [
    "#### Slideshow controls:\n",
    "*Press the `'↓'` key* when available on the bottom-right side of your screen. \n",
    "\n",
    "*Press the `'→'` key* When `'↓'` is not available."
   ]
  },
  {
   "cell_type": "code",
   "execution_count": 356,
   "metadata": {
    "slideshow": {
     "slide_type": "skip"
    }
   },
   "outputs": [],
   "source": [
    "import pandas as pd #For reading and handling CSV files.\n",
    "import numpy as np  # For numerical operations and handling missing values.\n",
    "import matplotlib.pyplot as plt  # For creating basic visualizations.\n",
    "import seaborn as sns  # For advanced data visualization used in the infographic.\n",
    "from IPython.display import Image, display, clear_output, HTML # Used to display images not generated in this notebook\n",
    "from tabulate import tabulate # This beauty lets us create smooth table style outputs in terminal\n",
    "import ipywidgets as widgets # This great tool lets use code into our notebook to make quick displays and customizations"
   ]
  },
  {
   "cell_type": "markdown",
   "metadata": {
    "slideshow": {
     "slide_type": "subslide"
    }
   },
   "source": [
    "## Content:\n",
    "1. Introduction.\n",
    "2. Load Data.\n",
    "3. Visualization Plan.\n",
    "4. Loading & Cleaning Data\n",
    "\n",
    "Also feel free to visit **https://github.com/DefoNotGus/DV_assesment** To find the project's notebook"
   ]
  },
  {
   "cell_type": "markdown",
   "metadata": {
    "slideshow": {
     "slide_type": "subslide"
    }
   },
   "source": [
    "### Is there a relationship between habits and education? \n",
    "\n",
    "By examining the demographic factors associated with these habits and their prevalence in different cultures, the project aims to uncover potential links between these behaviors and the student population. Such insights could help society understand whether these harmful or misused habits are directly related to the stress faced by higher education students, highlighting the need to restructure education programs in regions where these addictions are more prevalent."
   ]
  },
  {
   "cell_type": "markdown",
   "metadata": {},
   "source": [
    "<div style=\"text-align: center;\">\n",
    "  <img src=\"img/img1.png\" alt=\"Image\" style=\"width:300px;\">\n",
    "</div>"
   ]
  },
  {
   "cell_type": "markdown",
   "metadata": {
    "slideshow": {
     "slide_type": "slide"
    }
   },
   "source": [
    "# Data Description."
   ]
  },
  {
   "cell_type": "markdown",
   "metadata": {
    "slideshow": {
     "slide_type": "subslide"
    }
   },
   "source": [
    "## The datasets used to study the habits are:\n",
    "\n",
    "1. **Coffee Consumption Dataset**: Lists coffee consumption by country with extensive coverage.\n",
    "- **Source**: [Kaggle](https://www.kaggle.com/datasets/nurielreuven/coffee-consumption-by-country-2022/data) \n",
    "- **Size**: 182 rows and 3 columns\n",
    "- **Domain**: Healthcare and Marketing\n",
    "2. **Smoking Rates Dataset**: Provides a chronological overview of smoking rates in many countries, sourced via a Google search.\n",
    "- **Source**: [World Population Review](https://worldpopulationreview.com/country-rankings/smoking-rates-by-country)  \n",
    "- **Size**: 164 rows and 10 columns\n",
    "- **Domain**: Healthcare\n",
    "3. **Gamers Market Dataset**: Compiles 2019 gaming market overview in many countries, offering chronological alignment with the other datasets. Data Scraping  techniques used.\n",
    "- **Source**: [Allcorrect Games](https://allcorrectgames.com/insights/a-global-research-of-2019-games-market/)  \n",
    "- **Size**: 29 rows and 8 columns\n",
    "- **Domain**: Marketing and Videogames"
   ]
  },
  {
   "cell_type": "markdown",
   "metadata": {
    "slideshow": {
     "slide_type": "subslide"
    }
   },
   "source": [
    "## The datasets used to analyze students and enrollment data are:  \n",
    "\n",
    "1. **Education Statistics Dataset**: A massive dataset with student enrollment data by region, sourced using the World Bank DataBank tool.  \n",
    "- **Source**: [World Bank](https://databank.worldbank.org/indicator/)  \n",
    "- **Size**: 197235 rows and 8 columns\n",
    "- **Domain**: Education\n",
    "2. **Students Dataset**: Provides country-specific enrollment data filtered to align with the habits datasets, sourced from the OECD Data Explorer.  \n",
    "- **Source**: [OECD Data Explorer](https://data-explorer.oecd.org/)  \n",
    "- **Size**: 56 rows 26 columns\n",
    "- **Domain**: Education"
   ]
  },
  {
   "cell_type": "markdown",
   "metadata": {
    "slideshow": {
     "slide_type": "slide"
    }
   },
   "source": [
    "# Visualization Plan."
   ]
  },
  {
   "cell_type": "markdown",
   "metadata": {
    "slideshow": {
     "slide_type": "fragment"
    }
   },
   "source": [
    "This project aims to generate a visual correlation between bad habits and education and analyze factors contributing to certain addictions using python as the tool for data handling. The approach involves, exploring and procesing data, Gathering the relevant data for visualization techniques. Creating an infographic that visually represents addiction patterns in relation to gender, geographic, and academic factors. Canva is the tool chosen for the design of the infographic and the draft."
   ]
  },
  {
   "cell_type": "markdown",
   "metadata": {
    "slideshow": {
     "slide_type": "subslide"
    }
   },
   "source": [
    "## Key Variables:\n",
    "- Country: Countries where the data was gathered, This will be our index for certain datasets.\n",
    "- Coffee consumption per capita (2020): The amount of coffee divided by the population, basically the amount of coffee \"per head\" in Kilograms.\n",
    "- Smokig Rates (2020): The porcentage of population that smokes of each country listed.  \n",
    "- Smokig Rates (2020) Male: The porcentage of male population that smokes of each country listed.  \n",
    "- Smokig Rates (2020)Female: The porcentage of female population that smokes of each country listed.  \n",
    "- Gamers (2019): The number of gamers per country in millions.\n",
    "- Students per region (2020): Number of enrolled students per region.\n",
    "- Students per country (2020): Number of enrolled students per Country."
   ]
  },
  {
   "cell_type": "markdown",
   "metadata": {
    "slideshow": {
     "slide_type": "subslide"
    }
   },
   "source": [
    "## Visualizations: \n",
    "Since the data to visualize is mainly comparative the plots to implement will be: \n",
    "- Bar charts\n",
    "- Line graphs\n",
    "- Column charts\n",
    "- Heatmaps\n",
    "- Pie chart\n",
    "- Stack bar chart\n",
    "- Area chart"
   ]
  },
  {
   "cell_type": "markdown",
   "metadata": {
    "slideshow": {
     "slide_type": "subslide"
    }
   },
   "source": [
    "## Accesibility, Accuracy and presentation:\n",
    "\n",
    "This project will follow up the following considerations to provide accesibility and avoid missleading data:\n",
    "- Use readable fonts and sufficient text size.\n",
    "- Include legends and labels for clarity and provide alternative text for charts.\n",
    "- Ensure colorblind-friendly palettes (Only one graph has red-greens contrast, but the legend is there to help and guide).\n",
    "- Normalize data for fair comparisons.\n",
    "- Avoid cherry-picking data and present outliers and anomalies transparently.\n",
    "- Clarify causation vs. correlation to avoid misinterpretation.\n",
    "- Make the data and the code open source to enable users to make their own visualizations and research.\n",
    "- Present a neat and clear format for the infographic like shown below (Click for fullscreen):\n",
    " "
   ]
  },
  {
   "cell_type": "markdown",
   "metadata": {},
   "source": [
    "<div style=\"text-align: center;\">\n",
    "  <img src=\"img/Draft.png\" alt=\"Image\" style=\"width:300px; cursor: pointer;\" onclick=\"openFullscreen(this)\">\n",
    "</div>\n",
    "\n",
    "<script>\n",
    "  function openFullscreen(img) {\n",
    "    const fullscreen = document.createElement('div');\n",
    "    fullscreen.style.position = 'fixed';\n",
    "    fullscreen.style.top = '0';\n",
    "    fullscreen.style.left = '0';\n",
    "    fullscreen.style.width = '100%';\n",
    "    fullscreen.style.height = '100%';\n",
    "    fullscreen.style.background = 'rgba(0, 0, 0, 0.8)';\n",
    "    fullscreen.style.display = 'flex';\n",
    "    fullscreen.style.alignItems = 'center';\n",
    "    fullscreen.style.justifyContent = 'center';\n",
    "    fullscreen.style.zIndex = '9999';\n",
    "    fullscreen.style.cursor = 'pointer';\n",
    "\n",
    "    const fullscreenImg = document.createElement('img');\n",
    "    fullscreenImg.src = img.src;\n",
    "    fullscreenImg.style.maxWidth = '90%';\n",
    "    fullscreenImg.style.maxHeight = '120%';\n",
    "    fullscreenImg.style.border = '5px solid white';\n",
    "    fullscreen.appendChild(fullscreenImg);\n",
    "\n",
    "    fullscreen.onclick = () => document.body.removeChild(fullscreen);\n",
    "    document.body.appendChild(fullscreen);\n",
    "  }\n",
    "</script>\n"
   ]
  },
  {
   "cell_type": "markdown",
   "metadata": {
    "slideshow": {
     "slide_type": "slide"
    }
   },
   "source": [
    "# Data Loading and Cleaning."
   ]
  },
  {
   "cell_type": "markdown",
   "metadata": {
    "slideshow": {
     "slide_type": "fragment"
    }
   },
   "source": [
    "> The HTML.SLIDESHOW Version will only have snips of code. to see the full implementation check the notebook.\n",
    "\n",
    "Datasets are loaded into variables using `pd.read_csv()` from the Pandas library."
   ]
  },
  {
   "cell_type": "code",
   "execution_count": 357,
   "metadata": {},
   "outputs": [],
   "source": [
    "# Importing the CSV files\n",
    "coffee_df = pd.read_csv('Datasets/coffee.csv')\n",
    "smoking_df = pd.read_csv('Datasets/smoking.csv')\n",
    "gamers_df = pd.read_csv('Datasets/gamers.csv')\n",
    "edstats_df = pd.read_csv('Datasets/edstats.csv')\n",
    "students_df = pd.read_csv('Datasets/students.csv')"
   ]
  },
  {
   "cell_type": "markdown",
   "metadata": {
    "slideshow": {
     "slide_type": "subslide"
    }
   },
   "source": [
    "## Display size and features."
   ]
  },
  {
   "cell_type": "markdown",
   "metadata": {},
   "source": [
    "Now we will display the size, features and data type of each dataframe using the methods `shape()` and `columns.tolist` and arranging them with `Tabulate` as shown below:"
   ]
  },
  {
   "cell_type": "code",
   "execution_count": 358,
   "metadata": {},
   "outputs": [],
   "source": [
    "# Prepare data for each dataframe using a list of title, shape and features.\n",
    "data = [\n",
    "    [\"Coffee DataFrame\", coffee_df.shape[0], coffee_df.shape[1], \", \".join(coffee_df.columns.tolist())],\n",
    "    [\"Smoking DataFrame\", smoking_df.shape[0], smoking_df.shape[1], \", \".join(smoking_df.columns.tolist())],\n",
    "    [\"Gamers DataFrame\", gamers_df.shape[0], gamers_df.shape[1], \", \".join(gamers_df.columns.tolist())],\n",
    "    [\"Students Enrollment DataFrame\", edstats_df.shape[0], edstats_df.shape[1], \", \".join(edstats_df.columns.tolist())],\n",
    "    [\"Students Enrollment by Country DataFrame\", students_df.shape[0], students_df.shape[1], \", \".join(students_df.columns.tolist())]\n",
    "]\n",
    "# Define the table headers\n",
    "headers = [\"DataFrame\", \"Rows\", \"Columns\", \"Features\"]\n",
    "# Generate HTML table using tabulate\n",
    "table_html = tabulate(data, headers=headers, tablefmt=\"html\")\n",
    "# Wrap the table in a div to scale it down and enable scrolling\n",
    "scaled_table_html = f'''\n",
    "<div style=\" max-height: 400px; overflow: auto;\">\n",
    "    {table_html}\n",
    "</div>\n",
    "'''"
   ]
  },
  {
   "cell_type": "code",
   "execution_count": 359,
   "metadata": {
    "slideshow": {
     "slide_type": "subslide"
    }
   },
   "outputs": [
    {
     "data": {
      "text/html": [
       "\n",
       "<div style=\" max-height: 400px; overflow: auto;\">\n",
       "    <table>\n",
       "<thead>\n",
       "<tr><th>DataFrame                               </th><th style=\"text-align: right;\">  Rows</th><th style=\"text-align: right;\">  Columns</th><th>Features                                                                                                                                                                                                                                                                                                                                                                    </th></tr>\n",
       "</thead>\n",
       "<tbody>\n",
       "<tr><td>Coffee DataFrame                        </td><td style=\"text-align: right;\">   182</td><td style=\"text-align: right;\">        3</td><td>country, coffeeConsumptionByCountry_perCapitaCons2020, coffeeConsumptionByCountry_perCapitaCons2016                                                                                                                                                                                                                                                                         </td></tr>\n",
       "<tr><td>Smoking DataFrame                       </td><td style=\"text-align: right;\">   164</td><td style=\"text-align: right;\">       10</td><td>country, smokingRatesByCountry_rateBothPct2022, smokingRatesByCountry_rateMalePct2022, smokingRatesByCountry_rateFemalePct2022, smokingRatesByCountry_rateBothPct2021, smokingRatesByCountry_rateMalePct2021, smokingRatesByCountry_rateFemalePct2021, smokingRatesByCountry_rateBothPct2020, smokingRatesByCountry_rateMalePct2020, smokingRatesByCountry_rateFemalePct2020</td></tr>\n",
       "<tr><td>Gamers DataFrame                        </td><td style=\"text-align: right;\">    29</td><td style=\"text-align: right;\">        8</td><td>№, Country, Games Market Revenue (mln USD), Internet Penetration (%), Number of Gamers (millions), Mobile Market (mln USD), Average Yearly Spending on Mobile Games (USD), EF EPI (English Proficiency Index)                                                                                                                                                               </td></tr>\n",
       "<tr><td>Students Enrollment DataFrame           </td><td style=\"text-align: right;\">197235</td><td style=\"text-align: right;\">        8</td><td>Series, Series Code, Country Name, Country Code, 2019 [YR2019], 2020 [YR2020], 2021 [YR2021], 2022 [YR2022]                                                                                                                                                                                                                                                                 </td></tr>\n",
       "<tr><td>Students Enrollment by Country DataFrame</td><td style=\"text-align: right;\">    52</td><td style=\"text-align: right;\">       26</td><td>STRUCTURE, STRUCTURE_ID, STRUCTURE_NAME, ACTION, LOCATION, Country, INDICATOR, Indicator, SUBJECT, Subject, MEASURE, Measure, FREQUENCY, Frequency, TIME_PERIOD, Time, OBS_VALUE, Observation Value, OBS_STATUS, Observation Status, UNIT_MEASURE, Unit of Measures, UNIT_MULT, Multiplier, BASE_PER, Base reference period                                                 </td></tr>\n",
       "</tbody>\n",
       "</table>\n",
       "</div>\n"
      ],
      "text/plain": [
       "<IPython.core.display.HTML object>"
      ]
     },
     "execution_count": 359,
     "metadata": {},
     "output_type": "execute_result"
    }
   ],
   "source": [
    "# Display the scaled and scrollable HTML table\n",
    "HTML(scaled_table_html)"
   ]
  },
  {
   "cell_type": "markdown",
   "metadata": {
    "slideshow": {
     "slide_type": "slide"
    }
   },
   "source": [
    "# Peeking in Our Data"
   ]
  },
  {
   "cell_type": "markdown",
   "metadata": {
    "slideshow": {
     "slide_type": "fragment"
    }
   },
   "source": [
    "Using `ipywidgets`(library), `Tabulate`, `.head()` and `tail()` (`Pandas` functions) we will display a small version of how every table looks like for error handling purposes.\n",
    "> `ipywidgets` Only available in Jupyter Notebook version"
   ]
  },
  {
   "cell_type": "code",
   "execution_count": 360,
   "metadata": {
    "slideshow": {
     "slide_type": "skip"
    }
   },
   "outputs": [
    {
     "data": {
      "application/vnd.jupyter.widget-view+json": {
       "model_id": "79e05d68f4014951b610cd5dd1f50905",
       "version_major": 2,
       "version_minor": 0
      },
      "text/plain": [
       "VBox(children=(HBox(children=(IntText(value=5, description='Head Rows:'), IntText(value=5, description='Tail R…"
      ]
     },
     "metadata": {},
     "output_type": "display_data"
    }
   ],
   "source": [
    "\n",
    "descriptions = {\n",
    "    \"coffee\": \"This dataset lists 183 countries' coffee consumption per capita (in kg) for 2020 and 2016, highlighting high-consumption countries.\",\n",
    "    \"smoking\": \"This dataset shows smoking rates by gender in 164 countries (2020–2022), enabling comparisons by country and gender.\",\n",
    "    \"gamers\": \"This dataset covers 29 countries, including gaming revenue, internet penetration, gamer count, mobile market stats, and English proficiency, making it ideal for analyzing gamers by country.\",\n",
    "    \"edstats\": \"This dataset contains extensive data collected per series, not just by country. For this project, we'll focus on analyzing higher education populations by filtering the relevant series.\",\n",
    "    \"students\": \"This dataset shows specific information gathered from a list of selected countries in other datasets. it shows the students enrolment data per level (primary, secundary, terciary and total).\"\n",
    "}\n",
    "\n",
    "# Create the Output widget to display the dataframes and descriptions\n",
    "output = widgets.Output(\n",
    "    layout=widgets.Layout(\n",
    "        max_height=\"400px\", overflow=\"auto\"  # Enables both vertical and horizontal scrolling\n",
    "    )\n",
    ")\n",
    "\n",
    "# Create text input widgets for the user to specify head and tail rows\n",
    "head_input = widgets.IntText(value=5, description='Head Rows:', min=1)\n",
    "tail_input = widgets.IntText(value=5, description='Tail Rows:', min=1)\n",
    "\n",
    "# Function to display head, tail, and description of the dataframe based on user input\n",
    "def display_head_tail(df, description, head_rows, tail_rows):\n",
    "    with output:\n",
    "        clear_output(wait=True)  # Clears previous output\n",
    "        # Display the description as HTML\n",
    "        display(widgets.HTML(f\"<b>{description}</b><br>\"))  # Display the description\n",
    "        # Convert the dataframe to HTML and display it\n",
    "        display(HTML(df.head(head_rows).to_html()))\n",
    "        display(HTML(df.tail(tail_rows).to_html()))\n",
    "\n",
    "# Create the buttons\n",
    "coffee_button = widgets.Button(description=\"Coffee Data\")\n",
    "smoking_button = widgets.Button(description=\"Smoking Data\")\n",
    "gamers_button = widgets.Button(description=\"Gamers Data\")\n",
    "edstats_button = widgets.Button(description=\"Education Stats\")\n",
    "students_button = widgets.Button(description=\"Students Data\")\n",
    "\n",
    "# Function to handle button clicks\n",
    "def on_button_click(button):\n",
    "    # Get the values from the head and tail inputs\n",
    "    head_rows = head_input.value\n",
    "    tail_rows = tail_input.value\n",
    "    \n",
    "    if button == coffee_button:\n",
    "        display_head_tail(coffee_df, descriptions[\"coffee\"], head_rows, tail_rows)\n",
    "    elif button == smoking_button:\n",
    "        display_head_tail(smoking_df, descriptions[\"smoking\"], head_rows, tail_rows)\n",
    "    elif button == gamers_button:\n",
    "        display_head_tail(gamers_df, descriptions[\"gamers\"], head_rows, tail_rows)\n",
    "    elif button == edstats_button:\n",
    "        display_head_tail(edstats_df, descriptions[\"edstats\"], head_rows, tail_rows)\n",
    "    elif button == students_button:\n",
    "        display_head_tail(students_df, descriptions[\"students\"], head_rows, tail_rows)\n",
    "\n",
    "# Attach the function to each button\n",
    "coffee_button.on_click(on_button_click)\n",
    "smoking_button.on_click(on_button_click)\n",
    "gamers_button.on_click(on_button_click)\n",
    "edstats_button.on_click(on_button_click)\n",
    "students_button.on_click(on_button_click)\n",
    "\n",
    "# Layout for horizontal alignment of buttons\n",
    "buttons = widgets.HBox([coffee_button, smoking_button, gamers_button, edstats_button, students_button])\n",
    "# Display the input widgets, buttons, and the output area\n",
    "display(widgets.VBox([widgets.HBox([head_input, tail_input]), buttons, output]))"
   ]
  },
  {
   "cell_type": "markdown",
   "metadata": {
    "slideshow": {
     "slide_type": "skip"
    }
   },
   "source": [
    "The code below is used for improving the GUI in HTML version."
   ]
  },
  {
   "cell_type": "code",
   "execution_count": 361,
   "metadata": {
    "slideshow": {
     "slide_type": "subslide"
    }
   },
   "outputs": [],
   "source": [
    "#Function to gather an specific amount of tail and head from a dataframe\n",
    "def display_df_head_tail(df, num_rows=5):\n",
    "    # Get the head and tail of the DataFrame\n",
    "    head = df.head(num_rows).to_html(classes='table table-bordered table-striped')\n",
    "    tail = df.tail(num_rows).to_html(classes='table table-bordered table-striped')\n",
    "# Combine head and tail into a single HTML output with styled scrolling container\n",
    "    return f'''\n",
    "    <style>\n",
    "        .scrollable {{\n",
    "            max-height: 250px;\n",
    "            overflow: auto;\n",
    "        }}\n",
    "    </style>\n",
    "    <h4>First {num_rows} rows (Head) of the selected DataFrame</h4>\n",
    "    <div class=\"scrollable\">\n",
    "        {head}\n",
    "    </div>\n",
    "    <h4>Last {num_rows} rows (Tail) of the selected DataFrame</h4>\n",
    "    <div class=\"scrollable\">\n",
    "        {tail}\n",
    "    </div>\n",
    "    '''"
   ]
  },
  {
   "cell_type": "code",
   "execution_count": 362,
   "metadata": {
    "slideshow": {
     "slide_type": "subslide"
    }
   },
   "outputs": [
    {
     "data": {
      "text/html": [
       "\n",
       "    <style>\n",
       "        .scrollable {\n",
       "            max-height: 250px;\n",
       "            overflow: auto;\n",
       "        }\n",
       "    </style>\n",
       "    <h4>First 5 rows (Head) of the selected DataFrame</h4>\n",
       "    <div class=\"scrollable\">\n",
       "        <table border=\"1\" class=\"dataframe table table-bordered table-striped\">\n",
       "  <thead>\n",
       "    <tr style=\"text-align: right;\">\n",
       "      <th></th>\n",
       "      <th>country</th>\n",
       "      <th>coffeeConsumptionByCountry_perCapitaCons2020</th>\n",
       "      <th>coffeeConsumptionByCountry_perCapitaCons2016</th>\n",
       "    </tr>\n",
       "  </thead>\n",
       "  <tbody>\n",
       "    <tr>\n",
       "      <th>0</th>\n",
       "      <td>Albania</td>\n",
       "      <td>4.51</td>\n",
       "      <td>NaN</td>\n",
       "    </tr>\n",
       "    <tr>\n",
       "      <th>1</th>\n",
       "      <td>Algeria</td>\n",
       "      <td>0.97</td>\n",
       "      <td>NaN</td>\n",
       "    </tr>\n",
       "    <tr>\n",
       "      <th>2</th>\n",
       "      <td>Angola</td>\n",
       "      <td>0.33</td>\n",
       "      <td>NaN</td>\n",
       "    </tr>\n",
       "    <tr>\n",
       "      <th>3</th>\n",
       "      <td>Antigua and Barbuda</td>\n",
       "      <td>6.07</td>\n",
       "      <td>NaN</td>\n",
       "    </tr>\n",
       "    <tr>\n",
       "      <th>4</th>\n",
       "      <td>Argentina</td>\n",
       "      <td>2.32</td>\n",
       "      <td>NaN</td>\n",
       "    </tr>\n",
       "  </tbody>\n",
       "</table>\n",
       "    </div>\n",
       "    <h4>Last 5 rows (Tail) of the selected DataFrame</h4>\n",
       "    <div class=\"scrollable\">\n",
       "        <table border=\"1\" class=\"dataframe table table-bordered table-striped\">\n",
       "  <thead>\n",
       "    <tr style=\"text-align: right;\">\n",
       "      <th></th>\n",
       "      <th>country</th>\n",
       "      <th>coffeeConsumptionByCountry_perCapitaCons2020</th>\n",
       "      <th>coffeeConsumptionByCountry_perCapitaCons2016</th>\n",
       "    </tr>\n",
       "  </thead>\n",
       "  <tbody>\n",
       "    <tr>\n",
       "      <th>177</th>\n",
       "      <td>Venezuela</td>\n",
       "      <td>1.86</td>\n",
       "      <td>NaN</td>\n",
       "    </tr>\n",
       "    <tr>\n",
       "      <th>178</th>\n",
       "      <td>Vietnam</td>\n",
       "      <td>5.77</td>\n",
       "      <td>NaN</td>\n",
       "    </tr>\n",
       "    <tr>\n",
       "      <th>179</th>\n",
       "      <td>Yemen</td>\n",
       "      <td>0.59</td>\n",
       "      <td>NaN</td>\n",
       "    </tr>\n",
       "    <tr>\n",
       "      <th>180</th>\n",
       "      <td>Zambia</td>\n",
       "      <td>0.09</td>\n",
       "      <td>NaN</td>\n",
       "    </tr>\n",
       "    <tr>\n",
       "      <th>181</th>\n",
       "      <td>Zimbabwe</td>\n",
       "      <td>0.15</td>\n",
       "      <td>NaN</td>\n",
       "    </tr>\n",
       "  </tbody>\n",
       "</table>\n",
       "    </div>\n",
       "    "
      ],
      "text/plain": [
       "<IPython.core.display.HTML object>"
      ]
     },
     "metadata": {},
     "output_type": "display_data"
    }
   ],
   "source": [
    "#Coffee\n",
    "display(HTML(display_df_head_tail(coffee_df)))"
   ]
  },
  {
   "cell_type": "markdown",
   "metadata": {
    "slideshow": {
     "slide_type": "subslide"
    }
   },
   "source": [
    "### coffee_df\n",
    "- Default numeric index\n",
    "- 2020 Data: is a float type, ranges from 0.09 - 6.07.\n",
    "- 2016 Data: Lots of NaN (Not a Number) which means the Dataframe may have issues with that column. Either way we will drop that column as we only need 2020 "
   ]
  },
  {
   "cell_type": "code",
   "execution_count": 363,
   "metadata": {
    "slideshow": {
     "slide_type": "subslide"
    }
   },
   "outputs": [
    {
     "data": {
      "text/html": [
       "\n",
       "    <style>\n",
       "        .scrollable {\n",
       "            max-height: 250px;\n",
       "            overflow: auto;\n",
       "        }\n",
       "    </style>\n",
       "    <h4>First 5 rows (Head) of the selected DataFrame</h4>\n",
       "    <div class=\"scrollable\">\n",
       "        <table border=\"1\" class=\"dataframe table table-bordered table-striped\">\n",
       "  <thead>\n",
       "    <tr style=\"text-align: right;\">\n",
       "      <th></th>\n",
       "      <th>country</th>\n",
       "      <th>smokingRatesByCountry_rateBothPct2022</th>\n",
       "      <th>smokingRatesByCountry_rateMalePct2022</th>\n",
       "      <th>smokingRatesByCountry_rateFemalePct2022</th>\n",
       "      <th>smokingRatesByCountry_rateBothPct2021</th>\n",
       "      <th>smokingRatesByCountry_rateMalePct2021</th>\n",
       "      <th>smokingRatesByCountry_rateFemalePct2021</th>\n",
       "      <th>smokingRatesByCountry_rateBothPct2020</th>\n",
       "      <th>smokingRatesByCountry_rateMalePct2020</th>\n",
       "      <th>smokingRatesByCountry_rateFemalePct2020</th>\n",
       "    </tr>\n",
       "  </thead>\n",
       "  <tbody>\n",
       "    <tr>\n",
       "      <th>0</th>\n",
       "      <td>India</td>\n",
       "      <td>24.3</td>\n",
       "      <td>37.8</td>\n",
       "      <td>10.8</td>\n",
       "      <td>25.2</td>\n",
       "      <td>38.8</td>\n",
       "      <td>11.5</td>\n",
       "      <td>26.1</td>\n",
       "      <td>40.0</td>\n",
       "      <td>12.2</td>\n",
       "    </tr>\n",
       "    <tr>\n",
       "      <th>1</th>\n",
       "      <td>China</td>\n",
       "      <td>23.4</td>\n",
       "      <td>45.1</td>\n",
       "      <td>1.6</td>\n",
       "      <td>23.4</td>\n",
       "      <td>45.2</td>\n",
       "      <td>1.6</td>\n",
       "      <td>23.7</td>\n",
       "      <td>45.6</td>\n",
       "      <td>1.7</td>\n",
       "    </tr>\n",
       "    <tr>\n",
       "      <th>2</th>\n",
       "      <td>United States</td>\n",
       "      <td>24.3</td>\n",
       "      <td>29.9</td>\n",
       "      <td>18.7</td>\n",
       "      <td>24.7</td>\n",
       "      <td>30.4</td>\n",
       "      <td>18.9</td>\n",
       "      <td>24.9</td>\n",
       "      <td>30.6</td>\n",
       "      <td>19.3</td>\n",
       "    </tr>\n",
       "    <tr>\n",
       "      <th>3</th>\n",
       "      <td>Indonesia</td>\n",
       "      <td>38.2</td>\n",
       "      <td>73.1</td>\n",
       "      <td>3.3</td>\n",
       "      <td>37.9</td>\n",
       "      <td>72.4</td>\n",
       "      <td>3.4</td>\n",
       "      <td>37.8</td>\n",
       "      <td>72.1</td>\n",
       "      <td>3.6</td>\n",
       "    </tr>\n",
       "    <tr>\n",
       "      <th>4</th>\n",
       "      <td>Pakistan</td>\n",
       "      <td>18.9</td>\n",
       "      <td>30.8</td>\n",
       "      <td>7.0</td>\n",
       "      <td>19.5</td>\n",
       "      <td>31.7</td>\n",
       "      <td>7.3</td>\n",
       "      <td>20.2</td>\n",
       "      <td>32.8</td>\n",
       "      <td>7.7</td>\n",
       "    </tr>\n",
       "  </tbody>\n",
       "</table>\n",
       "    </div>\n",
       "    <h4>Last 5 rows (Tail) of the selected DataFrame</h4>\n",
       "    <div class=\"scrollable\">\n",
       "        <table border=\"1\" class=\"dataframe table table-bordered table-striped\">\n",
       "  <thead>\n",
       "    <tr style=\"text-align: right;\">\n",
       "      <th></th>\n",
       "      <th>country</th>\n",
       "      <th>smokingRatesByCountry_rateBothPct2022</th>\n",
       "      <th>smokingRatesByCountry_rateMalePct2022</th>\n",
       "      <th>smokingRatesByCountry_rateFemalePct2022</th>\n",
       "      <th>smokingRatesByCountry_rateBothPct2021</th>\n",
       "      <th>smokingRatesByCountry_rateMalePct2021</th>\n",
       "      <th>smokingRatesByCountry_rateFemalePct2021</th>\n",
       "      <th>smokingRatesByCountry_rateBothPct2020</th>\n",
       "      <th>smokingRatesByCountry_rateMalePct2020</th>\n",
       "      <th>smokingRatesByCountry_rateFemalePct2020</th>\n",
       "    </tr>\n",
       "  </thead>\n",
       "  <tbody>\n",
       "    <tr>\n",
       "      <th>159</th>\n",
       "      <td>Marshall Islands</td>\n",
       "      <td>29.8</td>\n",
       "      <td>51.2</td>\n",
       "      <td>8.5</td>\n",
       "      <td>29.7</td>\n",
       "      <td>51.0</td>\n",
       "      <td>8.5</td>\n",
       "      <td>29.6</td>\n",
       "      <td>50.7</td>\n",
       "      <td>8.6</td>\n",
       "    </tr>\n",
       "    <tr>\n",
       "      <th>160</th>\n",
       "      <td>Palau</td>\n",
       "      <td>17.3</td>\n",
       "      <td>27.1</td>\n",
       "      <td>7.6</td>\n",
       "      <td>17.7</td>\n",
       "      <td>27.6</td>\n",
       "      <td>7.8</td>\n",
       "      <td>18.0</td>\n",
       "      <td>27.9</td>\n",
       "      <td>8.0</td>\n",
       "    </tr>\n",
       "    <tr>\n",
       "      <th>161</th>\n",
       "      <td>Cook Islands</td>\n",
       "      <td>27.0</td>\n",
       "      <td>31.8</td>\n",
       "      <td>22.2</td>\n",
       "      <td>27.4</td>\n",
       "      <td>32.3</td>\n",
       "      <td>22.6</td>\n",
       "      <td>27.9</td>\n",
       "      <td>32.9</td>\n",
       "      <td>23.0</td>\n",
       "    </tr>\n",
       "    <tr>\n",
       "      <th>162</th>\n",
       "      <td>Nauru</td>\n",
       "      <td>48.3</td>\n",
       "      <td>48.6</td>\n",
       "      <td>48.1</td>\n",
       "      <td>48.9</td>\n",
       "      <td>49.0</td>\n",
       "      <td>48.7</td>\n",
       "      <td>49.4</td>\n",
       "      <td>49.2</td>\n",
       "      <td>49.5</td>\n",
       "    </tr>\n",
       "    <tr>\n",
       "      <th>163</th>\n",
       "      <td>Tuvalu</td>\n",
       "      <td>33.7</td>\n",
       "      <td>48.2</td>\n",
       "      <td>19.1</td>\n",
       "      <td>34.2</td>\n",
       "      <td>48.9</td>\n",
       "      <td>19.4</td>\n",
       "      <td>34.8</td>\n",
       "      <td>50.0</td>\n",
       "      <td>19.7</td>\n",
       "    </tr>\n",
       "  </tbody>\n",
       "</table>\n",
       "    </div>\n",
       "    "
      ],
      "text/plain": [
       "<IPython.core.display.HTML object>"
      ]
     },
     "metadata": {},
     "output_type": "display_data"
    }
   ],
   "source": [
    "#smoking\n",
    "display(HTML(display_df_head_tail(smoking_df)))"
   ]
  },
  {
   "cell_type": "markdown",
   "metadata": {
    "slideshow": {
     "slide_type": "subslide"
    }
   },
   "source": [
    "### smoking_df\n",
    "- Default numeric index\n",
    "- All the columns (except country) seem to be in float type. \n",
    "- Does not appear to have either missing or invalid data "
   ]
  },
  {
   "cell_type": "code",
   "execution_count": 364,
   "metadata": {
    "slideshow": {
     "slide_type": "subslide"
    }
   },
   "outputs": [
    {
     "data": {
      "text/html": [
       "\n",
       "    <style>\n",
       "        .scrollable {\n",
       "            max-height: 250px;\n",
       "            overflow: auto;\n",
       "        }\n",
       "    </style>\n",
       "    <h4>First 5 rows (Head) of the selected DataFrame</h4>\n",
       "    <div class=\"scrollable\">\n",
       "        <table border=\"1\" class=\"dataframe table table-bordered table-striped\">\n",
       "  <thead>\n",
       "    <tr style=\"text-align: right;\">\n",
       "      <th></th>\n",
       "      <th>№</th>\n",
       "      <th>Country</th>\n",
       "      <th>Games Market Revenue (mln USD)</th>\n",
       "      <th>Internet Penetration (%)</th>\n",
       "      <th>Number of Gamers (millions)</th>\n",
       "      <th>Mobile Market (mln USD)</th>\n",
       "      <th>Average Yearly Spending on Mobile Games (USD)</th>\n",
       "      <th>EF EPI (English Proficiency Index)</th>\n",
       "    </tr>\n",
       "  </thead>\n",
       "  <tbody>\n",
       "    <tr>\n",
       "      <th>0</th>\n",
       "      <td>1</td>\n",
       "      <td>China</td>\n",
       "      <td>36,540</td>\n",
       "      <td>59.30%</td>\n",
       "      <td>640</td>\n",
       "      <td>21,140</td>\n",
       "      <td>14.69</td>\n",
       "      <td>53.44 (Moderate)</td>\n",
       "    </tr>\n",
       "    <tr>\n",
       "      <th>1</th>\n",
       "      <td>2</td>\n",
       "      <td>United States</td>\n",
       "      <td>36,500</td>\n",
       "      <td>86.50%</td>\n",
       "      <td>215.15</td>\n",
       "      <td>9,937</td>\n",
       "      <td>30.02</td>\n",
       "      <td>100.00 (Native)</td>\n",
       "    </tr>\n",
       "    <tr>\n",
       "      <th>2</th>\n",
       "      <td>3</td>\n",
       "      <td>Japan</td>\n",
       "      <td>18,683</td>\n",
       "      <td>93.20%</td>\n",
       "      <td>79.6</td>\n",
       "      <td>6,528.40</td>\n",
       "      <td>51.65</td>\n",
       "      <td>51.51 (Low)</td>\n",
       "    </tr>\n",
       "    <tr>\n",
       "      <th>3</th>\n",
       "      <td>4</td>\n",
       "      <td>South Korea</td>\n",
       "      <td>6,194</td>\n",
       "      <td>86.50%</td>\n",
       "      <td>41.9</td>\n",
       "      <td>5,810</td>\n",
       "      <td>113.48</td>\n",
       "      <td>55.04 (Moderate)</td>\n",
       "    </tr>\n",
       "    <tr>\n",
       "      <th>4</th>\n",
       "      <td>5</td>\n",
       "      <td>Germany</td>\n",
       "      <td>6,000</td>\n",
       "      <td>94.50%</td>\n",
       "      <td>58.59</td>\n",
       "      <td>606.3</td>\n",
       "      <td>7.24</td>\n",
       "      <td>63.77 (Very High)</td>\n",
       "    </tr>\n",
       "  </tbody>\n",
       "</table>\n",
       "    </div>\n",
       "    <h4>Last 5 rows (Tail) of the selected DataFrame</h4>\n",
       "    <div class=\"scrollable\">\n",
       "        <table border=\"1\" class=\"dataframe table table-bordered table-striped\">\n",
       "  <thead>\n",
       "    <tr style=\"text-align: right;\">\n",
       "      <th></th>\n",
       "      <th>№</th>\n",
       "      <th>Country</th>\n",
       "      <th>Games Market Revenue (mln USD)</th>\n",
       "      <th>Internet Penetration (%)</th>\n",
       "      <th>Number of Gamers (millions)</th>\n",
       "      <th>Mobile Market (mln USD)</th>\n",
       "      <th>Average Yearly Spending on Mobile Games (USD)</th>\n",
       "      <th>EF EPI (English Proficiency Index)</th>\n",
       "    </tr>\n",
       "  </thead>\n",
       "  <tbody>\n",
       "    <tr>\n",
       "      <th>24</th>\n",
       "      <td>25</td>\n",
       "      <td>Iran</td>\n",
       "      <td>458</td>\n",
       "      <td>80.50%</td>\n",
       "      <td>30</td>\n",
       "      <td>198</td>\n",
       "      <td>2.36</td>\n",
       "      <td>48.69 (Low)</td>\n",
       "    </tr>\n",
       "    <tr>\n",
       "      <th>25</th>\n",
       "      <td>26</td>\n",
       "      <td>United Arab Emirates</td>\n",
       "      <td>342</td>\n",
       "      <td>99%</td>\n",
       "      <td>7.84</td>\n",
       "      <td>78.7</td>\n",
       "      <td>8.03</td>\n",
       "      <td>48.19 (Very Low)</td>\n",
       "    </tr>\n",
       "    <tr>\n",
       "      <th>26</th>\n",
       "      <td>27</td>\n",
       "      <td>Singapore</td>\n",
       "      <td>319</td>\n",
       "      <td>84%</td>\n",
       "      <td>4.8</td>\n",
       "      <td>52</td>\n",
       "      <td>8.97</td>\n",
       "      <td>66.82 (Very High)</td>\n",
       "    </tr>\n",
       "    <tr>\n",
       "      <th>27</th>\n",
       "      <td>28</td>\n",
       "      <td>South Africa</td>\n",
       "      <td>224.58</td>\n",
       "      <td>67.70%</td>\n",
       "      <td>50.9</td>\n",
       "      <td>43.6</td>\n",
       "      <td>0.74</td>\n",
       "      <td>65.38 (Very High)</td>\n",
       "    </tr>\n",
       "    <tr>\n",
       "      <th>28</th>\n",
       "      <td>29</td>\n",
       "      <td>Nigeria</td>\n",
       "      <td>85</td>\n",
       "      <td>61.10%</td>\n",
       "      <td>–</td>\n",
       "      <td>56</td>\n",
       "      <td>0.27</td>\n",
       "      <td>58.26 (High)</td>\n",
       "    </tr>\n",
       "  </tbody>\n",
       "</table>\n",
       "    </div>\n",
       "    "
      ],
      "text/plain": [
       "<IPython.core.display.HTML object>"
      ]
     },
     "metadata": {},
     "output_type": "display_data"
    }
   ],
   "source": [
    "# Gamers\n",
    "display(HTML(display_df_head_tail(gamers_df)))"
   ]
  },
  {
   "cell_type": "markdown",
   "metadata": {
    "slideshow": {
     "slide_type": "subslide"
    }
   },
   "source": [
    "### gamers_df\n",
    "- Default numeric index\n",
    "- A \"№\" column that is meant to be an index\n",
    "- Most data is string although it has numbers within.\n",
    "- Does not appear to have either missing or invalid data "
   ]
  },
  {
   "cell_type": "code",
   "execution_count": 365,
   "metadata": {
    "slideshow": {
     "slide_type": "subslide"
    }
   },
   "outputs": [
    {
     "data": {
      "text/html": [
       "\n",
       "    <style>\n",
       "        .scrollable {\n",
       "            max-height: 250px;\n",
       "            overflow: auto;\n",
       "        }\n",
       "    </style>\n",
       "    <h4>First 5 rows (Head) of the selected DataFrame</h4>\n",
       "    <div class=\"scrollable\">\n",
       "        <table border=\"1\" class=\"dataframe table table-bordered table-striped\">\n",
       "  <thead>\n",
       "    <tr style=\"text-align: right;\">\n",
       "      <th></th>\n",
       "      <th>Series</th>\n",
       "      <th>Series Code</th>\n",
       "      <th>Country Name</th>\n",
       "      <th>Country Code</th>\n",
       "      <th>2019 [YR2019]</th>\n",
       "      <th>2020 [YR2020]</th>\n",
       "      <th>2021 [YR2021]</th>\n",
       "      <th>2022 [YR2022]</th>\n",
       "    </tr>\n",
       "  </thead>\n",
       "  <tbody>\n",
       "    <tr>\n",
       "      <th>0</th>\n",
       "      <td>Labor force with advanced education, male (% of male labor force)</td>\n",
       "      <td>SL.TLF.ADVN.MA.ZS</td>\n",
       "      <td>Afghanistan</td>\n",
       "      <td>AFG</td>\n",
       "      <td>..</td>\n",
       "      <td>..</td>\n",
       "      <td>..</td>\n",
       "      <td>..</td>\n",
       "    </tr>\n",
       "    <tr>\n",
       "      <th>1</th>\n",
       "      <td>Labor force with advanced education, male (% of male labor force)</td>\n",
       "      <td>SL.TLF.ADVN.MA.ZS</td>\n",
       "      <td>Albania</td>\n",
       "      <td>ALB</td>\n",
       "      <td>..</td>\n",
       "      <td>..</td>\n",
       "      <td>..</td>\n",
       "      <td>..</td>\n",
       "    </tr>\n",
       "    <tr>\n",
       "      <th>2</th>\n",
       "      <td>Labor force with advanced education, male (% of male labor force)</td>\n",
       "      <td>SL.TLF.ADVN.MA.ZS</td>\n",
       "      <td>Algeria</td>\n",
       "      <td>DZA</td>\n",
       "      <td>..</td>\n",
       "      <td>..</td>\n",
       "      <td>..</td>\n",
       "      <td>..</td>\n",
       "    </tr>\n",
       "    <tr>\n",
       "      <th>3</th>\n",
       "      <td>Labor force with advanced education, male (% of male labor force)</td>\n",
       "      <td>SL.TLF.ADVN.MA.ZS</td>\n",
       "      <td>American Samoa</td>\n",
       "      <td>ASM</td>\n",
       "      <td>..</td>\n",
       "      <td>..</td>\n",
       "      <td>..</td>\n",
       "      <td>..</td>\n",
       "    </tr>\n",
       "    <tr>\n",
       "      <th>4</th>\n",
       "      <td>Labor force with advanced education, male (% of male labor force)</td>\n",
       "      <td>SL.TLF.ADVN.MA.ZS</td>\n",
       "      <td>Andorra</td>\n",
       "      <td>AND</td>\n",
       "      <td>..</td>\n",
       "      <td>..</td>\n",
       "      <td>..</td>\n",
       "      <td>..</td>\n",
       "    </tr>\n",
       "  </tbody>\n",
       "</table>\n",
       "    </div>\n",
       "    <h4>Last 5 rows (Tail) of the selected DataFrame</h4>\n",
       "    <div class=\"scrollable\">\n",
       "        <table border=\"1\" class=\"dataframe table table-bordered table-striped\">\n",
       "  <thead>\n",
       "    <tr style=\"text-align: right;\">\n",
       "      <th></th>\n",
       "      <th>Series</th>\n",
       "      <th>Series Code</th>\n",
       "      <th>Country Name</th>\n",
       "      <th>Country Code</th>\n",
       "      <th>2019 [YR2019]</th>\n",
       "      <th>2020 [YR2020]</th>\n",
       "      <th>2021 [YR2021]</th>\n",
       "      <th>2022 [YR2022]</th>\n",
       "    </tr>\n",
       "  </thead>\n",
       "  <tbody>\n",
       "    <tr>\n",
       "      <th>197230</th>\n",
       "      <td>NaN</td>\n",
       "      <td>NaN</td>\n",
       "      <td>NaN</td>\n",
       "      <td>NaN</td>\n",
       "      <td>NaN</td>\n",
       "      <td>NaN</td>\n",
       "      <td>NaN</td>\n",
       "      <td>NaN</td>\n",
       "    </tr>\n",
       "    <tr>\n",
       "      <th>197231</th>\n",
       "      <td>NaN</td>\n",
       "      <td>NaN</td>\n",
       "      <td>NaN</td>\n",
       "      <td>NaN</td>\n",
       "      <td>NaN</td>\n",
       "      <td>NaN</td>\n",
       "      <td>NaN</td>\n",
       "      <td>NaN</td>\n",
       "    </tr>\n",
       "    <tr>\n",
       "      <th>197232</th>\n",
       "      <td>NaN</td>\n",
       "      <td>NaN</td>\n",
       "      <td>NaN</td>\n",
       "      <td>NaN</td>\n",
       "      <td>NaN</td>\n",
       "      <td>NaN</td>\n",
       "      <td>NaN</td>\n",
       "      <td>NaN</td>\n",
       "    </tr>\n",
       "    <tr>\n",
       "      <th>197233</th>\n",
       "      <td>Data from database: Education Statistics - All Indicators</td>\n",
       "      <td>NaN</td>\n",
       "      <td>NaN</td>\n",
       "      <td>NaN</td>\n",
       "      <td>NaN</td>\n",
       "      <td>NaN</td>\n",
       "      <td>NaN</td>\n",
       "      <td>NaN</td>\n",
       "    </tr>\n",
       "    <tr>\n",
       "      <th>197234</th>\n",
       "      <td>Last Updated: 06/25/2024</td>\n",
       "      <td>NaN</td>\n",
       "      <td>NaN</td>\n",
       "      <td>NaN</td>\n",
       "      <td>NaN</td>\n",
       "      <td>NaN</td>\n",
       "      <td>NaN</td>\n",
       "      <td>NaN</td>\n",
       "    </tr>\n",
       "  </tbody>\n",
       "</table>\n",
       "    </div>\n",
       "    "
      ],
      "text/plain": [
       "<IPython.core.display.HTML object>"
      ]
     },
     "metadata": {},
     "output_type": "display_data"
    }
   ],
   "source": [
    "# Education Stats\n",
    "display(HTML(display_df_head_tail(edstats_df)))"
   ]
  },
  {
   "cell_type": "markdown",
   "metadata": {
    "slideshow": {
     "slide_type": "subslide"
    }
   },
   "source": [
    "### edstats_df\n",
    "\n",
    "- Huge DataFrame\n",
    "- Lots of NaN (probaby corrupted or wrong data)\n",
    "- The information will have to be filter by series as each series happens to have countries data.\n",
    "- Lots of \"..\"  (empty data)"
   ]
  },
  {
   "cell_type": "code",
   "execution_count": 366,
   "metadata": {
    "slideshow": {
     "slide_type": "subslide"
    }
   },
   "outputs": [
    {
     "data": {
      "text/html": [
       "\n",
       "    <style>\n",
       "        .scrollable {\n",
       "            max-height: 250px;\n",
       "            overflow: auto;\n",
       "        }\n",
       "    </style>\n",
       "    <h4>First 5 rows (Head) of the selected DataFrame</h4>\n",
       "    <div class=\"scrollable\">\n",
       "        <table border=\"1\" class=\"dataframe table table-bordered table-striped\">\n",
       "  <thead>\n",
       "    <tr style=\"text-align: right;\">\n",
       "      <th></th>\n",
       "      <th>STRUCTURE</th>\n",
       "      <th>STRUCTURE_ID</th>\n",
       "      <th>STRUCTURE_NAME</th>\n",
       "      <th>ACTION</th>\n",
       "      <th>LOCATION</th>\n",
       "      <th>Country</th>\n",
       "      <th>INDICATOR</th>\n",
       "      <th>Indicator</th>\n",
       "      <th>SUBJECT</th>\n",
       "      <th>Subject</th>\n",
       "      <th>MEASURE</th>\n",
       "      <th>Measure</th>\n",
       "      <th>FREQUENCY</th>\n",
       "      <th>Frequency</th>\n",
       "      <th>TIME_PERIOD</th>\n",
       "      <th>Time</th>\n",
       "      <th>OBS_VALUE</th>\n",
       "      <th>Observation Value</th>\n",
       "      <th>OBS_STATUS</th>\n",
       "      <th>Observation Status</th>\n",
       "      <th>UNIT_MEASURE</th>\n",
       "      <th>Unit of Measures</th>\n",
       "      <th>UNIT_MULT</th>\n",
       "      <th>Multiplier</th>\n",
       "      <th>BASE_PER</th>\n",
       "      <th>Base reference period</th>\n",
       "    </tr>\n",
       "  </thead>\n",
       "  <tbody>\n",
       "    <tr>\n",
       "      <th>0</th>\n",
       "      <td>DATAFLOW</td>\n",
       "      <td>OECD:DF_DP_LIVE(1.0)</td>\n",
       "      <td>OECD Data Archive</td>\n",
       "      <td>I</td>\n",
       "      <td>FRA</td>\n",
       "      <td>France</td>\n",
       "      <td>STUDENT</td>\n",
       "      <td>Number of students</td>\n",
       "      <td>TRY</td>\n",
       "      <td>Tertiary</td>\n",
       "      <td>IDX2015</td>\n",
       "      <td>2015=100</td>\n",
       "      <td>A</td>\n",
       "      <td>Annual</td>\n",
       "      <td>2020</td>\n",
       "      <td>NaN</td>\n",
       "      <td>113.34500</td>\n",
       "      <td>NaN</td>\n",
       "      <td>A</td>\n",
       "      <td>NaN</td>\n",
       "      <td>NaN</td>\n",
       "      <td>NaN</td>\n",
       "      <td>NaN</td>\n",
       "      <td>NaN</td>\n",
       "      <td>NaN</td>\n",
       "      <td>NaN</td>\n",
       "    </tr>\n",
       "    <tr>\n",
       "      <th>1</th>\n",
       "      <td>DATAFLOW</td>\n",
       "      <td>OECD:DF_DP_LIVE(1.0)</td>\n",
       "      <td>OECD Data Archive</td>\n",
       "      <td>I</td>\n",
       "      <td>DEU</td>\n",
       "      <td>Germany</td>\n",
       "      <td>STUDENT</td>\n",
       "      <td>Number of students</td>\n",
       "      <td>PRY</td>\n",
       "      <td>Primary</td>\n",
       "      <td>IDX2015</td>\n",
       "      <td>2015=100</td>\n",
       "      <td>A</td>\n",
       "      <td>Annual</td>\n",
       "      <td>2020</td>\n",
       "      <td>NaN</td>\n",
       "      <td>104.62360</td>\n",
       "      <td>NaN</td>\n",
       "      <td>A</td>\n",
       "      <td>NaN</td>\n",
       "      <td>NaN</td>\n",
       "      <td>NaN</td>\n",
       "      <td>NaN</td>\n",
       "      <td>NaN</td>\n",
       "      <td>NaN</td>\n",
       "      <td>NaN</td>\n",
       "    </tr>\n",
       "    <tr>\n",
       "      <th>2</th>\n",
       "      <td>DATAFLOW</td>\n",
       "      <td>OECD:DF_DP_LIVE(1.0)</td>\n",
       "      <td>OECD Data Archive</td>\n",
       "      <td>I</td>\n",
       "      <td>ITA</td>\n",
       "      <td>Italy</td>\n",
       "      <td>STUDENT</td>\n",
       "      <td>Number of students</td>\n",
       "      <td>PRY_NTRY</td>\n",
       "      <td>Primary to post-secondary non-tertiary</td>\n",
       "      <td>IDX2015</td>\n",
       "      <td>2015=100</td>\n",
       "      <td>A</td>\n",
       "      <td>Annual</td>\n",
       "      <td>2020</td>\n",
       "      <td>NaN</td>\n",
       "      <td>98.49902</td>\n",
       "      <td>NaN</td>\n",
       "      <td>A</td>\n",
       "      <td>NaN</td>\n",
       "      <td>NaN</td>\n",
       "      <td>NaN</td>\n",
       "      <td>NaN</td>\n",
       "      <td>NaN</td>\n",
       "      <td>NaN</td>\n",
       "      <td>NaN</td>\n",
       "    </tr>\n",
       "    <tr>\n",
       "      <th>3</th>\n",
       "      <td>DATAFLOW</td>\n",
       "      <td>OECD:DF_DP_LIVE(1.0)</td>\n",
       "      <td>OECD Data Archive</td>\n",
       "      <td>I</td>\n",
       "      <td>KOR</td>\n",
       "      <td>Korea</td>\n",
       "      <td>STUDENT</td>\n",
       "      <td>Number of students</td>\n",
       "      <td>PRY_NTRY</td>\n",
       "      <td>Primary to post-secondary non-tertiary</td>\n",
       "      <td>IDX2015</td>\n",
       "      <td>2015=100</td>\n",
       "      <td>A</td>\n",
       "      <td>Annual</td>\n",
       "      <td>2020</td>\n",
       "      <td>NaN</td>\n",
       "      <td>87.87145</td>\n",
       "      <td>NaN</td>\n",
       "      <td>A</td>\n",
       "      <td>NaN</td>\n",
       "      <td>NaN</td>\n",
       "      <td>NaN</td>\n",
       "      <td>NaN</td>\n",
       "      <td>NaN</td>\n",
       "      <td>NaN</td>\n",
       "      <td>NaN</td>\n",
       "    </tr>\n",
       "    <tr>\n",
       "      <th>4</th>\n",
       "      <td>DATAFLOW</td>\n",
       "      <td>OECD:DF_DP_LIVE(1.0)</td>\n",
       "      <td>OECD Data Archive</td>\n",
       "      <td>I</td>\n",
       "      <td>ESP</td>\n",
       "      <td>Spain</td>\n",
       "      <td>STUDENT</td>\n",
       "      <td>Number of students</td>\n",
       "      <td>ALLLEVEL</td>\n",
       "      <td>All levels</td>\n",
       "      <td>IDX2015</td>\n",
       "      <td>2015=100</td>\n",
       "      <td>A</td>\n",
       "      <td>Annual</td>\n",
       "      <td>2020</td>\n",
       "      <td>NaN</td>\n",
       "      <td>104.24360</td>\n",
       "      <td>NaN</td>\n",
       "      <td>A</td>\n",
       "      <td>NaN</td>\n",
       "      <td>NaN</td>\n",
       "      <td>NaN</td>\n",
       "      <td>NaN</td>\n",
       "      <td>NaN</td>\n",
       "      <td>NaN</td>\n",
       "      <td>NaN</td>\n",
       "    </tr>\n",
       "  </tbody>\n",
       "</table>\n",
       "    </div>\n",
       "    <h4>Last 5 rows (Tail) of the selected DataFrame</h4>\n",
       "    <div class=\"scrollable\">\n",
       "        <table border=\"1\" class=\"dataframe table table-bordered table-striped\">\n",
       "  <thead>\n",
       "    <tr style=\"text-align: right;\">\n",
       "      <th></th>\n",
       "      <th>STRUCTURE</th>\n",
       "      <th>STRUCTURE_ID</th>\n",
       "      <th>STRUCTURE_NAME</th>\n",
       "      <th>ACTION</th>\n",
       "      <th>LOCATION</th>\n",
       "      <th>Country</th>\n",
       "      <th>INDICATOR</th>\n",
       "      <th>Indicator</th>\n",
       "      <th>SUBJECT</th>\n",
       "      <th>Subject</th>\n",
       "      <th>MEASURE</th>\n",
       "      <th>Measure</th>\n",
       "      <th>FREQUENCY</th>\n",
       "      <th>Frequency</th>\n",
       "      <th>TIME_PERIOD</th>\n",
       "      <th>Time</th>\n",
       "      <th>OBS_VALUE</th>\n",
       "      <th>Observation Value</th>\n",
       "      <th>OBS_STATUS</th>\n",
       "      <th>Observation Status</th>\n",
       "      <th>UNIT_MEASURE</th>\n",
       "      <th>Unit of Measures</th>\n",
       "      <th>UNIT_MULT</th>\n",
       "      <th>Multiplier</th>\n",
       "      <th>BASE_PER</th>\n",
       "      <th>Base reference period</th>\n",
       "    </tr>\n",
       "  </thead>\n",
       "  <tbody>\n",
       "    <tr>\n",
       "      <th>47</th>\n",
       "      <td>DATAFLOW</td>\n",
       "      <td>OECD:DF_DP_LIVE(1.0)</td>\n",
       "      <td>OECD Data Archive</td>\n",
       "      <td>I</td>\n",
       "      <td>GBR</td>\n",
       "      <td>United Kingdom</td>\n",
       "      <td>STUDENT</td>\n",
       "      <td>Number of students</td>\n",
       "      <td>ALLLEVEL</td>\n",
       "      <td>All levels</td>\n",
       "      <td>IDX2015</td>\n",
       "      <td>2015=100</td>\n",
       "      <td>A</td>\n",
       "      <td>Annual</td>\n",
       "      <td>2020</td>\n",
       "      <td>NaN</td>\n",
       "      <td>99.19232</td>\n",
       "      <td>NaN</td>\n",
       "      <td>A</td>\n",
       "      <td>NaN</td>\n",
       "      <td>NaN</td>\n",
       "      <td>NaN</td>\n",
       "      <td>NaN</td>\n",
       "      <td>NaN</td>\n",
       "      <td>NaN</td>\n",
       "      <td>NaN</td>\n",
       "    </tr>\n",
       "    <tr>\n",
       "      <th>48</th>\n",
       "      <td>DATAFLOW</td>\n",
       "      <td>OECD:DF_DP_LIVE(1.0)</td>\n",
       "      <td>OECD Data Archive</td>\n",
       "      <td>I</td>\n",
       "      <td>GBR</td>\n",
       "      <td>United Kingdom</td>\n",
       "      <td>STUDENT</td>\n",
       "      <td>Number of students</td>\n",
       "      <td>PRY</td>\n",
       "      <td>Primary</td>\n",
       "      <td>IDX2015</td>\n",
       "      <td>2015=100</td>\n",
       "      <td>A</td>\n",
       "      <td>Annual</td>\n",
       "      <td>2020</td>\n",
       "      <td>NaN</td>\n",
       "      <td>104.34020</td>\n",
       "      <td>NaN</td>\n",
       "      <td>A</td>\n",
       "      <td>NaN</td>\n",
       "      <td>NaN</td>\n",
       "      <td>NaN</td>\n",
       "      <td>NaN</td>\n",
       "      <td>NaN</td>\n",
       "      <td>NaN</td>\n",
       "      <td>NaN</td>\n",
       "    </tr>\n",
       "    <tr>\n",
       "      <th>49</th>\n",
       "      <td>DATAFLOW</td>\n",
       "      <td>OECD:DF_DP_LIVE(1.0)</td>\n",
       "      <td>OECD Data Archive</td>\n",
       "      <td>I</td>\n",
       "      <td>GBR</td>\n",
       "      <td>United Kingdom</td>\n",
       "      <td>STUDENT</td>\n",
       "      <td>Number of students</td>\n",
       "      <td>TRY</td>\n",
       "      <td>Tertiary</td>\n",
       "      <td>IDX2015</td>\n",
       "      <td>2015=100</td>\n",
       "      <td>A</td>\n",
       "      <td>Annual</td>\n",
       "      <td>2020</td>\n",
       "      <td>NaN</td>\n",
       "      <td>115.78140</td>\n",
       "      <td>NaN</td>\n",
       "      <td>A</td>\n",
       "      <td>NaN</td>\n",
       "      <td>NaN</td>\n",
       "      <td>NaN</td>\n",
       "      <td>NaN</td>\n",
       "      <td>NaN</td>\n",
       "      <td>NaN</td>\n",
       "      <td>NaN</td>\n",
       "    </tr>\n",
       "    <tr>\n",
       "      <th>50</th>\n",
       "      <td>DATAFLOW</td>\n",
       "      <td>OECD:DF_DP_LIVE(1.0)</td>\n",
       "      <td>OECD Data Archive</td>\n",
       "      <td>I</td>\n",
       "      <td>IND</td>\n",
       "      <td>India</td>\n",
       "      <td>STUDENT</td>\n",
       "      <td>Number of students</td>\n",
       "      <td>TRY</td>\n",
       "      <td>Tertiary</td>\n",
       "      <td>IDX2015</td>\n",
       "      <td>2015=100</td>\n",
       "      <td>A</td>\n",
       "      <td>Annual</td>\n",
       "      <td>2020</td>\n",
       "      <td>NaN</td>\n",
       "      <td>113.34730</td>\n",
       "      <td>NaN</td>\n",
       "      <td>A</td>\n",
       "      <td>NaN</td>\n",
       "      <td>NaN</td>\n",
       "      <td>NaN</td>\n",
       "      <td>NaN</td>\n",
       "      <td>NaN</td>\n",
       "      <td>NaN</td>\n",
       "      <td>NaN</td>\n",
       "    </tr>\n",
       "    <tr>\n",
       "      <th>51</th>\n",
       "      <td>DATAFLOW</td>\n",
       "      <td>OECD:DF_DP_LIVE(1.0)</td>\n",
       "      <td>OECD Data Archive</td>\n",
       "      <td>I</td>\n",
       "      <td>CAN</td>\n",
       "      <td>Canada</td>\n",
       "      <td>STUDENT</td>\n",
       "      <td>Number of students</td>\n",
       "      <td>ALLLEVEL</td>\n",
       "      <td>All levels</td>\n",
       "      <td>IDX2015</td>\n",
       "      <td>2015=100</td>\n",
       "      <td>A</td>\n",
       "      <td>Annual</td>\n",
       "      <td>2020</td>\n",
       "      <td>NaN</td>\n",
       "      <td>105.69040</td>\n",
       "      <td>NaN</td>\n",
       "      <td>A</td>\n",
       "      <td>NaN</td>\n",
       "      <td>NaN</td>\n",
       "      <td>NaN</td>\n",
       "      <td>NaN</td>\n",
       "      <td>NaN</td>\n",
       "      <td>NaN</td>\n",
       "      <td>NaN</td>\n",
       "    </tr>\n",
       "  </tbody>\n",
       "</table>\n",
       "    </div>\n",
       "    "
      ],
      "text/plain": [
       "<IPython.core.display.HTML object>"
      ]
     },
     "metadata": {},
     "output_type": "display_data"
    }
   ],
   "source": [
    "# Education Stats\n",
    "display(HTML(display_df_head_tail(students_df)))"
   ]
  },
  {
   "cell_type": "markdown",
   "metadata": {
    "slideshow": {
     "slide_type": "subslide"
    }
   },
   "source": [
    "### students_df:\n",
    "- Too many features, Some are irrelevant for visualization (e.g. \"STRUCTURE\" and \"STRUCTURE_ID\").\n",
    "- Two Subject columns \"SUBJECT\" and \"Subject\" \n",
    "- Lots of NaN, But luckily its mostly on irrelevant features"
   ]
  },
  {
   "cell_type": "markdown",
   "metadata": {
    "slideshow": {
     "slide_type": "slide"
    }
   },
   "source": [
    "# Processing Data:"
   ]
  },
  {
   "cell_type": "markdown",
   "metadata": {
    "slideshow": {
     "slide_type": "fragment"
    }
   },
   "source": [
    "We will progresively remove or handle missing values, correcting or convert data types accurately, filtering out unnecessary rows or columns, transforming data by normalizing, scaling, or aggregating to ensure consistency and usability."
   ]
  },
  {
   "cell_type": "markdown",
   "metadata": {
    "slideshow": {
     "slide_type": "subslide"
    }
   },
   "source": [
    "## Coffee_df:\n",
    "\n",
    "Now to process this dataset, we will do the following in a new variable called **coffee2020_df**:\n",
    "\n",
    "1. Remove unnecessary features, specifically the 2016 data.\n",
    "2. Rename columns to give them clearer titles.\n",
    "3. Remove rows with missing values using `.dropna()`.\n",
    "4. Change data type when needed, as by default is often adopted \"string\" type.\n",
    "5. Set 'Country' as the dataset index.\n",
    "6. Using `.isin()` check for empty values.\n",
    "7. Display new features and changes in size of the DF. \n",
    "\n",
    "The main reason for keeping only the 2020 information is to perform a country-to-country analysis within the same year."
   ]
  },
  {
   "cell_type": "code",
   "execution_count": 367,
   "metadata": {
    "slideshow": {
     "slide_type": "subslide"
    }
   },
   "outputs": [
    {
     "name": "stdout",
     "output_type": "stream",
     "text": [
      "Current missing or empty values: 0\n",
      "Features in coffee2020_df: ['Coffee per capita in 2020 (KG)']\n",
      "Difference in rows: 3\n",
      "Difference in columns: 2\n",
      " Remember Country is now index ☻\n"
     ]
    }
   ],
   "source": [
    "coffee2020_df = (coffee_df\n",
    "    .drop(columns=['coffeeConsumptionByCountry_perCapitaCons2016'])  # Drop unnecessary column\n",
    "    .rename(columns={'coffeeConsumptionByCountry_perCapitaCons2020': 'Coffee per capita in 2020 (KG)', \n",
    "                     'country': 'Country'})  # Rename columns\n",
    "    .dropna()  # Remove rows with missing values\n",
    ")\n",
    "coffee2020_df = coffee2020_df[coffee2020_df['Coffee per capita in 2020 (KG)'] != 0]  # Remove rows with '0'\n",
    "coffee2020_df['Coffee per capita in 2020 (KG)'] = coffee2020_df['Coffee per capita in 2020 (KG)'].astype(float)\n",
    "coffee2020_df.set_index('Country', inplace=True)  # Set index\n",
    "\n",
    "missing_or_empty_values = coffee2020_df.isin(['', None]).sum().sum()\n",
    "print(f\"Current missing or empty values: {missing_or_empty_values}\")\n",
    "print(\"Features in coffee2020_df:\", coffee2020_df.columns.tolist())\n",
    "\n",
    "row_diff, col_diff = coffee_df.shape[0] - coffee2020_df.shape[0], coffee_df.shape[1] - coffee2020_df.shape[1]\n",
    "print(f\"Difference in rows: {row_diff}\\nDifference in columns: {col_diff}\\n Remember Country is now index ☻\")"
   ]
  },
  {
   "cell_type": "markdown",
   "metadata": {
    "slideshow": {
     "slide_type": "fragment"
    }
   },
   "source": [
    "We removed one feature, converted country in our index and deleted 3 rows for missing data."
   ]
  },
  {
   "cell_type": "markdown",
   "metadata": {
    "slideshow": {
     "slide_type": "subslide"
    }
   },
   "source": [
    "## Smoking_df\n",
    "\n",
    "Similary, it's needed to create a new varaible called **smoking2020_df**:\n",
    "\n",
    "1. Remove unnecessary features, all the data from 2022 and 2021.\n",
    "2. Rename columns to give them clearer titles.\n",
    "3. Change data type when neededto interger.\n",
    "4. Remove missing values or empty strings per row.\n",
    "5. Set 'Country' as the dataset index.\n",
    "6. Check the changes where made properly"
   ]
  },
  {
   "cell_type": "code",
   "execution_count": 368,
   "metadata": {},
   "outputs": [
    {
     "name": "stdout",
     "output_type": "stream",
     "text": [
      "Current missing or empty values: 0\n",
      "Features in smoking2020_df: ['Smoking rate in 2020(%)', 'Male smoking rate in 2020(%)', 'Female smoking rate in 2020(%)']\n",
      "Difference in rows: 1\n",
      "Difference in columns: 7\n"
     ]
    }
   ],
   "source": [
    "smoking2020_df = (smoking_df[['country', 'smokingRatesByCountry_rateBothPct2020', \n",
    "                              'smokingRatesByCountry_rateMalePct2020', \n",
    "                              'smokingRatesByCountry_rateFemalePct2020']]\n",
    "    .rename(columns={\n",
    "        'country': 'Country',\n",
    "        'smokingRatesByCountry_rateBothPct2020': 'Smoking rate in 2020(%)',\n",
    "        'smokingRatesByCountry_rateMalePct2020': 'Male smoking rate in 2020(%)',\n",
    "        'smokingRatesByCountry_rateFemalePct2020': 'Female smoking rate in 2020(%)'\n",
    "    })\n",
    "    .replace(['', '0'], np.nan)\n",
    "    .dropna()\n",
    ")\n",
    "smoking2020_df[['Smoking rate in 2020(%)', 'Male smoking rate in 2020(%)', \n",
    "                'Female smoking rate in 2020(%)']] = smoking2020_df[\n",
    "    ['Smoking rate in 2020(%)', 'Male smoking rate in 2020(%)', 'Female smoking rate in 2020(%)']\n",
    "].apply(pd.to_numeric, errors='coerce')\n",
    "smoking2020_df.set_index('Country', inplace=True)\n",
    "\n",
    "missing_or_empty_values = smoking2020_df.isin(['', None]).sum().sum()\n",
    "print(f\"Current missing or empty values: {missing_or_empty_values}\")\n",
    "print(\"Features in smoking2020_df:\", smoking2020_df.columns.tolist())\n",
    "\n",
    "row_diff, col_diff = smoking_df.shape[0] - smoking2020_df.shape[0], smoking_df.shape[1] - smoking2020_df.shape[1]\n",
    "print(f\"Difference in rows: {row_diff}\\nDifference in columns: {col_diff}\")"
   ]
  },
  {
   "cell_type": "markdown",
   "metadata": {},
   "source": [
    "Succesfully we dropped 6 columns, \"coutry\" was not dropped but taken as index. And we removed a row for invalid value."
   ]
  },
  {
   "cell_type": "markdown",
   "metadata": {},
   "source": [
    "**Gamers_df:**\n",
    "\n",
    "We will process the gamers_df dataset similarly, creatign a new dataframe, *gamers2019_df*, performing the following tasks:\n",
    "\n",
    "1. Remove unnecessary columns.\n",
    "2. Rename columns to give them clearer titles.\n",
    "3. Convert relevant columns to the correct data type.\n",
    "4. Remove rows with missing or incorrect data.\n",
    "5. Set 'Country' as the dataset index."
   ]
  },
  {
   "cell_type": "code",
   "execution_count": 369,
   "metadata": {},
   "outputs": [
    {
     "name": "stdout",
     "output_type": "stream",
     "text": [
      "Missing or empty values: 0\n",
      "Features: ['Gamers in 2019(MM)']\n",
      "Row diff: 29, Col diff: 7\n"
     ]
    }
   ],
   "source": [
    "gamers2019_df = gamers_df[['Country', 'Number of Gamers (millions)']] \\\n",
    "    .rename(columns={'Number of Gamers (millions)': 'Gamers in 2019(MM)'}) \\\n",
    "    .assign(**{'Gamers in 2019(MM)': pd.to_numeric(gamers2019_df['Gamers in 2019(MM)'], errors='coerce')}) \\\n",
    "    .dropna() \\\n",
    "    .set_index('Country')\n",
    "\n",
    "missing_or_empty_values = gamers2019_df.isnull().sum().sum() + (gamers2019_df == '').sum().sum()\n",
    "print(f\"Missing or empty values: {missing_or_empty_values}\")\n",
    "print(\"Features:\", gamers2019_df.columns.tolist())\n",
    "\n",
    "row_diff, col_diff = gamers_df.shape[0] - gamers2019_df.shape[0], gamers_df.shape[1] - gamers2019_df.shape[1]\n",
    "print(f\"Row diff: {row_diff}, Col diff: {col_diff}\")\n"
   ]
  },
  {
   "cell_type": "markdown",
   "metadata": {},
   "source": [
    "**EdStats:**\n",
    "\n",
    "This dataframe requires to carry on a particulary more complex approach. since we first need to find what \"Series\" we want to filter first. Before following our typical processing approach. It's important to create an *\"enrolment_df\"* where we will use \"str.contains()\" method to filter all the series with the word enrolment in the Series column. \n",
    "We display the different titles in series using the \"unique()\" method, displaying every single unique value."
   ]
  },
  {
   "cell_type": "code",
   "execution_count": 370,
   "metadata": {},
   "outputs": [
    {
     "name": "stdout",
     "output_type": "stream",
     "text": [
      "['Percentage of enrolment in tertiary education in private institutions (%)'\n",
      " 'Total net enrolment rate, lower secondary, both sexes (%)'\n",
      " 'Total net enrolment rate, lower secondary, female (%)'\n",
      " 'Total net enrolment rate, lower secondary, gender parity index (GPI)'\n",
      " 'Total net enrolment rate, lower secondary, male (%)'\n",
      " 'Total net enrolment rate, primary, both sexes (%)'\n",
      " 'Total net enrolment rate, primary, female (%)'\n",
      " 'Total net enrolment rate, primary, gender parity index (GPI)'\n",
      " 'Total net enrolment rate, primary, male (%)'\n",
      " 'Total net enrolment rate, upper secondary, both sexes (%)'\n",
      " 'Total net enrolment rate, upper secondary, female (%)'\n",
      " 'Total net enrolment rate, upper secondary, gender parity index (GPI)'\n",
      " 'Total net enrolment rate, upper secondary, male (%)'\n",
      " 'Enrolment in post-secondary non-tertiary education, both sexes (number)'\n",
      " 'Enrolment in post-secondary non-tertiary education, female (number)'\n",
      " 'Enrolment in post-secondary non-tertiary education, male (number)'\n",
      " 'Enrolment in tertiary education, all programmes, both sexes (number)'\n",
      " 'Enrolment in tertiary education, all programmes, female (number)'\n",
      " 'Enrolment in tertiary education, all programmes, male (number)']\n"
     ]
    }
   ],
   "source": [
    "# Filter rows where the 'Series' column contains the word 'enrollment'\n",
    "enrolment_df = edstats_df['Series'][edstats_df['Series'].str.contains('enrolment', case=False, na=False)]\n",
    "# Get unique values from the 'Series' column that contain 'enrollment'\n",
    "unique_enrolment_df = enrolment_df.unique()\n",
    "# Display the list of unique strings containing 'enrollment'\n",
    "print(unique_enrolment_df)"
   ]
  },
  {
   "cell_type": "markdown",
   "metadata": {},
   "source": [
    "From this information we can conclude that we want the following series only: 'Enrolment in tertiary education, all programmes, both sexes (number)'\n",
    "\n",
    "Now we proceed to:\n",
    "1. Remove unnecessary rows (All th rows with irrelevant information).\n",
    "2. Rename columns to give them clearer titles.\n",
    "3. Remove unnecessary columns (We will only keep Country and the year 2020)\n",
    "4. Remove rows with missing or incorrect data.\n",
    "5. Convert relevant columns to the correct data type.\n",
    "6. Create a new column that handles the both years (2019 and 2020) prioritizing the most recent.\n",
    "7. Drop rows without numeric data in either 2019 and 2020.\n",
    "8. Set 'Country' as the dataset index.\n"
   ]
  },
  {
   "cell_type": "code",
   "execution_count": 371,
   "metadata": {},
   "outputs": [
    {
     "name": "stdout",
     "output_type": "stream",
     "text": [
      "Size:\n",
      "Rows: 75, Columns: 1\n"
     ]
    }
   ],
   "source": [
    "# Filter edstats_df for rows where 'Series' matches the specified series exactly\n",
    "edstats2020_df = edstats_df[edstats_df['Series'] == 'Enrolment in tertiary education, all programmes, both sexes (number)']\n",
    "\n",
    "# Rename columns in edstats2020_df\n",
    "edstats2020_df = edstats2020_df.rename(columns={'Country Name': 'Region', \n",
    "                                                '2020 [YR2020]': 'Students in 2020',\n",
    "                                                '2019 [YR2019]': 'Students in 2019'\n",
    "                                                })\n",
    "\n",
    "# Keep only 'Region', 'Students in 2019' and 'Students in 2020' columns\n",
    "edstats2020_df = edstats2020_df[['Region', 'Students in 2020','Students in 2019']]\n",
    "\n",
    "# Remove any non-numeric characters from 'Students in 2020' and 'Students in 2019'\n",
    "edstats2020_df['Students in 2020'] = edstats2020_df['Students in 2020'].replace(r'[^0-9]', '', regex=True)\n",
    "edstats2020_df['Students in 2019'] = edstats2020_df['Students in 2019'].replace(r'[^0-9]', '', regex=True)\n",
    "\n",
    "# Convert 'Students in 2020' and 'Students in 2019' columns to integers or NaN\n",
    "edstats2020_df['Students in 2020'] = pd.to_numeric(edstats2020_df['Students in 2020'], errors='coerce').astype('Int64')\n",
    "edstats2020_df['Students in 2019'] = pd.to_numeric(edstats2020_df['Students in 2019'], errors='coerce').astype('Int64')\n",
    "\n",
    "# Create 'Students in 2019-20' column with preference for 'Students in 2020' values\n",
    "edstats2020_df['Students in 2019-20'] = edstats2020_df['Students in 2020'].combine_first(edstats2020_df['Students in 2019'])\n",
    "\n",
    "# Keep only 'Region' and 'Students in 2019-20' columns\n",
    "edstats2020_df = edstats2020_df[['Region', 'Students in 2019-20']]\n",
    "\n",
    "# Drop rows where 'Students in 2019-20' is NaN\n",
    "edstats2020_df = edstats2020_df.dropna(subset=['Students in 2019-20'])\n",
    "\n",
    "# Set 'Region' as the index\n",
    "edstats2020_df = edstats2020_df.set_index('Region')\n",
    "\n",
    "\n",
    "#size display\n",
    "print(f\"Size:\\nRows: {edstats2020_df.shape[0]}, Columns: {edstats2020_df.shape[1]}\")"
   ]
  },
  {
   "cell_type": "markdown",
   "metadata": {},
   "source": [
    "Something very peculiar about this World Bank Groups dataset is the fact that it does not provide only countries but also regions. Therefore we will list all the 'regions' available and then we will proceed to create a data map after carefully choosing each countries most accurate equivalent. Better explained in the merging section."
   ]
  },
  {
   "cell_type": "code",
   "execution_count": 372,
   "metadata": {},
   "outputs": [
    {
     "name": "stdout",
     "output_type": "stream",
     "text": [
      "Unique regions in edstats2020_df:\n",
      " Index(['Albania', 'Andorra', 'Arab World', 'Armenia', 'Azerbaijan', 'Bahrain',\n",
      "       'Bangladesh', 'Belize', 'Bhutan', 'Bosnia and Herzegovina', 'Botswana',\n",
      "       'Brunei Darussalam', 'Burkina Faso', 'Cambodia', 'China', 'Costa Rica',\n",
      "       'East Asia & Pacific', 'East Asia & Pacific (excluding high income)',\n",
      "       'Euro area', 'Europe & Central Asia',\n",
      "       'Europe & Central Asia (excluding high income)', 'European Union',\n",
      "       'Georgia', 'Ghana', 'Heavily indebted poor countries (HIPC)',\n",
      "       'High income', 'Hong Kong SAR, China', 'India', 'Kazakhstan', 'Kuwait',\n",
      "       'Kyrgyz Republic', 'Lao PDR', 'Latin America & Caribbean',\n",
      "       'Latin America & Caribbean (excluding high income)',\n",
      "       'Least developed countries: UN classification', 'Lebanon',\n",
      "       'Low & middle income', 'Lower middle income', 'Macao SAR, China',\n",
      "       'Malaysia', 'Marshall Islands', 'Mauritania',\n",
      "       'Middle East & North Africa',\n",
      "       'Middle East & North Africa (excluding high income)', 'Middle income',\n",
      "       'Moldova', 'Monaco', 'Montenegro', 'Morocco', 'Nepal', 'Niger',\n",
      "       'North America', 'OECD members', 'Oman', 'Qatar', 'Rwanda',\n",
      "       'San Marino', 'Saudi Arabia', 'Senegal', 'Serbia', 'Seychelles',\n",
      "       'South Africa', 'South Asia', 'Sri Lanka', 'St. Lucia', 'Tanzania',\n",
      "       'Togo', 'Tunisia', 'Turkmenistan', 'Ukraine', 'Upper middle income',\n",
      "       'Uzbekistan', 'Viet Nam', 'West Bank and Gaza', 'World'],\n",
      "      dtype='object', name='Region')\n"
     ]
    }
   ],
   "source": [
    "# Display unique country names in the 'Country' column of edstats2020_df\n",
    "unique_regions = edstats2020_df.index.unique()\n",
    "print(\"Unique regions in edstats2020_df:\\n\", unique_regions)"
   ]
  },
  {
   "cell_type": "markdown",
   "metadata": {},
   "source": [
    "**Merging tables**\n",
    "\n",
    "The last step to follow is to merge \"coffee2020_df\", \"smoking2020_df\" and \"gamers2019_df\" into one single data frame called **\"habits2020_df\"**."
   ]
  },
  {
   "cell_type": "code",
   "execution_count": 373,
   "metadata": {},
   "outputs": [
    {
     "name": "stdout",
     "output_type": "stream",
     "text": [
      "Size of habits2020_df: (0, 5)\n"
     ]
    }
   ],
   "source": [
    "# Merge the DataFrames on 'Country' without including edstats2020_df\n",
    "habits2020_df = smoking2020_df.join(gamers2019_df, how='inner', rsuffix='_gamers')\n",
    "habits2020_df = habits2020_df.join(coffee2020_df, how='inner', rsuffix='_coffee')\n",
    "\n",
    "# Display the size of the resulting DataFrame\n",
    "print(\"Size of habits2020_df:\", habits2020_df.shape)\n",
    "\n"
   ]
  },
  {
   "cell_type": "markdown",
   "metadata": {},
   "source": [
    "As mentioned before, edstats_df does not have a 'Country' column but a 'Region' instead, in order to merge smoothly this two datasets into a single \"HABITS VS EDUCATION\" dataframe. We need to add  a 'Region' column to habits2020_df and assign logical values from the \"unique_regions\" list created before.\n",
    "\n",
    "To achieve this we have made manually a map, When possible we will use the already existing Country for example, China and South Africa. otherwise we allocated it by simple proximity."
   ]
  },
  {
   "cell_type": "code",
   "execution_count": 374,
   "metadata": {},
   "outputs": [],
   "source": [
    "# Creating a mapping from habits2020_df to regions in edstats2020_df\n",
    "country_to_region_mapping = {\n",
    "    'China': 'China',  # Direct match\n",
    "    'United States': 'North America',  # United States in North America\n",
    "    'Indonesia': 'East Asia & Pacific',  # Indonesia in Southeast Asia\n",
    "    'Brazil': 'Latin America & Caribbean',  # Brazil in Latin America\n",
    "    'Russia': 'Europe & Central Asia',  # Russia in Eastern Europe\n",
    "    'Japan': 'East Asia & Pacific',  # Japan in East Asia\n",
    "    'Philippines': 'East Asia & Pacific',  # Philippines in Southeast Asia\n",
    "    'Vietnam': 'East Asia & Pacific',  # Vietnam in Southeast Asia\n",
    "    'Iran': 'Middle East & North Africa',  # Iran in the Middle East\n",
    "    'Turkey': 'Europe & Central Asia',  # Turkey in Eastern Europe / Middle East\n",
    "    'Germany': 'Europe & Central Asia',  # Germany in Europe\n",
    "    'Thailand': 'East Asia & Pacific',  # Thailand in Southeast Asia\n",
    "    'United Kingdom': 'Europe & Central Asia',  # UK in Europe\n",
    "    'France': 'Europe & Central Asia',  # France in Europe\n",
    "    'South Africa': 'South Africa',  # Direct match\n",
    "    'Italy': 'Europe & Central Asia',  # Italy in Europe\n",
    "    'South Korea': 'East Asia & Pacific',  # South Korea in East Asia\n",
    "    'Spain': 'Europe & Central Asia',  # Spain in Europe\n",
    "    'Canada': 'North America',  # Canada in North America\n",
    "    'Poland': 'Europe & Central Asia',  # Poland in Europe\n",
    "    'Saudi Arabia': 'Middle East & North Africa',  # Saudi Arabia in the Middle East\n",
    "    'Australia': 'East Asia & Pacific',  # Australia in Oceania\n",
    "    'United Arab Emirates': 'Middle East & North Africa'  # UAE in the Middle East\n",
    "}"
   ]
  },
  {
   "cell_type": "markdown",
   "metadata": {},
   "source": [
    "Now we use the map to create our 'Region' Column in a new dataframe called \"habits2020_REG\":"
   ]
  },
  {
   "cell_type": "code",
   "execution_count": 375,
   "metadata": {},
   "outputs": [
    {
     "name": "stdout",
     "output_type": "stream",
     "text": [
      "Empty DataFrame\n",
      "Columns: [Region, Smoking rate in 2020(%), Male smoking rate in 2020(%), Female smoking rate in 2020(%), Gamers in 2019(MM), Coffee per capita in 2020 (KG)]\n",
      "Index: []\n",
      "Size of habits2020_REG: (0, 5)\n"
     ]
    }
   ],
   "source": [
    "# Copy the dataframe correctly\n",
    "habits2020_REG = habits2020_df.copy()  # Add parentheses to properly copy the DataFrame\n",
    "\n",
    "# Now, map the 'Country' (index) to 'Region' using the country_to_region_mapping\n",
    "habits2020_REG['Region'] = habits2020_REG.index.map(country_to_region_mapping)\n",
    "\n",
    "\n",
    "# Group by 'Region' and compute the mean for each region\n",
    "habits2020_REG = habits2020_REG.groupby('Region').mean()\n",
    "\n",
    "# Optional: Reset index if you want 'Region' as a column instead of the index\n",
    "habits2020_REG = habits2020_REG.reset_index()\n",
    "\n",
    "# Print or inspect the new DataFrame\n",
    "print(habits2020_REG)\n",
    "\n",
    "# Set 'Region' as the new index\n",
    "habits2020_REG.set_index('Region', inplace=True)\n",
    "\n",
    "# Display the size of the resulting DataFrame\n",
    "print(\"Size of habits2020_REG:\", habits2020_REG.shape)\n"
   ]
  },
  {
   "cell_type": "markdown",
   "metadata": {},
   "source": [
    "Now we will merge habits2020_REG with edstats2020_df. Finally achieving our goal target habits_vs_education_df.\n",
    "\n",
    "***habits_vs_education_df:***"
   ]
  },
  {
   "cell_type": "code",
   "execution_count": 376,
   "metadata": {},
   "outputs": [
    {
     "name": "stdout",
     "output_type": "stream",
     "text": [
      "Empty DataFrame\n",
      "Columns: [Smoking rate in 2020(%), Male smoking rate in 2020(%), Female smoking rate in 2020(%), Gamers in 2019(MM), Coffee per capita in 2020 (KG), Students in 2019-20]\n",
      "Index: []\n",
      "Size of habits_vs_education_df: (0, 6)\n",
      "Index([], dtype='object', name='Region')\n"
     ]
    }
   ],
   "source": [
    "# Merge habits2020_REG and edstats2020_df on 'Region'\n",
    "habits_vs_education_df = habits2020_REG.merge(edstats2020_df, left_index=True, right_index=True, how='inner')\n",
    "\n",
    "# Display the merged DataFrame to verify the result\n",
    "print(habits_vs_education_df.head(1))\n",
    "\n",
    "# Display the size of the resulting DataFrame\n",
    "print(\"Size of habits_vs_education_df:\", habits_vs_education_df.shape)\n",
    "\n",
    "unique_index_values = habits_vs_education_df.index.unique()\n",
    "print(unique_index_values)\n",
    "\n"
   ]
  },
  {
   "cell_type": "markdown",
   "metadata": {},
   "source": [
    "## DATA VIZUALIZATION\n",
    "\n",
    "Now we will display the relevant data some of the processed and arranged data. From habits_vs_education_df we will collect the data we need for each graphic desired to be displayed, as listed below:\n",
    "\n",
    "- figure1 will display of the contrast of smoking by gender for each region or country using the dataset \"habits_vs_education_df\" since it has the smokers by gender of each region.\n",
    "- figure2 will display the 'habits' by region \n",
    "- figure3 will display the contrast between habits and students."
   ]
  },
  {
   "cell_type": "markdown",
   "metadata": {},
   "source": [
    "### Comparison of smokers consumption by gender per region \n",
    "\n",
    "In order to organize this data we will first create a table called 'fig1_df' which will hold only *Male smoking rate in 2020(%)* and *Female smoking rate in 2020(%)*. Then we will simplify the names, create a figure and create the bars and stack 'Female Smoking Rate' bar on top of the 'Male Smoking Rate' bar to create a visual effect of a cigarette and it's filter."
   ]
  },
  {
   "cell_type": "code",
   "execution_count": 377,
   "metadata": {},
   "outputs": [
    {
     "data": {
      "image/png": "[encoded data removed]",
      "text/plain": [
       "<Figure size 1200x800 with 1 Axes>"
      ]
     },
     "metadata": {},
     "output_type": "display_data"
    }
   ],
   "source": [
    "# Prepare the data for the table\n",
    "fig1_df = habits_vs_education_df[['Male smoking rate in 2020(%)', 'Female smoking rate in 2020(%)']]\n",
    "fig1_df.index = habits_vs_education_df.index  # Ensure Region is set as the index\n",
    "fig1_df = fig1_df.rename(columns={\n",
    "    'Male smoking rate in 2020(%)': 'Male Smoking Rate (%)',\n",
    "    'Female smoking rate in 2020(%)': 'Female Smoking Rate (%)'\n",
    "})\n",
    "\n",
    "# Create a horizontal bar chart for Female smoking rate over Male smoking rate\n",
    "fig, ax = plt.subplots(figsize=(12, 8))\n",
    "\n",
    "# Plot Male smoking rate bars\n",
    "male_bars = ax.barh(fig1_df.index, fig1_df['Male Smoking Rate (%)'], color='#fafafa', label='Male Smoking Rate')\n",
    "\n",
    "# Plot Female smoking rate bars over Male smoking rate\n",
    "female_bars = ax.barh(fig1_df.index, fig1_df['Female Smoking Rate (%)'], \n",
    "                      left=fig1_df['Male Smoking Rate (%)'], color='#ff7f0e', label='Female Smoking Rate')\n",
    "\n",
    "# Customize the chart\n",
    "ax.set_title('Female vs. Male Smoking Rates by Region (2020)', fontsize=16, weight='bold', color='white')\n",
    "ax.set_xlabel('Smoking Rate (%)', fontsize=14, weight='bold', color='white')\n",
    "ax.set_ylabel('Region', fontsize=14, weight='bold', color='white')\n",
    "ax.set_facecolor('#0c0c0c')  # Inner chart background color\n",
    "fig.patch.set_facecolor('#0c0c1b')  # Outer background color\n",
    "ax.tick_params(colors='white')  # Set tick label color to white\n",
    "\n",
    "# Add legend to the right of the chart with customized font color and background\n",
    "legend = ax.legend(title='Gender', fontsize=12, title_fontsize=13, loc='center left', \n",
    "                   bbox_to_anchor=(1.05, 0.5), frameon=True)  # Enable legend frame\n",
    "\n",
    "# Customize legend background and font colors\n",
    "legend.get_frame().set_facecolor('#2f2f2f')  # Set background color\n",
    "legend.get_frame().set_edgecolor('white')    # Set edge color (optional)\n",
    "legend.get_frame().set_linewidth(1)          # Adjust frame thickness\n",
    "legend.get_title().set_color('white')        # Set title font color\n",
    "for text in legend.get_texts():\n",
    "    text.set_color('white')  # Set label font color\n",
    "\n",
    "# Adjust layout to prevent clipping\n",
    "plt.tight_layout()\n",
    "\n",
    "# Display the chart\n",
    "plt.show()"
   ]
  },
  {
   "cell_type": "markdown",
   "metadata": {},
   "source": [
    "## Habbits rates between the Regions:\n",
    "\n",
    "Using the Smoking, Gamers and Coffee data we will normalize them in order for the highest value in each column to be one and in this way scale up each value."
   ]
  },
  {
   "cell_type": "code",
   "execution_count": 378,
   "metadata": {},
   "outputs": [
    {
     "data": {
      "image/png": "[encoded data removed]",
      "text/plain": [
       "<Figure size 1200x800 with 1 Axes>"
      ]
     },
     "metadata": {},
     "output_type": "display_data"
    }
   ],
   "source": [
    "# Normalize data for comparison\n",
    "normalized_smoking = habits_vs_education_df['Smoking rate in 2020(%)'] / habits_vs_education_df['Smoking rate in 2020(%)'].max()\n",
    "normalized_gamers = habits_vs_education_df['Gamers in 2019(MM)'] / habits_vs_education_df['Gamers in 2019(MM)'].max()\n",
    "normalized_coffee = habits_vs_education_df['Coffee per capita in 2020 (KG)'] / habits_vs_education_df['Coffee per capita in 2020 (KG)'].max()\n",
    "\n",
    "# Plot multi-line chart\n",
    "fig, ax = plt.subplots(figsize=(12, 8))\n",
    "\n",
    "# Plot the lines\n",
    "ax.plot(habits_vs_education_df.index, normalized_smoking, label='Smoking Rate', marker='o', color='#1f77b4')\n",
    "ax.plot(habits_vs_education_df.index, normalized_gamers, label='Gamers', marker='s', color='#ff69b4')\n",
    "ax.plot(habits_vs_education_df.index, normalized_coffee, label='Coffee Consumption', marker='^', color='#2ca02c')\n",
    "\n",
    "# Customize chart\n",
    "ax.set_xlabel('Region', fontsize=12, color='white')  # Font color for x-axis\n",
    "ax.set_ylabel('Normalized Values of the Habits', fontsize=12, color='white')  # Font color for y-axis\n",
    "ax.set_title('Trends in Smoking, Gamers, and Coffee Consumption by Region', fontsize=16, color='white')  # Font color for title\n",
    "ax.set_xticks(range(len(habits_vs_education_df.index)))\n",
    "ax.set_xticklabels(habits_vs_education_df.index, rotation=45, ha='right', color='white')  # Font color for xticklabels\n",
    "\n",
    "# Set background color (both inner and outer)\n",
    "ax.set_facecolor('#0c0c0c')  # Inner background color\n",
    "fig.patch.set_facecolor('#0c0c1b')  # Outer background color\n",
    "ax.tick_params(colors='white')  # Set tick label color to white\n",
    "\n",
    "# Set the color of the axis lines (spines) to white\n",
    "ax.spines['top'].set_color('white')\n",
    "ax.spines['bottom'].set_color('white')\n",
    "ax.spines['left'].set_color('white')\n",
    "ax.spines['right'].set_color('white')\n",
    "\n",
    "# Move legend to the right of the plot\n",
    "legend = ax.legend(loc='upper left', bbox_to_anchor=(1.05, 1), title='Habits', fontsize=12, title_fontsize=13, frameon=True)\n",
    "\n",
    "# Customize legend background and font colors\n",
    "legend.get_frame().set_facecolor('#2f2f2f')  # Set background color for legend box\n",
    "legend.get_frame().set_edgecolor('white')    # Set edge color for the legend box\n",
    "legend.get_frame().set_linewidth(1)          # Set line width for the legend box\n",
    "legend.get_title().set_color('white')        # Set legend title font color\n",
    "for text in legend.get_texts():\n",
    "    text.set_color('white')  # Set legend labels font color\n",
    "\n",
    "# Adjust layout to prevent clipping\n",
    "plt.tight_layout()\n",
    "\n",
    "# Display the plot\n",
    "plt.show()"
   ]
  },
  {
   "cell_type": "markdown",
   "metadata": {},
   "source": [
    "## Habits by region Vs Students by region.\n",
    "\n",
    "For our last plot we will simply normalize data one more time but this time with different scalability. The main reason is that due to the challenge of different proyected data we have (Rate, Millions and KG) we will have to normalize it all to be able of contrasting the consumption per region."
   ]
  },
  {
   "cell_type": "code",
   "execution_count": 379,
   "metadata": {},
   "outputs": [
    {
     "ename": "KeyError",
     "evalue": "'China'",
     "output_type": "error",
     "traceback": [
      "\u001b[1;31m---------------------------------------------------------------------------\u001b[0m",
      "\u001b[1;31mKeyError\u001b[0m                                  Traceback (most recent call last)",
      "File \u001b[1;32mc:\\Users\\gusta\\Documents\\Projects\\DataViz\\DV_assesment\\.venv\\Lib\\site-packages\\pandas\\core\\indexes\\base.py:3805\u001b[0m, in \u001b[0;36mIndex.get_loc\u001b[1;34m(self, key)\u001b[0m\n\u001b[0;32m   3804\u001b[0m \u001b[38;5;28;01mtry\u001b[39;00m:\n\u001b[1;32m-> 3805\u001b[0m     \u001b[38;5;28;01mreturn\u001b[39;00m \u001b[38;5;28;43mself\u001b[39;49m\u001b[38;5;241;43m.\u001b[39;49m\u001b[43m_engine\u001b[49m\u001b[38;5;241;43m.\u001b[39;49m\u001b[43mget_loc\u001b[49m\u001b[43m(\u001b[49m\u001b[43mcasted_key\u001b[49m\u001b[43m)\u001b[49m\n\u001b[0;32m   3806\u001b[0m \u001b[38;5;28;01mexcept\u001b[39;00m \u001b[38;5;167;01mKeyError\u001b[39;00m \u001b[38;5;28;01mas\u001b[39;00m err:\n",
      "File \u001b[1;32mindex.pyx:167\u001b[0m, in \u001b[0;36mpandas._libs.index.IndexEngine.get_loc\u001b[1;34m()\u001b[0m\n",
      "File \u001b[1;32mindex.pyx:196\u001b[0m, in \u001b[0;36mpandas._libs.index.IndexEngine.get_loc\u001b[1;34m()\u001b[0m\n",
      "File \u001b[1;32mpandas\\\\_libs\\\\hashtable_class_helper.pxi:7081\u001b[0m, in \u001b[0;36mpandas._libs.hashtable.PyObjectHashTable.get_item\u001b[1;34m()\u001b[0m\n",
      "File \u001b[1;32mpandas\\\\_libs\\\\hashtable_class_helper.pxi:7089\u001b[0m, in \u001b[0;36mpandas._libs.hashtable.PyObjectHashTable.get_item\u001b[1;34m()\u001b[0m\n",
      "\u001b[1;31mKeyError\u001b[0m: 'China'",
      "\nThe above exception was the direct cause of the following exception:\n",
      "\u001b[1;31mKeyError\u001b[0m                                  Traceback (most recent call last)",
      "Cell \u001b[1;32mIn[379], line 18\u001b[0m\n\u001b[0;32m     10\u001b[0m fig3_df \u001b[38;5;241m=\u001b[39m pd\u001b[38;5;241m.\u001b[39mDataFrame({\n\u001b[0;32m     11\u001b[0m     \u001b[38;5;124m'\u001b[39m\u001b[38;5;124mNormalized Smoking Rate\u001b[39m\u001b[38;5;124m'\u001b[39m: normalized_smoking,\n\u001b[0;32m     12\u001b[0m     \u001b[38;5;124m'\u001b[39m\u001b[38;5;124mNormalized Gamers\u001b[39m\u001b[38;5;124m'\u001b[39m: normalized_gamers,\n\u001b[0;32m     13\u001b[0m     \u001b[38;5;124m'\u001b[39m\u001b[38;5;124mNormalized Coffee Consumption\u001b[39m\u001b[38;5;124m'\u001b[39m: normalized_coffee,\n\u001b[0;32m     14\u001b[0m     \u001b[38;5;124m'\u001b[39m\u001b[38;5;124mNormalized Students\u001b[39m\u001b[38;5;124m'\u001b[39m: normalized_students\n\u001b[0;32m     15\u001b[0m })\n\u001b[0;32m     17\u001b[0m \u001b[38;5;66;03m# Merge 'China' with 'East Asia & Pacific' by adding their values\u001b[39;00m\n\u001b[1;32m---> 18\u001b[0m fig3_df\u001b[38;5;241m.\u001b[39mloc[\u001b[38;5;124m'\u001b[39m\u001b[38;5;124mEast Asia & Pacific\u001b[39m\u001b[38;5;124m'\u001b[39m] \u001b[38;5;241m=\u001b[39m \u001b[43mfig3_df\u001b[49m\u001b[38;5;241;43m.\u001b[39;49m\u001b[43mloc\u001b[49m\u001b[43m[\u001b[49m\u001b[38;5;124;43m'\u001b[39;49m\u001b[38;5;124;43mChina\u001b[39;49m\u001b[38;5;124;43m'\u001b[39;49m\u001b[43m]\u001b[49m \u001b[38;5;241m+\u001b[39m fig3_df\u001b[38;5;241m.\u001b[39mloc[\u001b[38;5;124m'\u001b[39m\u001b[38;5;124mEast Asia & Pacific\u001b[39m\u001b[38;5;124m'\u001b[39m]\n\u001b[0;32m     19\u001b[0m fig3_df \u001b[38;5;241m=\u001b[39m fig3_df\u001b[38;5;241m.\u001b[39mdrop(\u001b[38;5;124m'\u001b[39m\u001b[38;5;124mChina\u001b[39m\u001b[38;5;124m'\u001b[39m, axis\u001b[38;5;241m=\u001b[39m\u001b[38;5;241m0\u001b[39m)\n\u001b[0;32m     21\u001b[0m \u001b[38;5;66;03m# Create the positions for the bars (the x-axis for the bars)\u001b[39;00m\n",
      "File \u001b[1;32mc:\\Users\\gusta\\Documents\\Projects\\DataViz\\DV_assesment\\.venv\\Lib\\site-packages\\pandas\\core\\indexing.py:1191\u001b[0m, in \u001b[0;36m_LocationIndexer.__getitem__\u001b[1;34m(self, key)\u001b[0m\n\u001b[0;32m   1189\u001b[0m maybe_callable \u001b[38;5;241m=\u001b[39m com\u001b[38;5;241m.\u001b[39mapply_if_callable(key, \u001b[38;5;28mself\u001b[39m\u001b[38;5;241m.\u001b[39mobj)\n\u001b[0;32m   1190\u001b[0m maybe_callable \u001b[38;5;241m=\u001b[39m \u001b[38;5;28mself\u001b[39m\u001b[38;5;241m.\u001b[39m_check_deprecated_callable_usage(key, maybe_callable)\n\u001b[1;32m-> 1191\u001b[0m \u001b[38;5;28;01mreturn\u001b[39;00m \u001b[38;5;28;43mself\u001b[39;49m\u001b[38;5;241;43m.\u001b[39;49m\u001b[43m_getitem_axis\u001b[49m\u001b[43m(\u001b[49m\u001b[43mmaybe_callable\u001b[49m\u001b[43m,\u001b[49m\u001b[43m \u001b[49m\u001b[43maxis\u001b[49m\u001b[38;5;241;43m=\u001b[39;49m\u001b[43maxis\u001b[49m\u001b[43m)\u001b[49m\n",
      "File \u001b[1;32mc:\\Users\\gusta\\Documents\\Projects\\DataViz\\DV_assesment\\.venv\\Lib\\site-packages\\pandas\\core\\indexing.py:1431\u001b[0m, in \u001b[0;36m_LocIndexer._getitem_axis\u001b[1;34m(self, key, axis)\u001b[0m\n\u001b[0;32m   1429\u001b[0m \u001b[38;5;66;03m# fall thru to straight lookup\u001b[39;00m\n\u001b[0;32m   1430\u001b[0m \u001b[38;5;28mself\u001b[39m\u001b[38;5;241m.\u001b[39m_validate_key(key, axis)\n\u001b[1;32m-> 1431\u001b[0m \u001b[38;5;28;01mreturn\u001b[39;00m \u001b[38;5;28;43mself\u001b[39;49m\u001b[38;5;241;43m.\u001b[39;49m\u001b[43m_get_label\u001b[49m\u001b[43m(\u001b[49m\u001b[43mkey\u001b[49m\u001b[43m,\u001b[49m\u001b[43m \u001b[49m\u001b[43maxis\u001b[49m\u001b[38;5;241;43m=\u001b[39;49m\u001b[43maxis\u001b[49m\u001b[43m)\u001b[49m\n",
      "File \u001b[1;32mc:\\Users\\gusta\\Documents\\Projects\\DataViz\\DV_assesment\\.venv\\Lib\\site-packages\\pandas\\core\\indexing.py:1381\u001b[0m, in \u001b[0;36m_LocIndexer._get_label\u001b[1;34m(self, label, axis)\u001b[0m\n\u001b[0;32m   1379\u001b[0m \u001b[38;5;28;01mdef\u001b[39;00m \u001b[38;5;21m_get_label\u001b[39m(\u001b[38;5;28mself\u001b[39m, label, axis: AxisInt):\n\u001b[0;32m   1380\u001b[0m     \u001b[38;5;66;03m# GH#5567 this will fail if the label is not present in the axis.\u001b[39;00m\n\u001b[1;32m-> 1381\u001b[0m     \u001b[38;5;28;01mreturn\u001b[39;00m \u001b[38;5;28;43mself\u001b[39;49m\u001b[38;5;241;43m.\u001b[39;49m\u001b[43mobj\u001b[49m\u001b[38;5;241;43m.\u001b[39;49m\u001b[43mxs\u001b[49m\u001b[43m(\u001b[49m\u001b[43mlabel\u001b[49m\u001b[43m,\u001b[49m\u001b[43m \u001b[49m\u001b[43maxis\u001b[49m\u001b[38;5;241;43m=\u001b[39;49m\u001b[43maxis\u001b[49m\u001b[43m)\u001b[49m\n",
      "File \u001b[1;32mc:\\Users\\gusta\\Documents\\Projects\\DataViz\\DV_assesment\\.venv\\Lib\\site-packages\\pandas\\core\\generic.py:4301\u001b[0m, in \u001b[0;36mNDFrame.xs\u001b[1;34m(self, key, axis, level, drop_level)\u001b[0m\n\u001b[0;32m   4299\u001b[0m             new_index \u001b[38;5;241m=\u001b[39m index[loc]\n\u001b[0;32m   4300\u001b[0m \u001b[38;5;28;01melse\u001b[39;00m:\n\u001b[1;32m-> 4301\u001b[0m     loc \u001b[38;5;241m=\u001b[39m \u001b[43mindex\u001b[49m\u001b[38;5;241;43m.\u001b[39;49m\u001b[43mget_loc\u001b[49m\u001b[43m(\u001b[49m\u001b[43mkey\u001b[49m\u001b[43m)\u001b[49m\n\u001b[0;32m   4303\u001b[0m     \u001b[38;5;28;01mif\u001b[39;00m \u001b[38;5;28misinstance\u001b[39m(loc, np\u001b[38;5;241m.\u001b[39mndarray):\n\u001b[0;32m   4304\u001b[0m         \u001b[38;5;28;01mif\u001b[39;00m loc\u001b[38;5;241m.\u001b[39mdtype \u001b[38;5;241m==\u001b[39m np\u001b[38;5;241m.\u001b[39mbool_:\n",
      "File \u001b[1;32mc:\\Users\\gusta\\Documents\\Projects\\DataViz\\DV_assesment\\.venv\\Lib\\site-packages\\pandas\\core\\indexes\\base.py:3812\u001b[0m, in \u001b[0;36mIndex.get_loc\u001b[1;34m(self, key)\u001b[0m\n\u001b[0;32m   3807\u001b[0m     \u001b[38;5;28;01mif\u001b[39;00m \u001b[38;5;28misinstance\u001b[39m(casted_key, \u001b[38;5;28mslice\u001b[39m) \u001b[38;5;129;01mor\u001b[39;00m (\n\u001b[0;32m   3808\u001b[0m         \u001b[38;5;28misinstance\u001b[39m(casted_key, abc\u001b[38;5;241m.\u001b[39mIterable)\n\u001b[0;32m   3809\u001b[0m         \u001b[38;5;129;01mand\u001b[39;00m \u001b[38;5;28many\u001b[39m(\u001b[38;5;28misinstance\u001b[39m(x, \u001b[38;5;28mslice\u001b[39m) \u001b[38;5;28;01mfor\u001b[39;00m x \u001b[38;5;129;01min\u001b[39;00m casted_key)\n\u001b[0;32m   3810\u001b[0m     ):\n\u001b[0;32m   3811\u001b[0m         \u001b[38;5;28;01mraise\u001b[39;00m InvalidIndexError(key)\n\u001b[1;32m-> 3812\u001b[0m     \u001b[38;5;28;01mraise\u001b[39;00m \u001b[38;5;167;01mKeyError\u001b[39;00m(key) \u001b[38;5;28;01mfrom\u001b[39;00m \u001b[38;5;21;01merr\u001b[39;00m\n\u001b[0;32m   3813\u001b[0m \u001b[38;5;28;01mexcept\u001b[39;00m \u001b[38;5;167;01mTypeError\u001b[39;00m:\n\u001b[0;32m   3814\u001b[0m     \u001b[38;5;66;03m# If we have a listlike key, _check_indexing_error will raise\u001b[39;00m\n\u001b[0;32m   3815\u001b[0m     \u001b[38;5;66;03m#  InvalidIndexError. Otherwise we fall through and re-raise\u001b[39;00m\n\u001b[0;32m   3816\u001b[0m     \u001b[38;5;66;03m#  the TypeError.\u001b[39;00m\n\u001b[0;32m   3817\u001b[0m     \u001b[38;5;28mself\u001b[39m\u001b[38;5;241m.\u001b[39m_check_indexing_error(key)\n",
      "\u001b[1;31mKeyError\u001b[0m: 'China'"
     ]
    }
   ],
   "source": [
    "# Normalize the specified columns to a range from 0 to 1 (for habits data)\n",
    "normalized_smoking = habits_vs_education_df['Smoking rate in 2020(%)'] / habits_vs_education_df['Smoking rate in 2020(%)'].max()\n",
    "normalized_gamers = habits_vs_education_df['Gamers in 2019(MM)'] / habits_vs_education_df['Gamers in 2019(MM)'].max()\n",
    "normalized_coffee = habits_vs_education_df['Coffee per capita in 2020 (KG)'] / habits_vs_education_df['Coffee per capita in 2020 (KG)'].max()\n",
    "\n",
    "# Normalize 'Students in 2019-20' to a range from 0 to 3\n",
    "normalized_students = habits_vs_education_df['Students in 2019-20'] / habits_vs_education_df['Students in 2019-20'].max() * 3\n",
    "\n",
    "# Create the new DataFrame fig3_df with the normalized values\n",
    "fig3_df = pd.DataFrame({\n",
    "    'Normalized Smoking Rate': normalized_smoking,\n",
    "    'Normalized Gamers': normalized_gamers,\n",
    "    'Normalized Coffee Consumption': normalized_coffee,\n",
    "    'Normalized Students': normalized_students\n",
    "})\n",
    "\n",
    "# Merge 'China' with 'East Asia & Pacific' by adding their values\n",
    "fig3_df.loc['East Asia & Pacific'] = fig3_df.loc['China'] + fig3_df.loc['East Asia & Pacific']\n",
    "fig3_df = fig3_df.drop('China', axis=0)\n",
    "\n",
    "# Create the positions for the bars (the x-axis for the bars)\n",
    "x = np.arange(len(fig3_df))  # Positions for the bars\n",
    "width = 0.35  # Width of the bars\n",
    "\n",
    "# Plotting the stacked bar chart\n",
    "fig, ax = plt.subplots(figsize=(12, 6))\n",
    "\n",
    "# Plot each of the habits on top of each other\n",
    "ax.bar(x, fig3_df['Normalized Smoking Rate'], width, label='Smoking Rate', color='#1f77b4')\n",
    "ax.bar(x, fig3_df['Normalized Gamers'], width, bottom=fig3_df['Normalized Smoking Rate'], label='Gamers', color='#ff69b4')\n",
    "ax.bar(x, fig3_df['Normalized Coffee Consumption'], width, bottom=fig3_df['Normalized Smoking Rate'] + fig3_df['Normalized Gamers'], label='Coffee Consumption', color='#2ca02c')\n",
    "\n",
    "# Plot the normalized students next to the stacked habits bar\n",
    "ax.bar(x + width, fig3_df['Normalized Students'], width, label='Students', color='#d62728')\n",
    "\n",
    "# Customize chart\n",
    "ax.set_xlabel('Region', fontsize=12, color='white')\n",
    "ax.set_ylabel('Normalized Values', fontsize=12, color='white')\n",
    "ax.set_title('Comparison of Habits and Students by Region', fontsize=16, color='white')\n",
    "ax.set_xticks(x + width / 2)  # Position the labels between bars\n",
    "ax.set_xticklabels(fig3_df.index, rotation=45, ha='right', color='white')\n",
    "ax.tick_params(axis='x', colors='white')  # Set the x-axis tick color to white\n",
    "ax.tick_params(axis='y', colors='white')  # Set the y-axis tick color to white\n",
    "\n",
    "# Set background color\n",
    "ax.set_facecolor('#0c0c0c')  # Inner background color\n",
    "fig.patch.set_facecolor('#0c0c1b')  # Outer background color\n",
    "\n",
    "# Add a legend to the right of the plot\n",
    "ax.legend(loc='upper left', bbox_to_anchor=(1.05, 1), title='Categories', fontsize=12, title_fontsize=13)\n",
    "\n",
    "# Adjust layout to avoid clipping\n",
    "plt.tight_layout()\n",
    "\n",
    "# Display the plot\n",
    "plt.show()\n"
   ]
  }
 ],
 "metadata": {
  "kernelspec": {
   "display_name": ".venv",
   "language": "python",
   "name": "python3"
  },
  "language_info": {
   "codemirror_mode": {
    "name": "ipython",
    "version": 3
   },
   "file_extension": ".py",
   "mimetype": "text/x-python",
   "name": "python",
   "nbconvert_exporter": "python",
   "pygments_lexer": "ipython3",
   "version": "3.12.5"
  }
 },
 "nbformat": 4,
 "nbformat_minor": 2
}
