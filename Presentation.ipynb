{
 "cells": [
  {
   "cell_type": "markdown",
   "metadata": {},
   "source": [
    "# Bad habits vs Education\n",
    "This guided project explores whether there is a connection between the student population and \"bad\" habits or behaviors that may negatively impact health. The habits under study are:\n",
    "- Coffee addiction\n",
    "- Smoking\n",
    "- Video games addiction\n",
    "\n",
    "It is important to note that, due to a lack of recent research and available data on these topics, the data sources used in this project range from 2019 to 2020."
   ]
  },
  {
   "cell_type": "markdown",
   "metadata": {},
   "source": [
    "#### Slideshow controls:\n",
    "*Press the `'↓'` key* when available on the bottom-right side of your screen. \n",
    "\n",
    "*Press the `'→'` key* When `'↓'` is not available."
   ]
  },
  {
   "cell_type": "code",
   "execution_count": 10,
   "metadata": {
    "slideshow": {
     "slide_type": "skip"
    }
   },
   "outputs": [],
   "source": [
    "import pandas as pd #For reading and handling CSV files.\n",
    "import numpy as np  # For numerical operations and handling missing values.\n",
    "import matplotlib.pyplot as plt  # For creating basic visualizations.\n",
    "import seaborn as sns  # For advanced data visualization used in the infographic.\n",
    "from IPython.display import Image, display, clear_output, HTML # Used to display images not generated in this notebook\n",
    "from tabulate import tabulate # This beauty lets us create smooth table style outputs in terminal\n",
    "import ipywidgets as widgets # This great tool lets use code into our notebook to make quick displays and customizations"
   ]
  },
  {
   "cell_type": "markdown",
   "metadata": {
    "slideshow": {
     "slide_type": "subslide"
    }
   },
   "source": [
    "## Content:\n",
    "1. Introduction.\n",
    "2. Load Data.\n",
    "3. Visualization Plan.\n",
    "4. Loading & Cleaning Data\n",
    "\n",
    "Also feel free to visit **https://github.com/DefoNotGus/DV_assesment** To find the project's notebook"
   ]
  },
  {
   "cell_type": "markdown",
   "metadata": {
    "slideshow": {
     "slide_type": "subslide"
    }
   },
   "source": [
    "### Is there a relationship between habits and education? \n",
    "\n",
    "By examining the demographic factors associated with these habits and their prevalence in different cultures, the project aims to uncover potential links between these behaviors and the student population. Such insights could help society understand whether these harmful or misused habits are directly related to the stress faced by higher education students, highlighting the need to restructure education programs in regions where these addictions are more prevalent."
   ]
  },
  {
   "cell_type": "markdown",
   "metadata": {},
   "source": [
    "<div style=\"text-align: center;\">\n",
    "  <img src=\"img/img1.png\" alt=\"Image\" style=\"width:300px;\">\n",
    "</div>"
   ]
  },
  {
   "cell_type": "markdown",
   "metadata": {
    "slideshow": {
     "slide_type": "slide"
    }
   },
   "source": [
    "# Data Description."
   ]
  },
  {
   "cell_type": "markdown",
   "metadata": {
    "slideshow": {
     "slide_type": "subslide"
    }
   },
   "source": [
    "## The datasets used to study the habits are:\n",
    "\n",
    "1. **Coffee Consumption Dataset**: Lists coffee consumption by country with extensive coverage.\n",
    "- **Source**: [Kaggle](https://www.kaggle.com/datasets/nurielreuven/coffee-consumption-by-country-2022/data) \n",
    "- **Size**: 182 rows and 3 columns\n",
    "- **Domain**: Healthcare and Marketing\n",
    "2. **Smoking Rates Dataset**: Provides a chronological overview of smoking rates in many countries, sourced via a Google search.\n",
    "- **Source**: [World Population Review](https://worldpopulationreview.com/country-rankings/smoking-rates-by-country)  \n",
    "- **Size**: 164 rows and 10 columns\n",
    "- **Domain**: Healthcare\n",
    "3. **Gamers Market Dataset**: Compiles 2019 gaming market overview in many countries, offering chronological alignment with the other datasets. Data Scraping  techniques used.\n",
    "- **Source**: [Allcorrect Games](https://allcorrectgames.com/insights/a-global-research-of-2019-games-market/)  \n",
    "- **Size**: 29 rows and 8 columns\n",
    "- **Domain**: Marketing and Videogames"
   ]
  },
  {
   "cell_type": "markdown",
   "metadata": {
    "slideshow": {
     "slide_type": "subslide"
    }
   },
   "source": [
    "## The datasets used to analyze students and enrollment data are:  \n",
    "\n",
    "1. **Education Statistics Dataset**: A massive dataset with student enrollment data by region, sourced using the World Bank DataBank tool.  \n",
    "- **Source**: [World Bank](https://databank.worldbank.org/indicator/)  \n",
    "- **Size**: 197235 rows and 8 columns\n",
    "- **Domain**: Education\n",
    "2. **Students Dataset**: Provides country-specific enrollment data filtered to align with the habits datasets, sourced from the OECD Data Explorer.  \n",
    "- **Source**: [OECD Data Explorer](https://data-explorer.oecd.org/)  \n",
    "- **Size**: 56 rows 26 columns\n",
    "- **Domain**: Education"
   ]
  },
  {
   "cell_type": "markdown",
   "metadata": {
    "slideshow": {
     "slide_type": "slide"
    }
   },
   "source": [
    "# Visualization Plan."
   ]
  },
  {
   "cell_type": "markdown",
   "metadata": {
    "slideshow": {
     "slide_type": "fragment"
    }
   },
   "source": [
    "This project aims to generate a visual correlation between bad habits and education and analyze factors contributing to certain addictions using python as the tool for data handling. The approach involves, exploring and procesing data, Gathering the relevant data for visualization techniques. Creating an infographic that visually represents addiction patterns in relation to gender, geographic, and academic factors. Canva is the tool chosen for the design of the infographic and the draft."
   ]
  },
  {
   "cell_type": "markdown",
   "metadata": {
    "slideshow": {
     "slide_type": "subslide"
    }
   },
   "source": [
    "## Key Variables:\n",
    "- Country: Countries where the data was gathered, This will be our index for certain datasets.\n",
    "- Coffee consumption per capita (2020): The amount of coffee divided by the population, basically the amount of coffee \"per head\" in Kilograms.\n",
    "- Smokig Rates (2020): The porcentage of population that smokes of each country listed.  \n",
    "- Smokig Rates (2020) Male: The porcentage of male population that smokes of each country listed.  \n",
    "- Smokig Rates (2020)Female: The porcentage of female population that smokes of each country listed.  \n",
    "- Gamers (2019): The number of gamers per country in millions.\n",
    "- Students per region (2020): Number of enrolled students per region.\n",
    "- Students per country (2020): Number of enrolled students per Country."
   ]
  },
  {
   "cell_type": "markdown",
   "metadata": {
    "slideshow": {
     "slide_type": "subslide"
    }
   },
   "source": [
    "## Visualizations: \n",
    "Since the data to visualize is mainly comparative the plots to implement will be: \n",
    "- Bar charts\n",
    "- Line graphs\n",
    "- Column charts\n",
    "- Heatmaps\n",
    "- Pie chart\n",
    "- Stack bar chart\n",
    "- Area chart"
   ]
  },
  {
   "cell_type": "markdown",
   "metadata": {
    "slideshow": {
     "slide_type": "subslide"
    }
   },
   "source": [
    "## Accesibility, Accuracy and presentation:\n",
    "\n",
    "This project will follow up the following considerations to provide accesibility and avoid missleading data:\n",
    "- Use readable fonts and sufficient text size.\n",
    "- Include legends and labels for clarity and provide alternative text for charts.\n",
    "- Ensure colorblind-friendly palettes (Only one graph has red-greens contrast, but the legend is there to help and guide).\n",
    "- Normalize data for fair comparisons.\n",
    "- Avoid cherry-picking data and present outliers and anomalies transparently.\n",
    "- Clarify causation vs. correlation to avoid misinterpretation.\n",
    "- Make the data and the code open source to enable users to make their own visualizations and research.\n",
    "- Present a neat and clear format for the infographic like shown below (Click for fullscreen):\n",
    " "
   ]
  },
  {
   "cell_type": "markdown",
   "metadata": {},
   "source": [
    "<div style=\"text-align: center;\">\n",
    "  <img src=\"img/Draft.png\" alt=\"Image\" style=\"width:300px; cursor: pointer;\" onclick=\"openFullscreen(this)\">\n",
    "</div>\n",
    "\n",
    "<script>\n",
    "  function openFullscreen(img) {\n",
    "    const fullscreen = document.createElement('div');\n",
    "    fullscreen.style.position = 'fixed';\n",
    "    fullscreen.style.top = '0';\n",
    "    fullscreen.style.left = '0';\n",
    "    fullscreen.style.width = '100%';\n",
    "    fullscreen.style.height = '100%';\n",
    "    fullscreen.style.background = 'rgba(0, 0, 0, 0.8)';\n",
    "    fullscreen.style.display = 'flex';\n",
    "    fullscreen.style.alignItems = 'center';\n",
    "    fullscreen.style.justifyContent = 'center';\n",
    "    fullscreen.style.zIndex = '9999';\n",
    "    fullscreen.style.cursor = 'pointer';\n",
    "\n",
    "    const fullscreenImg = document.createElement('img');\n",
    "    fullscreenImg.src = img.src;\n",
    "    fullscreenImg.style.maxWidth = '90%';\n",
    "    fullscreenImg.style.maxHeight = '120%';\n",
    "    fullscreenImg.style.border = '5px solid white';\n",
    "    fullscreen.appendChild(fullscreenImg);\n",
    "\n",
    "    fullscreen.onclick = () => document.body.removeChild(fullscreen);\n",
    "    document.body.appendChild(fullscreen);\n",
    "  }\n",
    "</script>\n"
   ]
  },
  {
   "cell_type": "markdown",
   "metadata": {
    "slideshow": {
     "slide_type": "slide"
    }
   },
   "source": [
    "# Data Loading and Cleaning."
   ]
  },
  {
   "cell_type": "markdown",
   "metadata": {},
   "source": [
    "> The HTML.SLIDESHOW Version will only have snips of code. To see the full implementation, check the [notebook version](https://github.com/DefoNotGus/DV_assesment/blob/main/DV_assesment.slides.html)."
   ]
  },
  {
   "cell_type": "markdown",
   "metadata": {
    "slideshow": {
     "slide_type": "fragment"
    }
   },
   "source": [
    "### Content:\n",
    "- Missing data handling\n",
    "- One change or creation of a new feature\n",
    "- One technique to handle/explore rows for at least one of the data files\n",
    "- At least one merging between a minimum of two data files\n",
    "- One data aggregation OR melt/pivot of a data file before/after the merge"
   ]
  },
  {
   "cell_type": "markdown",
   "metadata": {
    "slideshow": {
     "slide_type": "subslide"
    }
   },
   "source": [
    "Datasets are loaded into variables using `pd.read_csv()` from the Pandas library."
   ]
  },
  {
   "cell_type": "code",
   "execution_count": 11,
   "metadata": {},
   "outputs": [],
   "source": [
    "# Importing the CSV files\n",
    "coffee_df = pd.read_csv('Datasets/coffee.csv')\n",
    "smoking_df = pd.read_csv('Datasets/smoking.csv')\n",
    "gamers_df = pd.read_csv('Datasets/gamers.csv')\n",
    "edstats_df = pd.read_csv('Datasets/edstats.csv')\n",
    "students_df = pd.read_csv('Datasets/students.csv')"
   ]
  },
  {
   "cell_type": "markdown",
   "metadata": {
    "slideshow": {
     "slide_type": "subslide"
    }
   },
   "source": [
    "## Missing Data Handling:\n",
    "Missing data was handled using `.dropna()` to remove any rows containing NaN values. This is an essential step in ensuring that the dataset is clean before further processing. Missing or empty values were also checked by using .isin(['', None]) to count the remaining empty values."
   ]
  },
  {
   "cell_type": "markdown",
   "metadata": {},
   "source": [
    "<div style=\"text-align: center;\">\n",
    "  <img src=\"img/img2.png\" alt=\"Image\" style=\"width:600px; cursor: pointer;\" onclick=\"openFullscreen(this)\">\n",
    "</div>\n",
    "\n",
    "<script>\n",
    "  function openFullscreen(img) {\n",
    "    const fullscreen = document.createElement('div');\n",
    "    fullscreen.style.position = 'fixed';\n",
    "    fullscreen.style.top = '0';\n",
    "    fullscreen.style.left = '0';\n",
    "    fullscreen.style.width = '100%';\n",
    "    fullscreen.style.height = '100%';\n",
    "    fullscreen.style.background = 'rgba(0, 0, 0, 0.8)';\n",
    "    fullscreen.style.display = 'flex';\n",
    "    fullscreen.style.alignItems = 'center';\n",
    "    fullscreen.style.justifyContent = 'center';\n",
    "    fullscreen.style.zIndex = '9999';\n",
    "    fullscreen.style.cursor = 'pointer';\n",
    "\n",
    "    const fullscreenImg = document.createElement('img');\n",
    "    fullscreenImg.src = img.src;\n",
    "    fullscreenImg.style.maxWidth = '90%';\n",
    "    fullscreenImg.style.maxHeight = '120%';\n",
    "    fullscreenImg.style.border = '5px solid white';\n",
    "    fullscreen.appendChild(fullscreenImg);\n",
    "\n",
    "    fullscreen.onclick = () => document.body.removeChild(fullscreen);\n",
    "    document.body.appendChild(fullscreen);\n",
    "  }\n",
    "</script>\n"
   ]
  },
  {
   "cell_type": "markdown",
   "metadata": {
    "slideshow": {
     "slide_type": "subslide"
    }
   },
   "source": [
    "## Creating or Changin a feature\n",
    "example 1: we created a new feature called Rank using the `.assign()` method."
   ]
  },
  {
   "cell_type": "markdown",
   "metadata": {},
   "source": [
    "<div style=\"text-align: center;\">\n",
    "  <img src=\"img/img3.png\" alt=\"Image\" style=\"width:600px; cursor: pointer;\" onclick=\"openFullscreen(this)\">\n",
    "</div>\n",
    "\n",
    "<script>\n",
    "  function openFullscreen(img) {\n",
    "    const fullscreen = document.createElement('div');\n",
    "    fullscreen.style.position = 'fixed';\n",
    "    fullscreen.style.top = '0';\n",
    "    fullscreen.style.left = '0';\n",
    "    fullscreen.style.width = '100%';\n",
    "    fullscreen.style.height = '100%';\n",
    "    fullscreen.style.background = 'rgba(0, 0, 0, 0.8)';\n",
    "    fullscreen.style.display = 'flex';\n",
    "    fullscreen.style.alignItems = 'center';\n",
    "    fullscreen.style.justifyContent = 'center';\n",
    "    fullscreen.style.zIndex = '9999';\n",
    "    fullscreen.style.cursor = 'pointer';\n",
    "\n",
    "    const fullscreenImg = document.createElement('img');\n",
    "    fullscreenImg.src = img.src;\n",
    "    fullscreenImg.style.maxWidth = '90%';\n",
    "    fullscreenImg.style.maxHeight = '120%';\n",
    "    fullscreenImg.style.border = '5px solid white';\n",
    "    fullscreen.appendChild(fullscreenImg);\n",
    "\n",
    "    fullscreen.onclick = () => document.body.removeChild(fullscreen);\n",
    "    document.body.appendChild(fullscreen);\n",
    "  }\n",
    "</script>\n"
   ]
  },
  {
   "cell_type": "markdown",
   "metadata": {
    "slideshow": {
     "slide_type": "fragment"
    }
   },
   "source": [
    "Example 2: We use `.rename()` to rename a feature"
   ]
  },
  {
   "cell_type": "markdown",
   "metadata": {},
   "source": [
    "<div style=\"text-align: center;\">\n",
    "  <img src=\"img/img7.png\" alt=\"Image\" style=\"width:600px; cursor: pointer;\" onclick=\"openFullscreen(this)\">\n",
    "</div>\n",
    "\n",
    "<script>\n",
    "  function openFullscreen(img) {\n",
    "    const fullscreen = document.createElement('div');\n",
    "    fullscreen.style.position = 'fixed';\n",
    "    fullscreen.style.top = '0';\n",
    "    fullscreen.style.left = '0';\n",
    "    fullscreen.style.width = '100%';\n",
    "    fullscreen.style.height = '100%';\n",
    "    fullscreen.style.background = 'rgba(0, 0, 0, 0.8)';\n",
    "    fullscreen.style.display = 'flex';\n",
    "    fullscreen.style.alignItems = 'center';\n",
    "    fullscreen.style.justifyContent = 'center';\n",
    "    fullscreen.style.zIndex = '9999';\n",
    "    fullscreen.style.cursor = 'pointer';\n",
    "\n",
    "    const fullscreenImg = document.createElement('img');\n",
    "    fullscreenImg.src = img.src;\n",
    "    fullscreenImg.style.maxWidth = '90%';\n",
    "    fullscreenImg.style.maxHeight = '120%';\n",
    "    fullscreenImg.style.border = '5px solid white';\n",
    "    fullscreen.appendChild(fullscreenImg);\n",
    "\n",
    "    fullscreen.onclick = () => document.body.removeChild(fullscreen);\n",
    "    document.body.appendChild(fullscreen);\n",
    "  }\n",
    "</script>\n"
   ]
  },
  {
   "cell_type": "markdown",
   "metadata": {
    "slideshow": {
     "slide_type": "subslide"
    }
   },
   "source": [
    "## Handle and explore rows\n",
    "To explore data we used `ipywidgets`(library), `Tabulate`, `.head()` and `tail()` methods. It has been converted into HTML code for improved interface. "
   ]
  },
  {
   "cell_type": "markdown",
   "metadata": {},
   "source": [
    "<div style=\"text-align: center;\">\n",
    "  <img src=\"img/img4.png\" alt=\"Image\" style=\"width:600px; cursor: pointer;\" onclick=\"openFullscreen(this)\">\n",
    "</div>\n",
    "\n",
    "<script>\n",
    "  function openFullscreen(img) {\n",
    "    const fullscreen = document.createElement('div');\n",
    "    fullscreen.style.position = 'fixed';\n",
    "    fullscreen.style.top = '0';\n",
    "    fullscreen.style.left = '0';\n",
    "    fullscreen.style.width = '100%';\n",
    "    fullscreen.style.height = '100%';\n",
    "    fullscreen.style.background = 'rgba(0, 0, 0, 0.8)';\n",
    "    fullscreen.style.display = 'flex';\n",
    "    fullscreen.style.alignItems = 'center';\n",
    "    fullscreen.style.justifyContent = 'center';\n",
    "    fullscreen.style.zIndex = '9999';\n",
    "    fullscreen.style.cursor = 'pointer';\n",
    "\n",
    "    const fullscreenImg = document.createElement('img');\n",
    "    fullscreenImg.src = img.src;\n",
    "    fullscreenImg.style.maxWidth = '90%';\n",
    "    fullscreenImg.style.maxHeight = '120%';\n",
    "    fullscreenImg.style.border = '5px solid white';\n",
    "    fullscreen.appendChild(fullscreenImg);\n",
    "\n",
    "    fullscreen.onclick = () => document.body.removeChild(fullscreen);\n",
    "    document.body.appendChild(fullscreen);\n",
    "  }\n",
    "</script>\n"
   ]
  },
  {
   "cell_type": "markdown",
   "metadata": {
    "slideshow": {
     "slide_type": "subslide"
    }
   },
   "source": [
    "## Meging Dataframes\n",
    "We merge them using `.merge()` as shown below.\n",
    "- how='inner' specifies that only the rows with matching index values in both dataframes are merged.\n",
    "- This adds a suffix to overlapping column names in the merging database to avoid naming conflicts with columns"
   ]
  },
  {
   "cell_type": "markdown",
   "metadata": {},
   "source": [
    "<div style=\"text-align: center;\">\n",
    "  <img src=\"img/img5.png\" alt=\"Image\" style=\"width:600px; cursor: pointer;\" onclick=\"openFullscreen(this)\">\n",
    "</div>\n",
    "\n",
    "<script>\n",
    "  function openFullscreen(img) {\n",
    "    const fullscreen = document.createElement('div');\n",
    "    fullscreen.style.position = 'fixed';\n",
    "    fullscreen.style.top = '0';\n",
    "    fullscreen.style.left = '0';\n",
    "    fullscreen.style.width = '100%';\n",
    "    fullscreen.style.height = '100%';\n",
    "    fullscreen.style.background = 'rgba(0, 0, 0, 0.8)';\n",
    "    fullscreen.style.display = 'flex';\n",
    "    fullscreen.style.alignItems = 'center';\n",
    "    fullscreen.style.justifyContent = 'center';\n",
    "    fullscreen.style.zIndex = '9999';\n",
    "    fullscreen.style.cursor = 'pointer';\n",
    "\n",
    "    const fullscreenImg = document.createElement('img');\n",
    "    fullscreenImg.src = img.src;\n",
    "    fullscreenImg.style.maxWidth = '90%';\n",
    "    fullscreenImg.style.maxHeight = '120%';\n",
    "    fullscreenImg.style.border = '5px solid white';\n",
    "    fullscreen.appendChild(fullscreenImg);\n",
    "\n",
    "    fullscreen.onclick = () => document.body.removeChild(fullscreen);\n",
    "    document.body.appendChild(fullscreen);\n",
    "  }\n",
    "</script>\n"
   ]
  },
  {
   "cell_type": "markdown",
   "metadata": {
    "slideshow": {
     "slide_type": "subslide"
    }
   },
   "source": [
    "## Data Aggregation \n",
    "We used `.assign()` for a simple process of data aggregation. Calculating the average value of 3 features using `.mean()`and adding it in a new feature called 'Ranks'  in the same row using `(axis=1)`"
   ]
  },
  {
   "cell_type": "markdown",
   "metadata": {},
   "source": [
    "<div style=\"text-align: center;\">\n",
    "  <img src=\"img/img6.png\" alt=\"Image\" style=\"width:600px; cursor: pointer;\" onclick=\"openFullscreen(this)\">\n",
    "</div>\n",
    "\n",
    "<script>\n",
    "  function openFullscreen(img) {\n",
    "    const fullscreen = document.createElement('div');\n",
    "    fullscreen.style.position = 'fixed';\n",
    "    fullscreen.style.top = '0';\n",
    "    fullscreen.style.left = '0';\n",
    "    fullscreen.style.width = '100%';\n",
    "    fullscreen.style.height = '100%';\n",
    "    fullscreen.style.background = 'rgba(0, 0, 0, 0.8)';\n",
    "    fullscreen.style.display = 'flex';\n",
    "    fullscreen.style.alignItems = 'center';\n",
    "    fullscreen.style.justifyContent = 'center';\n",
    "    fullscreen.style.zIndex = '9999';\n",
    "    fullscreen.style.cursor = 'pointer';\n",
    "\n",
    "    const fullscreenImg = document.createElement('img');\n",
    "    fullscreenImg.src = img.src;\n",
    "    fullscreenImg.style.maxWidth = '90%';\n",
    "    fullscreenImg.style.maxHeight = '120%';\n",
    "    fullscreenImg.style.border = '5px solid white';\n",
    "    fullscreen.appendChild(fullscreenImg);\n",
    "\n",
    "    fullscreen.onclick = () => document.body.removeChild(fullscreen);\n",
    "    document.body.appendChild(fullscreen);\n",
    "  }\n",
    "</script>\n"
   ]
  },
  {
   "cell_type": "markdown",
   "metadata": {
    "slideshow": {
     "slide_type": "slide"
    }
   },
   "source": [
    "# Thank you for watching\n",
    "\"Being healthier does not mean being wise. But Being wise means being healthier. \" \n",
    "> [Infographic](https://www.canva.com/design/DAGXrjer7kU/JBxo4YxgOL8f5c8Tm-RwwQ/view?utm_content=DAGXrjer7kU&utm_campaign=designshare&utm_medium=link&utm_source=editor) "
   ]
  },
  {
   "cell_type": "markdown",
   "metadata": {},
   "source": [
    "<div style=\"text-align: center;\">\n",
    "  <img src=\"img/ty.png\" alt=\"Image\" style=\"width:300px; cursor: pointer;\" onclick=\"openFullscreen(this)\">\n",
    "  <img src=\"img/ty2.png\" alt=\"Image\" style=\"width:300px; cursor: pointer;\" onclick=\"openFullscreen(this)\">\n",
    "</div>\n",
    "\n",
    "<script>\n",
    "  function openFullscreen(img) {\n",
    "    const fullscreen = document.createElement('div');\n",
    "    fullscreen.style.position = 'fixed';\n",
    "    fullscreen.style.top = '0';\n",
    "    fullscreen.style.left = '0';\n",
    "    fullscreen.style.width = '100%';\n",
    "    fullscreen.style.height = '100%';\n",
    "    fullscreen.style.background = 'rgba(0, 0, 0, 0.8)';\n",
    "    fullscreen.style.display = 'flex';\n",
    "    fullscreen.style.alignItems = 'center';\n",
    "    fullscreen.style.justifyContent = 'center';\n",
    "    fullscreen.style.zIndex = '9999';\n",
    "    fullscreen.style.cursor = 'pointer';\n",
    "\n",
    "    const fullscreenImg = document.createElement('img');\n",
    "    fullscreenImg.src = img.src;\n",
    "    fullscreenImg.style.maxWidth = '90%';\n",
    "    fullscreenImg.style.maxHeight = '120%';\n",
    "    fullscreenImg.style.border = '5px solid white';\n",
    "    fullscreen.appendChild(fullscreenImg);\n",
    "\n",
    "    fullscreen.onclick = () => document.body.removeChild(fullscreen);\n",
    "    document.body.appendChild(fullscreen);\n",
    "  }\n",
    "</script>\n"
   ]
  }
 ],
 "metadata": {
  "kernelspec": {
   "display_name": ".venv",
   "language": "python",
   "name": "python3"
  },
  "language_info": {
   "codemirror_mode": {
    "name": "ipython",
    "version": 3
   },
   "file_extension": ".py",
   "mimetype": "text/x-python",
   "name": "python",
   "nbconvert_exporter": "python",
   "pygments_lexer": "ipython3",
   "version": "3.12.5"
  }
 },
 "nbformat": 4,
 "nbformat_minor": 2
}
